{
 "cells": [
  {
   "cell_type": "code",
   "execution_count": 1,
   "metadata": {},
   "outputs": [],
   "source": [
    "import numpy as np\n",
    "import pandas as pd\n",
    "import torch\n",
    "from torch.autograd import Variable\n",
    "import torch.nn as nn\n",
    "import torch.nn.functional as F\n",
    "import torch.utils.data as utils\n",
    "import matplotlib.pyplot as plt\n",
    "import statistics \n",
    "from statistics import mode\n",
    "from torch.optim.lr_scheduler import StepLR\n",
    "%matplotlib inline"
   ]
  },
  {
   "cell_type": "code",
   "execution_count": 2,
   "metadata": {},
   "outputs": [],
   "source": [
    "def train_epoch(model, opt, criterion, batch_size=100):\n",
    "    model.train()\n",
    "    losses = []\n",
    "    for index in range(0, x_train.shape[0], batch_size):\n",
    "        x_batch = x_train[index:index + batch_size, :]\n",
    "        label_batch = labels[index:index + batch_size, :]\n",
    "        opt.zero_grad()\n",
    "        prediction = model(x_batch)\n",
    "        loss = criterion(prediction,label_batch)\n",
    "        loss.backward()\n",
    "        opt.step()\n",
    "        losses.append(loss.item())\n",
    "    losses = sum(losses)/len(losses)\n",
    "    return losses"
   ]
  },
  {
   "cell_type": "code",
   "execution_count": 3,
   "metadata": {},
   "outputs": [],
   "source": [
    "def baselinePrediction(output1):\n",
    "    predictions_array=[]\n",
    "    for i in range(5):\n",
    "        test=np.random.randint(2, size=len(x_test))\n",
    "        test = list(test)\n",
    "        predictions_array.append(test)\n",
    "    predictions_array = np.array(predictions_array)\n",
    "    print(predictions_array.shape)\n",
    "    final_prediction =np.zeros(predictions_array.shape[1])\n",
    "    for i in range(predictions_array.shape[1]):\n",
    "        temp_list=predictions_array[:,i].tolist()\n",
    "        final_prediction[i]=mode(temp_list)\n",
    "    count=0\n",
    "    for i in range(output1.shape[0]):\n",
    "        if(output1[i]==final_prediction[i]):\n",
    "            count = count+1\n",
    "    print(\"Accuracy is \", (count/final_prediction.shape[0])*100)\n",
    "    return (count/final_prediction.shape[0])*100"
   ]
  },
  {
   "cell_type": "code",
   "execution_count": 4,
   "metadata": {},
   "outputs": [],
   "source": [
    "def testingAccuracy(model,x_test,output1):\n",
    "    predictions_array=[]\n",
    "    model = model.eval()\n",
    "    with torch.no_grad():\n",
    "        predictions = model(x_test)\n",
    "    test = np.asarray(predictions)\n",
    "    \n",
    "    test[test>0.5]=1\n",
    "    test[test<=0.5]=0\n",
    "\n",
    "    count=0\n",
    "    for i in range(test.shape[0]):\n",
    "        if(output1[i]==test[i]):\n",
    "            count = count+1\n",
    "    print(\"Accuracy is \", (count/test.shape[0])*100)\n",
    "    return (count/test.shape[0])*100"
   ]
  },
  {
   "cell_type": "code",
   "execution_count": 5,
   "metadata": {},
   "outputs": [],
   "source": [
    "#change the dataframe to numpy array to tensor array\n",
    "def changeToTensor(dataFrame):\n",
    "    dataFrame= (dataFrame-dataFrame.min())/(dataFrame.max()-dataFrame.min())\n",
    "    x = dataFrame.values\n",
    "    x= x.astype('float64')\n",
    "    x= torch.Tensor(x)\n",
    "    return x"
   ]
  },
  {
   "cell_type": "code",
   "execution_count": 6,
   "metadata": {},
   "outputs": [],
   "source": [
    "def preProcess(data):\n",
    "    data_numpy = data.values\n",
    "    labels = data_numpy[:,-1]\n",
    "    labels= labels.astype('float64')\n",
    "    #labels= torch.Tensor(labels)\n",
    "    data_numpy = data.drop(['date','Occupancy'],axis=1)\n",
    "    features = changeToTensor(data_numpy)\n",
    "    return features, labels"
   ]
  },
  {
   "cell_type": "code",
   "execution_count": 7,
   "metadata": {},
   "outputs": [],
   "source": [
    "class Net_2Layer(nn.Module):\n",
    "    def __init__(self,size,H_size,H2_size):\n",
    "        super(Net_2Layer, self).__init__()\n",
    "        self.fc1 = nn.Linear(size,H_size)\n",
    "        self.relu = nn.ReLU()\n",
    "        self.fc2 = nn.Linear(H_size,H2_size)\n",
    "        self.relu = nn.ReLU()\n",
    "        self.fc3 = nn.Linear(H2_size,1)\n",
    "        self.sigmoid = nn.Sigmoid()\n",
    "    def forward(self, x):\n",
    "        x = self.fc1(x)\n",
    "        x = self.relu(x)\n",
    "        x = self.fc2(x)\n",
    "        x = self.relu(x)\n",
    "        x = self.fc3(x)\n",
    "        x = self.sigmoid(x)\n",
    "        return x"
   ]
  },
  {
   "cell_type": "code",
   "execution_count": 8,
   "metadata": {},
   "outputs": [],
   "source": [
    "### create a model with pytorch#####\n",
    "class Net_H(nn.Module):\n",
    "    def __init__(self,size,H_size):\n",
    "        super(Net_H, self).__init__()\n",
    "        self.fc1 = nn.Linear(size,H_size)\n",
    "        self.relu = nn.ReLU()\n",
    "        self.fc2 = nn.Linear(H_size,1)\n",
    "        self.sigmoid = nn.Sigmoid()\n",
    "    def forward(self, x):\n",
    "        x = self.fc1(x)\n",
    "        x = self.relu(x)\n",
    "        x = self.fc2(x)\n",
    "        x = self.sigmoid(x)\n",
    "        return x"
   ]
  },
  {
   "cell_type": "code",
   "execution_count": 9,
   "metadata": {},
   "outputs": [],
   "source": [
    "### create a model with pytorch#####\n",
    "class Net_5(nn.Module):\n",
    "    def __init__(self,size):\n",
    "        super(Net_5, self).__init__()\n",
    "        self.fc1 = nn.Linear(size,5)\n",
    "        self.relu = nn.ReLU()\n",
    "        self.fc2 = nn.Linear(5,1)\n",
    "        self.sigmoid = nn.Sigmoid()\n",
    "    def forward(self, x):\n",
    "        x = self.fc1(x)\n",
    "        x = self.relu(x)\n",
    "        x = self.fc2(x)\n",
    "        x = self.sigmoid(x)\n",
    "        return x"
   ]
  },
  {
   "cell_type": "code",
   "execution_count": 10,
   "metadata": {},
   "outputs": [],
   "source": [
    "num_epochs = 100"
   ]
  },
  {
   "cell_type": "code",
   "execution_count": 11,
   "metadata": {},
   "outputs": [],
   "source": [
    "criteria= nn.BCELoss()"
   ]
  },
  {
   "cell_type": "code",
   "execution_count": 12,
   "metadata": {},
   "outputs": [],
   "source": [
    "train_data = pd.read_csv('train.txt',sep=',')\n",
    "test_data = pd.read_csv('test.txt',sep=',')"
   ]
  },
  {
   "cell_type": "code",
   "execution_count": 13,
   "metadata": {},
   "outputs": [
    {
     "data": {
      "text/html": [
       "<div>\n",
       "<style scoped>\n",
       "    .dataframe tbody tr th:only-of-type {\n",
       "        vertical-align: middle;\n",
       "    }\n",
       "\n",
       "    .dataframe tbody tr th {\n",
       "        vertical-align: top;\n",
       "    }\n",
       "\n",
       "    .dataframe thead th {\n",
       "        text-align: right;\n",
       "    }\n",
       "</style>\n",
       "<table border=\"1\" class=\"dataframe\">\n",
       "  <thead>\n",
       "    <tr style=\"text-align: right;\">\n",
       "      <th></th>\n",
       "      <th>date</th>\n",
       "      <th>Temperature</th>\n",
       "      <th>Humidity</th>\n",
       "      <th>Light</th>\n",
       "      <th>CO2</th>\n",
       "      <th>HumidityRatio</th>\n",
       "      <th>Occupancy</th>\n",
       "    </tr>\n",
       "  </thead>\n",
       "  <tbody>\n",
       "    <tr>\n",
       "      <th>1</th>\n",
       "      <td>2015-02-04 17:51:00</td>\n",
       "      <td>23.18</td>\n",
       "      <td>27.2720</td>\n",
       "      <td>426.0</td>\n",
       "      <td>721.25</td>\n",
       "      <td>0.004793</td>\n",
       "      <td>1</td>\n",
       "    </tr>\n",
       "    <tr>\n",
       "      <th>2</th>\n",
       "      <td>2015-02-04 17:51:59</td>\n",
       "      <td>23.15</td>\n",
       "      <td>27.2675</td>\n",
       "      <td>429.5</td>\n",
       "      <td>714.00</td>\n",
       "      <td>0.004783</td>\n",
       "      <td>1</td>\n",
       "    </tr>\n",
       "    <tr>\n",
       "      <th>3</th>\n",
       "      <td>2015-02-04 17:53:00</td>\n",
       "      <td>23.15</td>\n",
       "      <td>27.2450</td>\n",
       "      <td>426.0</td>\n",
       "      <td>713.50</td>\n",
       "      <td>0.004779</td>\n",
       "      <td>1</td>\n",
       "    </tr>\n",
       "    <tr>\n",
       "      <th>4</th>\n",
       "      <td>2015-02-04 17:54:00</td>\n",
       "      <td>23.15</td>\n",
       "      <td>27.2000</td>\n",
       "      <td>426.0</td>\n",
       "      <td>708.25</td>\n",
       "      <td>0.004772</td>\n",
       "      <td>1</td>\n",
       "    </tr>\n",
       "    <tr>\n",
       "      <th>5</th>\n",
       "      <td>2015-02-04 17:55:00</td>\n",
       "      <td>23.10</td>\n",
       "      <td>27.2000</td>\n",
       "      <td>426.0</td>\n",
       "      <td>704.50</td>\n",
       "      <td>0.004757</td>\n",
       "      <td>1</td>\n",
       "    </tr>\n",
       "  </tbody>\n",
       "</table>\n",
       "</div>"
      ],
      "text/plain": [
       "                  date  Temperature  Humidity  Light     CO2  HumidityRatio  \\\n",
       "1  2015-02-04 17:51:00        23.18   27.2720  426.0  721.25       0.004793   \n",
       "2  2015-02-04 17:51:59        23.15   27.2675  429.5  714.00       0.004783   \n",
       "3  2015-02-04 17:53:00        23.15   27.2450  426.0  713.50       0.004779   \n",
       "4  2015-02-04 17:54:00        23.15   27.2000  426.0  708.25       0.004772   \n",
       "5  2015-02-04 17:55:00        23.10   27.2000  426.0  704.50       0.004757   \n",
       "\n",
       "   Occupancy  \n",
       "1          1  \n",
       "2          1  \n",
       "3          1  \n",
       "4          1  \n",
       "5          1  "
      ]
     },
     "execution_count": 13,
     "metadata": {},
     "output_type": "execute_result"
    }
   ],
   "source": [
    "train_data.head()"
   ]
  },
  {
   "cell_type": "code",
   "execution_count": 14,
   "metadata": {},
   "outputs": [
    {
     "name": "stdout",
     "output_type": "stream",
     "text": [
      "torch.Size([8143, 5]) torch.Size([8143, 1])\n"
     ]
    }
   ],
   "source": [
    "x_train, labels =preProcess(train_data)\n",
    "labels_accuracy = labels\n",
    "labels= torch.Tensor(labels)\n",
    "labels = labels.unsqueeze(1)\n",
    "print(x_train.shape, labels.shape)\n",
    "# train_numpy = train_data.values\n",
    "# labels = train_numpy[:,-1]\n",
    "#  labels= labels.astype('float64')\n",
    "# labels= torch.Tensor(labels)\n",
    "# train_data = train_data.drop(['date','Occupancy'],axis=1)\n",
    "# x_train = changeToTensor(train_data)"
   ]
  },
  {
   "cell_type": "code",
   "execution_count": 15,
   "metadata": {},
   "outputs": [],
   "source": [
    "x_test, output = preProcess(test_data)\n",
    "# test_numpy = test_data.values\n",
    "# output = test_numpy[:,-1]\n",
    "# output=output.astype('float64')\n",
    "# test_data = test_data.drop(['date','Occupancy'],axis=1)\n",
    "# x_test = changeToTensor(test_data)"
   ]
  },
  {
   "cell_type": "code",
   "execution_count": 16,
   "metadata": {},
   "outputs": [],
   "source": [
    "### Part (a) printing the loss value across 100 epochs for batch training"
   ]
  },
  {
   "cell_type": "code",
   "execution_count": 17,
   "metadata": {},
   "outputs": [],
   "source": [
    "model = Net_5(x_train.shape[1])\n",
    "optimizer = torch.optim.Adam(model.parameters(),lr=0.001)"
   ]
  },
  {
   "cell_type": "code",
   "execution_count": 18,
   "metadata": {},
   "outputs": [
    {
     "name": "stdout",
     "output_type": "stream",
     "text": [
      "For epoch  1 loss is  0.6586898565292358\n",
      "For epoch  2 loss is  0.6579793691635132\n",
      "For epoch  3 loss is  0.6572721004486084\n",
      "For epoch  4 loss is  0.6565635204315186\n",
      "For epoch  5 loss is  0.6558536887168884\n",
      "For epoch  6 loss is  0.6551413536071777\n",
      "For epoch  7 loss is  0.6544299721717834\n",
      "For epoch  8 loss is  0.6537187695503235\n",
      "For epoch  9 loss is  0.6530070304870605\n",
      "For epoch  10 loss is  0.6522971987724304\n",
      "For epoch  11 loss is  0.6515845060348511\n",
      "For epoch  12 loss is  0.650874137878418\n",
      "For epoch  13 loss is  0.6501624584197998\n",
      "For epoch  14 loss is  0.6494519710540771\n",
      "For epoch  15 loss is  0.6487388014793396\n",
      "For epoch  16 loss is  0.6480262279510498\n",
      "For epoch  17 loss is  0.6473132967948914\n",
      "For epoch  18 loss is  0.646600067615509\n",
      "For epoch  19 loss is  0.645888090133667\n",
      "For epoch  20 loss is  0.6451760530471802\n",
      "For epoch  21 loss is  0.6444621086120605\n",
      "For epoch  22 loss is  0.6437508463859558\n",
      "For epoch  23 loss is  0.6430367231369019\n",
      "For epoch  24 loss is  0.6423264145851135\n",
      "For epoch  25 loss is  0.6416125893592834\n",
      "For epoch  26 loss is  0.6409013271331787\n",
      "For epoch  27 loss is  0.6401903033256531\n",
      "For epoch  28 loss is  0.6394778490066528\n",
      "For epoch  29 loss is  0.6387655735015869\n",
      "For epoch  30 loss is  0.6380552649497986\n",
      "For epoch  31 loss is  0.6373433470726013\n",
      "For epoch  32 loss is  0.6366305351257324\n",
      "For epoch  33 loss is  0.6359197497367859\n",
      "For epoch  34 loss is  0.635208249092102\n",
      "For epoch  35 loss is  0.6344988942146301\n",
      "For epoch  36 loss is  0.6337900757789612\n",
      "For epoch  37 loss is  0.6330794095993042\n",
      "For epoch  38 loss is  0.6323703527450562\n",
      "For epoch  39 loss is  0.6316596865653992\n",
      "For epoch  40 loss is  0.6309517025947571\n",
      "For epoch  41 loss is  0.6302425861358643\n",
      "For epoch  42 loss is  0.6295315027236938\n",
      "For epoch  43 loss is  0.6288209557533264\n",
      "For epoch  44 loss is  0.6281102895736694\n",
      "For epoch  45 loss is  0.627402126789093\n",
      "For epoch  46 loss is  0.6266928315162659\n",
      "For epoch  47 loss is  0.6259838938713074\n",
      "For epoch  48 loss is  0.6252724528312683\n",
      "For epoch  49 loss is  0.6245624423027039\n",
      "For epoch  50 loss is  0.623853325843811\n",
      "For epoch  51 loss is  0.6231415867805481\n",
      "For epoch  52 loss is  0.6224314570426941\n",
      "For epoch  53 loss is  0.6217218041419983\n",
      "For epoch  54 loss is  0.621012806892395\n",
      "For epoch  55 loss is  0.6203028559684753\n",
      "For epoch  56 loss is  0.619594156742096\n",
      "For epoch  57 loss is  0.61888587474823\n",
      "For epoch  58 loss is  0.6181773543357849\n",
      "For epoch  59 loss is  0.6174678802490234\n",
      "For epoch  60 loss is  0.6167609095573425\n",
      "For epoch  61 loss is  0.6160540580749512\n",
      "For epoch  62 loss is  0.6153469085693359\n",
      "For epoch  63 loss is  0.6146384477615356\n",
      "For epoch  64 loss is  0.6139329075813293\n",
      "For epoch  65 loss is  0.6132277846336365\n",
      "For epoch  66 loss is  0.6125218868255615\n",
      "For epoch  67 loss is  0.6118191480636597\n",
      "For epoch  68 loss is  0.6111134886741638\n",
      "For epoch  69 loss is  0.6104088425636292\n",
      "For epoch  70 loss is  0.6097068190574646\n",
      "For epoch  71 loss is  0.6090037226676941\n",
      "For epoch  72 loss is  0.6083021759986877\n",
      "For epoch  73 loss is  0.6076014041900635\n",
      "For epoch  74 loss is  0.6069002151489258\n",
      "For epoch  75 loss is  0.6062004566192627\n",
      "For epoch  76 loss is  0.6055020689964294\n",
      "For epoch  77 loss is  0.6048022508621216\n",
      "For epoch  78 loss is  0.6041030287742615\n",
      "For epoch  79 loss is  0.6034035086631775\n",
      "For epoch  80 loss is  0.6027040481567383\n",
      "For epoch  81 loss is  0.602004885673523\n",
      "For epoch  82 loss is  0.6013031005859375\n",
      "For epoch  83 loss is  0.6005977392196655\n",
      "For epoch  84 loss is  0.599884569644928\n",
      "For epoch  85 loss is  0.599174976348877\n",
      "For epoch  86 loss is  0.5984621644020081\n",
      "For epoch  87 loss is  0.597746729850769\n",
      "For epoch  88 loss is  0.5970309376716614\n",
      "For epoch  89 loss is  0.5963143110275269\n",
      "For epoch  90 loss is  0.5956001877784729\n",
      "For epoch  91 loss is  0.5948846340179443\n",
      "For epoch  92 loss is  0.5941723585128784\n",
      "For epoch  93 loss is  0.5934609770774841\n",
      "For epoch  94 loss is  0.5927491784095764\n",
      "For epoch  95 loss is  0.5920405983924866\n",
      "For epoch  96 loss is  0.5913296341896057\n",
      "For epoch  97 loss is  0.5906232595443726\n",
      "For epoch  98 loss is  0.58991539478302\n",
      "For epoch  99 loss is  0.5892125964164734\n",
      "For epoch  100 loss is  0.5885100960731506\n"
     ]
    }
   ],
   "source": [
    "loss_to_plot_batch=[]\n",
    "for e in range(num_epochs):\n",
    "    e_losses = train_epoch(model,optimizer ,criteria,x_train.shape[0])\n",
    "    loss_to_plot_batch.append(e_losses)\n",
    "    print(\"For epoch \",e+1,\"loss is \",e_losses)"
   ]
  },
  {
   "cell_type": "code",
   "execution_count": 19,
   "metadata": {},
   "outputs": [
    {
     "name": "stdout",
     "output_type": "stream",
     "text": [
      "(5, 9752)\n",
      "Accuracy is  49.44626743232157\n"
     ]
    }
   ],
   "source": [
    "baseline_accuracy = baselinePrediction(output)"
   ]
  },
  {
   "cell_type": "code",
   "execution_count": 20,
   "metadata": {},
   "outputs": [],
   "source": [
    "baseline_error= 1-(baseline_accuracy/100)\n",
    "baseline_error_plot=[baseline_error]*100"
   ]
  },
  {
   "cell_type": "code",
   "execution_count": 21,
   "metadata": {},
   "outputs": [
    {
     "name": "stdout",
     "output_type": "stream",
     "text": [
      "Accuracy for the testing data with learning rate  0.01\n",
      "Accuracy is  99.23092698933552\n",
      "Accuracy for the training data\n",
      "Accuracy is  98.83335380081051\n",
      "Accuracy for the testing data with learning rate  0.02\n",
      "Accuracy is  98.00041017227235\n",
      "Accuracy for the training data\n",
      "Accuracy is  98.82107331450325\n",
      "Accuracy for the testing data with learning rate  0.001\n",
      "Accuracy is  92.91427399507793\n",
      "Accuracy for the training data\n",
      "Accuracy is  97.71582954685005\n",
      "Accuracy for the testing data with learning rate  0.002\n",
      "Accuracy is  99.25143560295324\n",
      "Accuracy for the training data\n",
      "Accuracy is  98.83335380081051\n"
     ]
    },
    {
     "data": {
      "image/png": "[encoded data removed]",
      "text/plain": [
       "<Figure size 432x288 with 1 Axes>"
      ]
     },
     "metadata": {
      "needs_background": "light"
     },
     "output_type": "display_data"
    }
   ],
   "source": [
    "for learning_rate in [0.01,0.02,0.001,0.002]:\n",
    "    num_epochs = 100\n",
    "    e_losses=[]\n",
    "    loss_across_epoch=[]\n",
    "    model = Net_5(x_train.shape[1])\n",
    "    optimizer = torch.optim.Adam(model.parameters(),lr=learning_rate)\n",
    "    for e in range(num_epochs):\n",
    "        e_losses = train_epoch(model,optimizer ,criteria,100)\n",
    "        loss_across_epoch.append(e_losses)\n",
    "    \n",
    "    print(\"Accuracy for the testing data with learning rate \",learning_rate)\n",
    "    dummy=testingAccuracy(model,x_test,output)\n",
    "    print(\"Accuracy for the training data\")\n",
    "    dummy=testingAccuracy(model,x_train,labels_accuracy)#train_numpy[:,-1].astype('float64'))\n",
    "    plt.title('Training loss across epoch vs number of epochs')\n",
    "    plt.plot(loss_across_epoch)    \n",
    "plt.plot(baseline_error_plot)\n",
    "plt.legend(['0.01','0.02','0.001','0.002','baselineError'], loc='upper right')\n",
    "plt.show()"
   ]
  },
  {
   "cell_type": "code",
   "execution_count": 22,
   "metadata": {},
   "outputs": [
    {
     "data": {
      "text/plain": [
       "[<matplotlib.lines.Line2D at 0x7ff06130f160>]"
      ]
     },
     "execution_count": 22,
     "metadata": {},
     "output_type": "execute_result"
    },
    {
     "data": {
      "image/png": "[encoded data removed]",
      "text/plain": [
       "<Figure size 432x288 with 1 Axes>"
      ]
     },
     "metadata": {
      "needs_background": "light"
     },
     "output_type": "display_data"
    }
   ],
   "source": [
    "plt.title('Batch Gradient descent method for training loss vs epoch')\n",
    "plt.plot(loss_to_plot_batch)"
   ]
  },
  {
   "cell_type": "code",
   "execution_count": 23,
   "metadata": {},
   "outputs": [],
   "source": [
    "#criteria= nn.BCELoss()"
   ]
  },
  {
   "cell_type": "code",
   "execution_count": 24,
   "metadata": {},
   "outputs": [
    {
     "name": "stdout",
     "output_type": "stream",
     "text": [
      "XCriteria is  BCELoss()\n",
      "Accuracy is  95.84919562814687\n",
      "Accuracy is  88.42288761279737\n",
      "Accuracy is  78.76703917475132\n",
      "Accuracy is  78.98892534864643\n",
      "Accuracy is  97.55618322485572\n",
      "Accuracy is  91.1915504511895\n",
      "Accuracy is  96.6842686970404\n",
      "Accuracy is  91.02748154224774\n",
      "Accuracy is  98.25617094436939\n",
      "Accuracy is  91.13002461033635\n"
     ]
    },
    {
     "data": {
      "image/png": "[encoded data removed]",
      "text/plain": [
       "<Figure size 432x288 with 1 Axes>"
      ]
     },
     "metadata": {
      "needs_background": "light"
     },
     "output_type": "display_data"
    }
   ],
   "source": [
    "x_axis=[1,2,5,10,20]\n",
    "print(\"XCriteria is \", criteria)\n",
    "training_accuracy_every_H=[]\n",
    "testing_accuracy_every_H=[]\n",
    "for H in [1,2,5,10,20]:\n",
    "    model = Net_H(x_train.shape[1],H)\n",
    "    optimizer = torch.optim.Adam(model.parameters(),lr=0.1)\n",
    "    scheduler = StepLR(optimizer, step_size=30, gamma=0.1)\n",
    "    for e in range(num_epochs):\n",
    "        e_losses = train_epoch(model,optimizer ,criteria,x_train.shape[0])\n",
    "        scheduler.step()\n",
    "    training_accuracy_every_H.append(testingAccuracy(model,x_train,labels_accuracy))#train_numpy[:,-1].astype('float64')))\n",
    "    testing_accuracy_every_H.append(testingAccuracy(model,x_test,output))\n",
    "plt.title('Training and Testing accuracy across H vs values of H')\n",
    "plt.plot(x_axis,training_accuracy_every_H)\n",
    "plt.plot(x_axis,testing_accuracy_every_H)\n",
    "plt.legend(['Training accuracy','Tesing accuracy'], loc='upper right')\n",
    "plt.show()"
   ]
  },
  {
   "cell_type": "code",
   "execution_count": 25,
   "metadata": {},
   "outputs": [],
   "source": [
    "criteria= nn.MSELoss()"
   ]
  },
  {
   "cell_type": "code",
   "execution_count": 26,
   "metadata": {},
   "outputs": [
    {
     "data": {
      "text/plain": [
       "[<matplotlib.lines.Line2D at 0x7ff0613cdd30>]"
      ]
     },
     "execution_count": 26,
     "metadata": {},
     "output_type": "execute_result"
    },
    {
     "data": {
      "image/png": "[encoded data removed]",
      "text/plain": [
       "<Figure size 432x288 with 1 Axes>"
      ]
     },
     "metadata": {
      "needs_background": "light"
     },
     "output_type": "display_data"
    }
   ],
   "source": [
    "model = Net_5(x_train.shape[1])\n",
    "optimizer = torch.optim.Adam(model.parameters(),lr=0.001)\n",
    "loss_to_plot_batch=[]\n",
    "for e in range(num_epochs):\n",
    "    e_losses = train_epoch(model,optimizer ,criteria,x_train.shape[0])\n",
    "    loss_to_plot_batch.append(e_losses)\n",
    "plt.title('Batch Gradient descent method for training loss vs epoch')\n",
    "plt.plot(loss_to_plot_batch)"
   ]
  },
  {
   "cell_type": "code",
   "execution_count": 27,
   "metadata": {},
   "outputs": [
    {
     "name": "stdout",
     "output_type": "stream",
     "text": [
      "tensor([[ 1.7918e-01,  2.1952e-01,  2.3976e-01, -4.1259e-01,  1.5680e-01],\n",
      "        [-3.1110e-01, -1.3420e-01, -2.4396e-01,  8.0326e-02,  1.4670e-01],\n",
      "        [-2.8113e-01, -2.5386e-01,  2.1524e-01, -4.5082e-01, -4.2566e-01],\n",
      "        [ 4.4325e-02,  6.3694e-03,  4.3829e-04, -4.9263e-01, -6.9450e-02],\n",
      "        [-4.6342e-02,  5.7469e-03,  4.3264e-01,  2.7013e-01,  4.1638e-02]])\n",
      "tensor([ 0.2422, -0.3071, -0.0665,  0.2707, -0.0197])\n",
      "tensor([[-0.3722, -0.1432,  0.3959, -0.1408,  0.1489]])\n",
      "tensor([-0.0981])\n"
     ]
    }
   ],
   "source": [
    "for param in model.parameters ():\n",
    "    print(param.data)"
   ]
  },
  {
   "cell_type": "code",
   "execution_count": 28,
   "metadata": {},
   "outputs": [
    {
     "name": "stdout",
     "output_type": "stream",
     "text": [
      "Criterai is  MSELoss()\n",
      "Accuracy for the testing data with learning rate  0.01\n",
      "Accuracy is  99.1591468416735\n",
      "Accuracy for the training data\n",
      "Accuracy is  98.83335380081051\n",
      "Accuracy for the testing data with learning rate  0.02\n",
      "Accuracy is  98.78999179655456\n",
      "Accuracy for the training data\n",
      "Accuracy is  98.82107331450325\n",
      "Accuracy for the testing data with learning rate  0.001\n",
      "Accuracy is  99.03609515996719\n",
      "Accuracy for the training data\n",
      "Accuracy is  98.05968316345327\n",
      "Accuracy for the testing data with learning rate  0.002\n",
      "Accuracy is  99.22067268252665\n",
      "Accuracy for the training data\n",
      "Accuracy is  98.82107331450325\n"
     ]
    },
    {
     "data": {
      "image/png": "[encoded data removed]",
      "text/plain": [
       "<Figure size 432x288 with 1 Axes>"
      ]
     },
     "metadata": {
      "needs_background": "light"
     },
     "output_type": "display_data"
    }
   ],
   "source": [
    "#criteria= nn.MSELoss()\n",
    "print(\"Criterai is \",criteria)\n",
    "for learning_rate in [0.01,0.02,0.001,0.002]:\n",
    "    #num_epochs = 100\n",
    "    e_losses=[]\n",
    "    loss_across_epoch=[]\n",
    "    model = Net_5(x_train.shape[1])\n",
    "    optimizer = torch.optim.Adam(model.parameters(),lr=learning_rate)\n",
    "    for e in range(num_epochs):\n",
    "        e_losses = train_epoch(model,optimizer ,criteria,100)\n",
    "        loss_across_epoch.append(e_losses)\n",
    "    \n",
    "    print(\"Accuracy for the testing data with learning rate \",learning_rate)\n",
    "    dummy=testingAccuracy(model,x_test,output)\n",
    "    print(\"Accuracy for the training data\")\n",
    "    dummy=testingAccuracy(model,x_train,labels_accuracy)#train_numpy[:,-1].astype('float64'))\n",
    "    plt.title('Training loss across epoch vs number of epochs')\n",
    "    plt.plot(loss_across_epoch)\n",
    "    \n",
    "plt.plot(baseline_error_plot)\n",
    "plt.legend(['0.01','0.02','0.001','0.002','baselineError'], loc='upper right')\n",
    "plt.show()"
   ]
  },
  {
   "cell_type": "code",
   "execution_count": 29,
   "metadata": {},
   "outputs": [
    {
     "name": "stderr",
     "output_type": "stream",
     "text": [
      "/work/test/venv/lib/python3.5/site-packages/torch/optim/lr_scheduler.py:82: UserWarning: Detected call of `lr_scheduler.step()` before `optimizer.step()`. In PyTorch 1.1.0 and later, you should call them in the opposite order: `optimizer.step()` before `lr_scheduler.step()`.  Failure to do this will result in PyTorch skipping the first value of the learning rate schedule.See more details at https://pytorch.org/docs/stable/optim.html#how-to-adjust-learning-rate\n",
      "  \"https://pytorch.org/docs/stable/optim.html#how-to-adjust-learning-rate\", UserWarning)\n"
     ]
    },
    {
     "name": "stdout",
     "output_type": "stream",
     "text": [
      "Accuracy is  78.76703917475132\n",
      "Accuracy is  78.98892534864643\n",
      "Accuracy is  96.11936632690654\n",
      "Accuracy is  89.50984413453651\n",
      "Accuracy is  96.25445167628638\n",
      "Accuracy is  85.55168170631666\n",
      "Accuracy is  97.96143927299521\n",
      "Accuracy is  91.40689089417555\n",
      "Accuracy is  98.14564656760408\n",
      "Accuracy is  94.46267432321575\n"
     ]
    },
    {
     "data": {
      "image/png": "[encoded data removed]",
      "text/plain": [
       "<Figure size 432x288 with 1 Axes>"
      ]
     },
     "metadata": {
      "needs_background": "light"
     },
     "output_type": "display_data"
    }
   ],
   "source": [
    "baselinePredictionepochs=100\n",
    "x_axis=[1,2,5,10,20]\n",
    "training_accuracy_every_H=[]\n",
    "testing_accuracy_every_H=[]\n",
    "# criteria= nn.MSELoss()\n",
    "for H in [1,2,5,10,20]:\n",
    "    model = Net_H(x_train.shape[1],H)\n",
    "    optimizer = torch.optim.Adam(model.parameters(),lr=0.1)\n",
    "    scheduler = StepLR(optimizer, step_size=30, gamma=0.1)\n",
    "    for e in range(num_epochs):\n",
    "        e_losses = train_epoch(model,optimizer,criteria,x_train.shape[0])\n",
    "        scheduler.step()\n",
    "    training_accuracy_every_H.append(testingAccuracy(model,x_train,labels_accuracy))#train_numpy[:,-1].astype('float64')))\n",
    "    testing_accuracy_every_H.append(testingAccuracy(model,x_test,output))\n",
    "plt.title('Training and Testing accuracy across H vs values of H')\n",
    "plt.plot(x_axis,training_accuracy_every_H)\n",
    "plt.plot(x_axis,testing_accuracy_every_H)\n",
    "plt.legend(['Training accuracy','Tesing accuracy'], loc='upper right')\n",
    "plt.show()"
   ]
  },
  {
   "cell_type": "code",
   "execution_count": 30,
   "metadata": {},
   "outputs": [
    {
     "name": "stdout",
     "output_type": "stream",
     "text": [
      "\n",
      "1   15\n",
      "Testing accuracy for the 2 layer for the model with H1  1  and H2  15\n",
      "Accuracy is  84.65955701394586\n",
      "\n",
      "1   120\n",
      "Testing accuracy for the 2 layer for the model with H1  1  and H2  120\n",
      "Accuracy is  93.2526661197703\n",
      "\n",
      "1   220\n",
      "Testing accuracy for the 2 layer for the model with H1  1  and H2  220\n",
      "Accuracy is  78.98892534864643\n",
      "\n",
      "1   230\n",
      "Testing accuracy for the 2 layer for the model with H1  1  and H2  230\n",
      "Accuracy is  90.14561115668582\n",
      "\n",
      "2   15\n",
      "Testing accuracy for the 2 layer for the model with H1  2  and H2  15\n",
      "Accuracy is  85.47990155865463\n",
      "\n",
      "2   120\n",
      "Testing accuracy for the 2 layer for the model with H1  2  and H2  120\n",
      "Accuracy is  98.48236259228877\n",
      "\n",
      "2   220\n",
      "Testing accuracy for the 2 layer for the model with H1  2  and H2  220\n",
      "Accuracy is  93.76538146021329\n",
      "\n",
      "2   230\n",
      "Testing accuracy for the 2 layer for the model with H1  2  and H2  230\n",
      "Accuracy is  92.53486464315013\n",
      "\n",
      "5   15\n",
      "Testing accuracy for the 2 layer for the model with H1  5  and H2  15\n",
      "Accuracy is  84.45447087776866\n",
      "\n",
      "5   120\n",
      "Testing accuracy for the 2 layer for the model with H1  5  and H2  120\n",
      "Accuracy is  97.74405250205086\n",
      "\n",
      "5   220\n",
      "Testing accuracy for the 2 layer for the model with H1  5  and H2  220\n",
      "Accuracy is  95.50861361771943\n",
      "\n",
      "5   230\n",
      "Testing accuracy for the 2 layer for the model with H1  5  and H2  230\n",
      "Accuracy is  95.06767842493848\n",
      "\n",
      "10   15\n",
      "Testing accuracy for the 2 layer for the model with H1  10  and H2  15\n",
      "Accuracy is  88.85356849876949\n",
      "\n",
      "10   120\n",
      "Testing accuracy for the 2 layer for the model with H1  10  and H2  120\n",
      "Accuracy is  99.21041837571781\n",
      "\n",
      "10   220\n",
      "Testing accuracy for the 2 layer for the model with H1  10  and H2  220\n",
      "Accuracy is  98.77973748974568\n",
      "\n",
      "10   230\n",
      "Testing accuracy for the 2 layer for the model with H1  10  and H2  230\n",
      "Accuracy is  99.20016406890895\n",
      "\n",
      "20   15\n",
      "Testing accuracy for the 2 layer for the model with H1  20  and H2  15\n",
      "Accuracy is  96.81091058244463\n",
      "\n",
      "20   120\n",
      "Testing accuracy for the 2 layer for the model with H1  20  and H2  120\n",
      "Accuracy is  96.21616078753075\n",
      "\n",
      "20   220\n",
      "Testing accuracy for the 2 layer for the model with H1  20  and H2  220\n",
      "Accuracy is  97.00574241181296\n",
      "\n",
      "20   230\n",
      "Testing accuracy for the 2 layer for the model with H1  20  and H2  230\n",
      "Accuracy is  96.17514356029533\n"
     ]
    }
   ],
   "source": [
    "criteria= nn.BCELoss()\n",
    "for H1 in [1,2,5,10,20]:\n",
    "    for H2 in [15,120,220,230]:\n",
    "        print()\n",
    "        print(H1,' ',H2)\n",
    "        model = Net_2Layer(x_train.shape[1],H1,H2)\n",
    "        optimizer = torch.optim.Adam(model.parameters(),lr=0.01)\n",
    "        for e in range(num_epochs):\n",
    "            e_losses = train_epoch(model,optimizer ,criteria,x_train.shape[0])\n",
    "        print(\"Testing accuracy for the 2 layer for the model with H1 \",H1,\" and H2 \",H2)\n",
    "        testingAccuracy(model,x_test,output)\n",
    "        "
   ]
  }
 ],
 "metadata": {
  "kernelspec": {
   "display_name": "Python 3",
   "language": "python",
   "name": "python3"
  },
  "language_info": {
   "codemirror_mode": {
    "name": "ipython",
    "version": 3
   },
   "file_extension": ".py",
   "mimetype": "text/x-python",
   "name": "python",
   "nbconvert_exporter": "python",
   "pygments_lexer": "ipython3",
   "version": "3.5.2"
  }
 },
 "nbformat": 4,
 "nbformat_minor": 2
}
