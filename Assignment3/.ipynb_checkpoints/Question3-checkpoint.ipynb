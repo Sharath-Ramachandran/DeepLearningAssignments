{
 "cells": [
  {
   "cell_type": "code",
   "execution_count": 1,
   "metadata": {},
   "outputs": [],
   "source": [
    "import numpy as np\n",
    "import pandas as pd\n",
    "import torch\n",
    "from torch.autograd import Variable\n",
    "import torch.nn as nn\n",
    "import torch.nn.functional as F\n",
    "import torch.utils.data as utils\n",
    "import matplotlib.pyplot as plt\n",
    "import statistics \n",
    "from statistics import mode\n",
    "from torch.optim.lr_scheduler import StepLR\n",
    "%matplotlib inline"
   ]
  },
  {
   "cell_type": "code",
   "execution_count": 2,
   "metadata": {},
   "outputs": [],
   "source": [
    "def train_epoch(model, opt, criterion, batch_size=100):\n",
    "    model.train()\n",
    "    losses = []\n",
    "    for index in range(0, x_train.shape[0], batch_size):\n",
    "        x_batch = x_train[index:index + batch_size, :]\n",
    "        label_batch = labels[index:index + batch_size, :]\n",
    "        opt.zero_grad()\n",
    "        prediction = model(x_batch)\n",
    "        loss = criterion(prediction,label_batch)\n",
    "        loss.backward()\n",
    "        opt.step()\n",
    "        losses.append(loss.item())\n",
    "    losses = sum(losses)/len(losses)\n",
    "    return losses"
   ]
  },
  {
   "cell_type": "code",
   "execution_count": 3,
   "metadata": {},
   "outputs": [],
   "source": [
    "def testingAccuracy(model,x_test,output1):\n",
    "    predictions_array=[]\n",
    "    model = model.eval()\n",
    "    for i in range(5):\n",
    "        with torch.no_grad():\n",
    "            predictions = model(x_test)\n",
    "        test = np.asarray(predictions)\n",
    "        test[test>0.5]=1\n",
    "        test[test<=0.5]=0\n",
    "        predictions_array.append(test)\n",
    "    predictions_array = np.array(predictions_array)\n",
    "    predictions_array = np.squeeze(predictions_array,axis=2)\n",
    "    final_prediction =np.zeros(predictions_array.shape[1])\n",
    "    for i in range(predictions_array.shape[1]):\n",
    "        temp_list=predictions_array[:,i].tolist()\n",
    "        final_prediction[i]=mode(temp_list)\n",
    "    count=0\n",
    "    for i in range(test.shape[0]):\n",
    "        if(output1[i]==final_prediction[i]):\n",
    "            count = count+1\n",
    "    print(\"Accuracy is \", (count/final_prediction.shape[0])*100)\n",
    "    return (count/final_prediction.shape[0])*100"
   ]
  },
  {
   "cell_type": "code",
   "execution_count": 4,
   "metadata": {},
   "outputs": [],
   "source": [
    "#change the dataframe to numpy array to tensor array\n",
    "def changeToTensor(dataFrame):\n",
    "    dataFrame= (dataFrame-dataFrame.min())/(dataFrame.max()-dataFrame.min())\n",
    "    x = dataFrame.values\n",
    "    x= x.astype('float64')\n",
    "    x= torch.Tensor(x)\n",
    "    return x"
   ]
  },
  {
   "cell_type": "code",
   "execution_count": 5,
   "metadata": {},
   "outputs": [],
   "source": [
    "class Net_2Layer(nn.Module):\n",
    "    def __init__(self,size,H_size,H2_size):\n",
    "        super(Net_2Layer, self).__init__()\n",
    "        self.fc1 = nn.Linear(size,H_size)\n",
    "        self.relu = nn.ReLU()\n",
    "        self.fc2 = nn.Linear(H_size,H2_size)\n",
    "        self.relu = nn.ReLU()\n",
    "        self.fc3 = nn.Linear(H2_size,1)\n",
    "        self.sigmoid = nn.Sigmoid()\n",
    "    def forward(self, x):\n",
    "        x = self.fc1(x)\n",
    "        x = self.relu(x)\n",
    "        x = self.fc2(x)\n",
    "        x = self.relu(x)\n",
    "        x = self.fc3(x)\n",
    "        x = self.sigmoid(x)\n",
    "        return x"
   ]
  },
  {
   "cell_type": "code",
   "execution_count": 6,
   "metadata": {},
   "outputs": [],
   "source": [
    "### create a model with pytorch#####\n",
    "class Net_H(nn.Module):\n",
    "    def __init__(self,size,H_size):\n",
    "        super(Net_H, self).__init__()\n",
    "        self.fc1 = nn.Linear(size,H_size)\n",
    "        self.relu = nn.ReLU()\n",
    "        self.fc2 = nn.Linear(H_size,1)\n",
    "        self.sigmoid = nn.Sigmoid()\n",
    "    def forward(self, x):\n",
    "        x = self.fc1(x)\n",
    "        x = self.relu(x)\n",
    "        x = self.fc2(x)\n",
    "        x = self.sigmoid(x)\n",
    "        return x"
   ]
  },
  {
   "cell_type": "code",
   "execution_count": 7,
   "metadata": {},
   "outputs": [],
   "source": [
    "### create a model with pytorch#####\n",
    "class Net_5(nn.Module):\n",
    "    def __init__(self,size):\n",
    "        super(Net_5, self).__init__()\n",
    "        self.fc1 = nn.Linear(size,5)\n",
    "        self.relu = nn.ReLU()\n",
    "        self.fc2 = nn.Linear(5,1)\n",
    "        self.sigmoid = nn.Sigmoid()\n",
    "    def forward(self, x):\n",
    "        x = self.fc1(x)\n",
    "        x = self.relu(x)\n",
    "        x = self.fc2(x)\n",
    "        x = self.sigmoid(x)\n",
    "        return x"
   ]
  },
  {
   "cell_type": "code",
   "execution_count": 8,
   "metadata": {},
   "outputs": [],
   "source": [
    "train_data = pd.read_csv('train.txt',sep=',')\n",
    "test_data = pd.read_csv('test.txt',sep=',')"
   ]
  },
  {
   "cell_type": "code",
   "execution_count": 9,
   "metadata": {},
   "outputs": [
    {
     "data": {
      "text/html": [
       "<div>\n",
       "<style scoped>\n",
       "    .dataframe tbody tr th:only-of-type {\n",
       "        vertical-align: middle;\n",
       "    }\n",
       "\n",
       "    .dataframe tbody tr th {\n",
       "        vertical-align: top;\n",
       "    }\n",
       "\n",
       "    .dataframe thead th {\n",
       "        text-align: right;\n",
       "    }\n",
       "</style>\n",
       "<table border=\"1\" class=\"dataframe\">\n",
       "  <thead>\n",
       "    <tr style=\"text-align: right;\">\n",
       "      <th></th>\n",
       "      <th>date</th>\n",
       "      <th>Temperature</th>\n",
       "      <th>Humidity</th>\n",
       "      <th>Light</th>\n",
       "      <th>CO2</th>\n",
       "      <th>HumidityRatio</th>\n",
       "      <th>Occupancy</th>\n",
       "    </tr>\n",
       "  </thead>\n",
       "  <tbody>\n",
       "    <tr>\n",
       "      <th>1</th>\n",
       "      <td>2015-02-04 17:51:00</td>\n",
       "      <td>23.18</td>\n",
       "      <td>27.2720</td>\n",
       "      <td>426.0</td>\n",
       "      <td>721.25</td>\n",
       "      <td>0.004793</td>\n",
       "      <td>1</td>\n",
       "    </tr>\n",
       "    <tr>\n",
       "      <th>2</th>\n",
       "      <td>2015-02-04 17:51:59</td>\n",
       "      <td>23.15</td>\n",
       "      <td>27.2675</td>\n",
       "      <td>429.5</td>\n",
       "      <td>714.00</td>\n",
       "      <td>0.004783</td>\n",
       "      <td>1</td>\n",
       "    </tr>\n",
       "    <tr>\n",
       "      <th>3</th>\n",
       "      <td>2015-02-04 17:53:00</td>\n",
       "      <td>23.15</td>\n",
       "      <td>27.2450</td>\n",
       "      <td>426.0</td>\n",
       "      <td>713.50</td>\n",
       "      <td>0.004779</td>\n",
       "      <td>1</td>\n",
       "    </tr>\n",
       "    <tr>\n",
       "      <th>4</th>\n",
       "      <td>2015-02-04 17:54:00</td>\n",
       "      <td>23.15</td>\n",
       "      <td>27.2000</td>\n",
       "      <td>426.0</td>\n",
       "      <td>708.25</td>\n",
       "      <td>0.004772</td>\n",
       "      <td>1</td>\n",
       "    </tr>\n",
       "    <tr>\n",
       "      <th>5</th>\n",
       "      <td>2015-02-04 17:55:00</td>\n",
       "      <td>23.10</td>\n",
       "      <td>27.2000</td>\n",
       "      <td>426.0</td>\n",
       "      <td>704.50</td>\n",
       "      <td>0.004757</td>\n",
       "      <td>1</td>\n",
       "    </tr>\n",
       "  </tbody>\n",
       "</table>\n",
       "</div>"
      ],
      "text/plain": [
       "                  date  Temperature  Humidity  Light     CO2  HumidityRatio  \\\n",
       "1  2015-02-04 17:51:00        23.18   27.2720  426.0  721.25       0.004793   \n",
       "2  2015-02-04 17:51:59        23.15   27.2675  429.5  714.00       0.004783   \n",
       "3  2015-02-04 17:53:00        23.15   27.2450  426.0  713.50       0.004779   \n",
       "4  2015-02-04 17:54:00        23.15   27.2000  426.0  708.25       0.004772   \n",
       "5  2015-02-04 17:55:00        23.10   27.2000  426.0  704.50       0.004757   \n",
       "\n",
       "   Occupancy  \n",
       "1          1  \n",
       "2          1  \n",
       "3          1  \n",
       "4          1  \n",
       "5          1  "
      ]
     },
     "execution_count": 9,
     "metadata": {},
     "output_type": "execute_result"
    }
   ],
   "source": [
    "train_data.head()"
   ]
  },
  {
   "cell_type": "code",
   "execution_count": 10,
   "metadata": {},
   "outputs": [],
   "source": [
    "train_numpy = train_data.values\n",
    "labels = train_numpy[:,-1]\n",
    "labels= labels.astype('float64')\n",
    "labels= torch.Tensor(labels)\n",
    "train_sub = train_data.drop(['date','Occupancy'],axis=1)\n",
    "x_train = changeToTensor(train_sub)"
   ]
  },
  {
   "cell_type": "code",
   "execution_count": 11,
   "metadata": {},
   "outputs": [],
   "source": [
    "labels = labels.unsqueeze(1)"
   ]
  },
  {
   "cell_type": "code",
   "execution_count": 12,
   "metadata": {},
   "outputs": [
    {
     "data": {
      "text/plain": [
       "(torch.Size([8143, 5]), torch.Size([8143, 1]))"
      ]
     },
     "execution_count": 12,
     "metadata": {},
     "output_type": "execute_result"
    }
   ],
   "source": [
    "x_train.shape, labels.shape"
   ]
  },
  {
   "cell_type": "code",
   "execution_count": 13,
   "metadata": {},
   "outputs": [],
   "source": [
    "model = Net_5(x_train.shape[1])"
   ]
  },
  {
   "cell_type": "code",
   "execution_count": 14,
   "metadata": {},
   "outputs": [
    {
     "data": {
      "text/plain": [
       "Net_5(\n",
       "  (fc1): Linear(in_features=5, out_features=5, bias=True)\n",
       "  (relu): ReLU()\n",
       "  (fc2): Linear(in_features=5, out_features=1, bias=True)\n",
       "  (sigmoid): Sigmoid()\n",
       ")"
      ]
     },
     "execution_count": 14,
     "metadata": {},
     "output_type": "execute_result"
    }
   ],
   "source": [
    "model"
   ]
  },
  {
   "cell_type": "code",
   "execution_count": 15,
   "metadata": {},
   "outputs": [],
   "source": [
    "criteria= nn.BCELoss()\n",
    "optimizer = torch.optim.Adam(model.parameters(),lr=0.001)"
   ]
  },
  {
   "cell_type": "code",
   "execution_count": 16,
   "metadata": {},
   "outputs": [
    {
     "name": "stdout",
     "output_type": "stream",
     "text": [
      "For epoch  1 loss is  0.750656008720398\n",
      "For epoch  2 loss is  0.749754011631012\n",
      "For epoch  3 loss is  0.748860776424408\n",
      "For epoch  4 loss is  0.747963011264801\n",
      "For epoch  5 loss is  0.7470769882202148\n",
      "For epoch  6 loss is  0.7461884617805481\n",
      "For epoch  7 loss is  0.7453072667121887\n",
      "For epoch  8 loss is  0.7444272041320801\n",
      "For epoch  9 loss is  0.7435544729232788\n",
      "For epoch  10 loss is  0.7426749467849731\n",
      "For epoch  11 loss is  0.7418088316917419\n",
      "For epoch  12 loss is  0.7409356236457825\n",
      "For epoch  13 loss is  0.7400739192962646\n",
      "For epoch  14 loss is  0.7392149567604065\n",
      "For epoch  15 loss is  0.7383537888526917\n",
      "For epoch  16 loss is  0.7375021576881409\n",
      "For epoch  17 loss is  0.7366437315940857\n",
      "For epoch  18 loss is  0.735798716545105\n",
      "For epoch  19 loss is  0.734948456287384\n",
      "For epoch  20 loss is  0.7341076135635376\n",
      "For epoch  21 loss is  0.733266294002533\n",
      "For epoch  22 loss is  0.7324303984642029\n",
      "For epoch  23 loss is  0.7315927147865295\n",
      "For epoch  24 loss is  0.7307555675506592\n",
      "For epoch  25 loss is  0.7299207448959351\n",
      "For epoch  26 loss is  0.729067325592041\n",
      "For epoch  27 loss is  0.7282058596611023\n",
      "For epoch  28 loss is  0.7273483872413635\n",
      "For epoch  29 loss is  0.7264808416366577\n",
      "For epoch  30 loss is  0.7256104350090027\n",
      "For epoch  31 loss is  0.7247436046600342\n",
      "For epoch  32 loss is  0.7238717079162598\n",
      "For epoch  33 loss is  0.722998321056366\n",
      "For epoch  34 loss is  0.7221256494522095\n",
      "For epoch  35 loss is  0.721250057220459\n",
      "For epoch  36 loss is  0.7203733921051025\n",
      "For epoch  37 loss is  0.7195000052452087\n",
      "For epoch  38 loss is  0.7186306118965149\n",
      "For epoch  39 loss is  0.7177568078041077\n",
      "For epoch  40 loss is  0.7168871760368347\n",
      "For epoch  41 loss is  0.7160146832466125\n",
      "For epoch  42 loss is  0.7151480913162231\n",
      "For epoch  43 loss is  0.7142820358276367\n",
      "For epoch  44 loss is  0.7134196758270264\n",
      "For epoch  45 loss is  0.7125693559646606\n",
      "For epoch  46 loss is  0.7117224335670471\n",
      "For epoch  47 loss is  0.710882306098938\n",
      "For epoch  48 loss is  0.7100469470024109\n",
      "For epoch  49 loss is  0.7092086672782898\n",
      "For epoch  50 loss is  0.7083616852760315\n",
      "For epoch  51 loss is  0.7075172662734985\n",
      "For epoch  52 loss is  0.7066768407821655\n",
      "For epoch  53 loss is  0.7058373093605042\n",
      "For epoch  54 loss is  0.7049937844276428\n",
      "For epoch  55 loss is  0.704139769077301\n",
      "For epoch  56 loss is  0.7032801508903503\n",
      "For epoch  57 loss is  0.7024216651916504\n",
      "For epoch  58 loss is  0.701562225818634\n",
      "For epoch  59 loss is  0.7006893157958984\n",
      "For epoch  60 loss is  0.699813961982727\n",
      "For epoch  61 loss is  0.6989341378211975\n",
      "For epoch  62 loss is  0.6980528831481934\n",
      "For epoch  63 loss is  0.6971733570098877\n",
      "For epoch  64 loss is  0.6962864995002747\n",
      "For epoch  65 loss is  0.6953932046890259\n",
      "For epoch  66 loss is  0.6945021152496338\n",
      "For epoch  67 loss is  0.6936032772064209\n",
      "For epoch  68 loss is  0.6927026510238647\n",
      "For epoch  69 loss is  0.6918016672134399\n",
      "For epoch  70 loss is  0.6909047961235046\n",
      "For epoch  71 loss is  0.6900073885917664\n",
      "For epoch  72 loss is  0.6891092658042908\n",
      "For epoch  73 loss is  0.6882135272026062\n",
      "For epoch  74 loss is  0.6873178482055664\n",
      "For epoch  75 loss is  0.6864272356033325\n",
      "For epoch  76 loss is  0.68553626537323\n",
      "For epoch  77 loss is  0.6846500039100647\n",
      "For epoch  78 loss is  0.6837663650512695\n",
      "For epoch  79 loss is  0.6828846335411072\n",
      "For epoch  80 loss is  0.6820096373558044\n",
      "For epoch  81 loss is  0.6811358332633972\n",
      "For epoch  82 loss is  0.6802669167518616\n",
      "For epoch  83 loss is  0.6794023513793945\n",
      "For epoch  84 loss is  0.6785396337509155\n",
      "For epoch  85 loss is  0.6776859164237976\n",
      "For epoch  86 loss is  0.6768360733985901\n",
      "For epoch  87 loss is  0.6759878993034363\n",
      "For epoch  88 loss is  0.6751452684402466\n",
      "For epoch  89 loss is  0.6743034720420837\n",
      "For epoch  90 loss is  0.6734688878059387\n",
      "For epoch  91 loss is  0.6726360321044922\n",
      "For epoch  92 loss is  0.6718093752861023\n",
      "For epoch  93 loss is  0.6709867715835571\n",
      "For epoch  94 loss is  0.6701679825782776\n",
      "For epoch  95 loss is  0.6693516969680786\n",
      "For epoch  96 loss is  0.6685436964035034\n",
      "For epoch  97 loss is  0.6677343249320984\n",
      "For epoch  98 loss is  0.6669303774833679\n",
      "For epoch  99 loss is  0.666129469871521\n",
      "For epoch  100 loss is  0.6653310060501099\n"
     ]
    }
   ],
   "source": [
    "num_epochs = 100\n",
    "loss_to_plot_batch=[]\n",
    "for e in range(num_epochs):\n",
    "    e_losses = train_epoch(model,optimizer ,criteria,x_train.shape[0])\n",
    "    loss_to_plot_batch.append(e_losses)\n",
    "    print(\"For epoch \",e+1,\"loss is \",e_losses)"
   ]
  },
  {
   "cell_type": "code",
   "execution_count": 17,
   "metadata": {},
   "outputs": [],
   "source": [
    "test_numpy = test_data.values\n",
    "output1 = test_numpy[:,-1]\n",
    "output1=output1.astype('float64')\n",
    "test_sub = test_data.drop(['date','Occupancy'],axis=1)\n",
    "x_test = changeToTensor(test_sub)"
   ]
  },
  {
   "cell_type": "code",
   "execution_count": 18,
   "metadata": {},
   "outputs": [
    {
     "name": "stdout",
     "output_type": "stream",
     "text": [
      "Accuracy is  79.07095980311732\n"
     ]
    }
   ],
   "source": [
    "baseline_accuracy = testingAccuracy(model,x_test,output1)"
   ]
  },
  {
   "cell_type": "code",
   "execution_count": 19,
   "metadata": {},
   "outputs": [],
   "source": [
    "baseline_error= 1-(baseline_accuracy/100)"
   ]
  },
  {
   "cell_type": "code",
   "execution_count": 20,
   "metadata": {},
   "outputs": [],
   "source": [
    "baseline_error_plot=[baseline_error]*100"
   ]
  },
  {
   "cell_type": "code",
   "execution_count": 21,
   "metadata": {},
   "outputs": [],
   "source": [
    "model1 = Net_5(x_train.shape[1])"
   ]
  },
  {
   "cell_type": "code",
   "execution_count": 22,
   "metadata": {},
   "outputs": [
    {
     "data": {
      "text/plain": [
       "Net_5(\n",
       "  (fc1): Linear(in_features=5, out_features=5, bias=True)\n",
       "  (relu): ReLU()\n",
       "  (fc2): Linear(in_features=5, out_features=1, bias=True)\n",
       "  (sigmoid): Sigmoid()\n",
       ")"
      ]
     },
     "execution_count": 22,
     "metadata": {},
     "output_type": "execute_result"
    }
   ],
   "source": [
    "model1"
   ]
  },
  {
   "cell_type": "code",
   "execution_count": 23,
   "metadata": {},
   "outputs": [
    {
     "name": "stdout",
     "output_type": "stream",
     "text": [
      "Accuracy for the testing data with learning rate  0.01\n",
      "Accuracy is  98.56439704675964\n",
      "Accuracy for the training data\n",
      "Accuracy is  98.88247574603955\n",
      "Accuracy for the testing data with learning rate  0.02\n",
      "Accuracy is  98.98482362592289\n",
      "Accuracy for the training data\n",
      "Accuracy is  98.82107331450325\n",
      "Accuracy for the testing data with learning rate  0.001\n",
      "Accuracy is  95.4163248564397\n",
      "Accuracy for the training data\n",
      "Accuracy is  97.69126857423554\n",
      "Accuracy for the testing data with learning rate  0.002\n",
      "Accuracy is  99.20016406890895\n",
      "Accuracy for the training data\n",
      "Accuracy is  98.63686601989438\n"
     ]
    },
    {
     "data": {
      "image/png": "[encoded data removed]",
      "text/plain": [
       "<Figure size 432x288 with 1 Axes>"
      ]
     },
     "metadata": {
      "needs_background": "light"
     },
     "output_type": "display_data"
    }
   ],
   "source": [
    "for learning_rate in [0.01,0.02,0.001,0.002]:\n",
    "    num_epochs = 100\n",
    "    e_losses=[]\n",
    "    loss_across_epoch=[]\n",
    "    model1 = Net_5(x_train.shape[1])\n",
    "    optimizer = torch.optim.Adam(model1.parameters(),lr=learning_rate)\n",
    "    for e in range(num_epochs):\n",
    "        e_losses = train_epoch(model1,optimizer ,criteria,100)\n",
    "        #loss_to_plot = sum(e_losses)/len(e_losses)\n",
    "        loss_across_epoch.append(e_losses)\n",
    "    \n",
    "    print(\"Accuracy for the testing data with learning rate \",learning_rate)\n",
    "    dummy=testingAccuracy(model1,x_test,output1)\n",
    "    print(\"Accuracy for the training data\")\n",
    "    dummy=testingAccuracy(model1,x_train,train_numpy[:,-1].astype('float64'))\n",
    "    plt.title('Training loss across epoch vs number of epochs')\n",
    "    plt.plot(loss_across_epoch)\n",
    "    #plt.axhline(y=baseline_error)\n",
    "    \n",
    "plt.plot(baseline_error_plot)\n",
    "plt.legend(['0.01','0.02','0.001','0.002','baselineError'], loc='upper right')\n",
    "plt.show()"
   ]
  },
  {
   "cell_type": "code",
   "execution_count": 24,
   "metadata": {},
   "outputs": [
    {
     "data": {
      "text/plain": [
       "[<matplotlib.lines.Line2D at 0x7fae14634438>]"
      ]
     },
     "execution_count": 24,
     "metadata": {},
     "output_type": "execute_result"
    },
    {
     "data": {
      "image/png": "[encoded data removed]",
      "text/plain": [
       "<Figure size 432x288 with 1 Axes>"
      ]
     },
     "metadata": {
      "needs_background": "light"
     },
     "output_type": "display_data"
    }
   ],
   "source": [
    "plt.title('Batch Gradient descent method for training loss vs epoch')\n",
    "plt.plot(loss_to_plot_batch)"
   ]
  },
  {
   "cell_type": "code",
   "execution_count": 25,
   "metadata": {},
   "outputs": [
    {
     "name": "stderr",
     "output_type": "stream",
     "text": [
      "/work/test/venv/lib/python3.5/site-packages/torch/optim/lr_scheduler.py:82: UserWarning: Detected call of `lr_scheduler.step()` before `optimizer.step()`. In PyTorch 1.1.0 and later, you should call them in the opposite order: `optimizer.step()` before `lr_scheduler.step()`.  Failure to do this will result in PyTorch skipping the first value of the learning rate schedule.See more details at https://pytorch.org/docs/stable/optim.html#how-to-adjust-learning-rate\n",
      "  \"https://pytorch.org/docs/stable/optim.html#how-to-adjust-learning-rate\", UserWarning)\n"
     ]
    },
    {
     "name": "stdout",
     "output_type": "stream",
     "text": [
      "Accuracy is  78.76703917475132\n",
      "Accuracy is  78.98892534864643\n",
      "Accuracy is  96.00884195014122\n",
      "Accuracy is  86.18744872846595\n",
      "Accuracy is  95.45622006631463\n",
      "Accuracy is  90.31993437243642\n",
      "Accuracy is  97.94915878668795\n",
      "Accuracy is  91.86833470057424\n",
      "Accuracy is  98.74739039665971\n",
      "Accuracy is  98.62592288761279\n"
     ]
    },
    {
     "data": {
      "image/png": "[encoded data removed]",
      "text/plain": [
       "<Figure size 432x288 with 1 Axes>"
      ]
     },
     "metadata": {
      "needs_background": "light"
     },
     "output_type": "display_data"
    }
   ],
   "source": [
    "criteria= nn.BCELoss()\n",
    "epochs=100\n",
    "x_axis=[1,2,5,10,20]\n",
    "training_accuracy_every_H=[]\n",
    "testing_accuracy_every_H=[]\n",
    "for H in [1,2,5,10,20]:\n",
    "    model = Net_H(x_train.shape[1],H)\n",
    "    optimizer = torch.optim.Adam(model.parameters(),lr=0.1)\n",
    "    scheduler = StepLR(optimizer, step_size=30, gamma=0.1)\n",
    "    for e in range(epochs):\n",
    "        scheduler.step()\n",
    "        e_losses = train_epoch(model,optimizer ,criteria,x_train.shape[0])\n",
    "    training_accuracy_every_H.append(testingAccuracy(model,x_train,train_numpy[:,-1].astype('float64')))\n",
    "    testing_accuracy_every_H.append(testingAccuracy(model,x_test,output1))\n",
    "plt.title('Training and Testing accuracy across H vs values of H')\n",
    "plt.plot(x_axis,training_accuracy_every_H)\n",
    "plt.plot(x_axis,testing_accuracy_every_H)\n",
    "plt.legend(['Training accuracy','Tesing accuracy'], loc='upper right')\n",
    "plt.show()"
   ]
  },
  {
   "cell_type": "code",
   "execution_count": 26,
   "metadata": {},
   "outputs": [
    {
     "data": {
      "text/plain": [
       "[<matplotlib.lines.Line2D at 0x7fadd69b86a0>]"
      ]
     },
     "execution_count": 26,
     "metadata": {},
     "output_type": "execute_result"
    },
    {
     "data": {
      "image/png": "[encoded data removed]",
      "text/plain": [
       "<Figure size 432x288 with 1 Axes>"
      ]
     },
     "metadata": {
      "needs_background": "light"
     },
     "output_type": "display_data"
    }
   ],
   "source": [
    "criteria= nn.MSELoss()\n",
    "model = Net_5(x_train.shape[1])\n",
    "optimizer = torch.optim.Adam(model.parameters(),lr=0.001)\n",
    "num_epochs = 100\n",
    "loss_to_plot_batch=[]\n",
    "for e in range(num_epochs):\n",
    "    e_losses = train_epoch(model,optimizer ,criteria,x_train.shape[0])\n",
    "    loss_to_plot_batch.append(e_losses)\n",
    "plt.title('Batch Gradient descent method for training loss vs epoch')\n",
    "plt.plot(loss_to_plot_batch)"
   ]
  },
  {
   "cell_type": "code",
   "execution_count": 27,
   "metadata": {},
   "outputs": [
    {
     "name": "stdout",
     "output_type": "stream",
     "text": [
      "tensor([[-0.0084, -0.2257,  0.3413, -0.2023,  0.0196],\n",
      "        [-0.1458, -0.4381, -0.2851,  0.2096, -0.2935],\n",
      "        [-0.0131, -0.1712, -0.0462,  0.4116, -0.1939],\n",
      "        [ 0.4617,  0.4894, -0.1965,  0.3023,  0.0869],\n",
      "        [ 0.4012,  0.3047, -0.3573,  0.0654, -0.1283]])\n",
      "tensor([ 0.5092,  0.0472, -0.1402,  0.3751, -0.4525])\n",
      "tensor([[-0.4061,  0.2936,  0.1760, -0.4261, -0.2446]])\n",
      "tensor([-0.2117])\n"
     ]
    }
   ],
   "source": [
    "for param in model.parameters ():\n",
    "    print(param.data)"
   ]
  },
  {
   "cell_type": "code",
   "execution_count": 28,
   "metadata": {},
   "outputs": [
    {
     "name": "stdout",
     "output_type": "stream",
     "text": [
      "Accuracy is  78.98892534864643\n"
     ]
    }
   ],
   "source": [
    "baseline_accuracy = testingAccuracy(model,x_test,output1)\n",
    "baseline_error= 1-(baseline_accuracy/100)\n",
    "baseline_error_plot=[baseline_error]*100"
   ]
  },
  {
   "cell_type": "code",
   "execution_count": 29,
   "metadata": {},
   "outputs": [
    {
     "name": "stdout",
     "output_type": "stream",
     "text": [
      "Accuracy for the testing data with learning rate  0.01\n",
      "Accuracy is  99.11812961443806\n",
      "Accuracy for the training data\n",
      "Accuracy is  98.83335380081051\n",
      "Accuracy for the testing data with learning rate  0.02\n",
      "Accuracy is  98.99507793273175\n",
      "Accuracy for the training data\n",
      "Accuracy is  98.89475623234681\n",
      "Accuracy for the testing data with learning rate  0.001\n",
      "Accuracy is  98.56439704675964\n",
      "Accuracy for the training data\n",
      "Accuracy is  98.01056121822424\n",
      "Accuracy for the testing data with learning rate  0.002\n",
      "Accuracy is  99.21041837571781\n",
      "Accuracy for the training data\n",
      "Accuracy is  98.83335380081051\n"
     ]
    },
    {
     "data": {
      "image/png": "[encoded data removed]",
      "text/plain": [
       "<Figure size 432x288 with 1 Axes>"
      ]
     },
     "metadata": {
      "needs_background": "light"
     },
     "output_type": "display_data"
    }
   ],
   "source": [
    "criteria= nn.MSELoss()\n",
    "for learning_rate in [0.01,0.02,0.001,0.002]:\n",
    "    num_epochs = 100\n",
    "    e_losses=[]\n",
    "    loss_across_epoch=[]\n",
    "    model1 = Net_5(x_train.shape[1])\n",
    "    optimizer = torch.optim.Adam(model1.parameters(),lr=learning_rate)\n",
    "    for e in range(num_epochs):\n",
    "        e_losses = train_epoch(model1,optimizer ,criteria,100)\n",
    "        loss_across_epoch.append(e_losses)\n",
    "    \n",
    "    print(\"Accuracy for the testing data with learning rate \",learning_rate)\n",
    "    dummy=testingAccuracy(model1,x_test,output1)\n",
    "    print(\"Accuracy for the training data\")\n",
    "    dummy=testingAccuracy(model1,x_train,train_numpy[:,-1].astype('float64'))\n",
    "    plt.title('Training loss across epoch vs number of epochs')\n",
    "    plt.plot(loss_across_epoch)\n",
    "    \n",
    "plt.plot(baseline_error_plot)\n",
    "plt.legend(['0.01','0.02','0.001','0.002','baselineError'], loc='upper right')\n",
    "plt.show()"
   ]
  },
  {
   "cell_type": "code",
   "execution_count": 30,
   "metadata": {},
   "outputs": [
    {
     "name": "stdout",
     "output_type": "stream",
     "text": [
      "Accuracy is  78.76703917475132\n",
      "Accuracy is  78.98892534864643\n",
      "Accuracy is  95.67726881984527\n",
      "Accuracy is  93.16037735849056\n",
      "Accuracy is  96.426378484588\n",
      "Accuracy is  87.69483182936834\n",
      "Accuracy is  96.26673216259364\n",
      "Accuracy is  86.33100902378999\n",
      "Accuracy is  98.07196364976053\n",
      "Accuracy is  93.92945036915505\n"
     ]
    },
    {
     "data": {
      "image/png": "[encoded data removed]",
      "text/plain": [
       "<Figure size 432x288 with 1 Axes>"
      ]
     },
     "metadata": {
      "needs_background": "light"
     },
     "output_type": "display_data"
    }
   ],
   "source": [
    "epochs=100\n",
    "x_axis=[1,2,5,10,20]\n",
    "training_accuracy_every_H=[]\n",
    "testing_accuracy_every_H=[]\n",
    "criteria= nn.MSELoss()\n",
    "for H in [1,2,5,10,20]:\n",
    "    model = Net_H(x_train.shape[1],H)\n",
    "    optimizer = torch.optim.Adam(model.parameters(),lr=0.1)\n",
    "    scheduler = StepLR(optimizer, step_size=30, gamma=0.1)\n",
    "    for e in range(epochs):\n",
    "        scheduler.step()\n",
    "        e_losses = train_epoch(model,optimizer,criteria,x_train.shape[0])\n",
    "    training_accuracy_every_H.append(testingAccuracy(model,x_train,train_numpy[:,-1].astype('float64')))\n",
    "    testing_accuracy_every_H.append(testingAccuracy(model,x_test,output1))\n",
    "plt.title('Training and Testing accuracy across H vs values of H')\n",
    "plt.plot(x_axis,training_accuracy_every_H)\n",
    "plt.plot(x_axis,testing_accuracy_every_H)\n",
    "plt.legend(['Training accuracy','Tesing accuracy'], loc='upper right')\n",
    "plt.show()"
   ]
  },
  {
   "cell_type": "code",
   "execution_count": 33,
   "metadata": {},
   "outputs": [
    {
     "name": "stdout",
     "output_type": "stream",
     "text": [
      "1   15\n",
      "Testing accuracy for the 2 layer for the model with H1  1  and H2  15\n",
      "Accuracy is  88.65873666940115\n",
      "1   120\n",
      "Testing accuracy for the 2 layer for the model with H1  1  and H2  120\n",
      "Accuracy is  78.98892534864643\n",
      "1   220\n",
      "Testing accuracy for the 2 layer for the model with H1  1  and H2  220\n",
      "Accuracy is  99.3129614438064\n",
      "1   230\n",
      "Testing accuracy for the 2 layer for the model with H1  1  and H2  230\n",
      "Accuracy is  78.98892534864643\n",
      "2   15\n",
      "Testing accuracy for the 2 layer for the model with H1  2  and H2  15\n",
      "Accuracy is  93.72436423297785\n",
      "2   120\n",
      "Testing accuracy for the 2 layer for the model with H1  2  and H2  120\n",
      "Accuracy is  86.55660377358491\n",
      "2   220\n",
      "Testing accuracy for the 2 layer for the model with H1  2  and H2  220\n",
      "Accuracy is  89.65340442986054\n",
      "2   230\n",
      "Testing accuracy for the 2 layer for the model with H1  2  and H2  230\n",
      "Accuracy is  97.75430680885972\n",
      "5   15\n",
      "Testing accuracy for the 2 layer for the model with H1  5  and H2  15\n",
      "Accuracy is  87.6538146021329\n",
      "5   120\n",
      "Testing accuracy for the 2 layer for the model with H1  5  and H2  120\n",
      "Accuracy is  92.90401968826907\n",
      "5   220\n",
      "Testing accuracy for the 2 layer for the model with H1  5  and H2  220\n",
      "Accuracy is  91.79655455291223\n",
      "5   230\n",
      "Testing accuracy for the 2 layer for the model with H1  5  and H2  230\n",
      "Accuracy is  96.26743232157506\n",
      "10   15\n",
      "Testing accuracy for the 2 layer for the model with H1  10  and H2  15\n",
      "Accuracy is  89.85849056603774\n",
      "10   120\n",
      "Testing accuracy for the 2 layer for the model with H1  10  and H2  120\n",
      "Accuracy is  95.6214109926169\n",
      "10   220\n",
      "Testing accuracy for the 2 layer for the model with H1  10  and H2  220\n",
      "Accuracy is  99.1591468416735\n",
      "10   230\n",
      "Testing accuracy for the 2 layer for the model with H1  10  and H2  230\n",
      "Accuracy is  99.24118129614438\n",
      "20   15\n",
      "Testing accuracy for the 2 layer for the model with H1  20  and H2  15\n",
      "Accuracy is  99.20016406890895\n",
      "20   120\n",
      "Testing accuracy for the 2 layer for the model with H1  20  and H2  120\n",
      "Accuracy is  94.18580803937654\n",
      "20   220\n",
      "Testing accuracy for the 2 layer for the model with H1  20  and H2  220\n",
      "Accuracy is  96.17514356029533\n",
      "20   230\n",
      "Testing accuracy for the 2 layer for the model with H1  20  and H2  230\n",
      "Accuracy is  96.52378999179655\n"
     ]
    }
   ],
   "source": [
    "epochs=100\n",
    "for H1 in [1,2,5,10,20]:\n",
    "    for H2 in [15,120,220,230]:\n",
    "        print(H1,' ',H2)\n",
    "        criteria= nn.BCELoss()\n",
    "        model11 = Net_2Layer(x_train.shape[1],H1,H2)\n",
    "        optimizer = torch.optim.Adam(model11.parameters(),lr=0.01)\n",
    "        for e in range(epochs):\n",
    "            e_losses = train_epoch(model11,optimizer ,criteria,x_train.shape[0])\n",
    "        print(\"Testing accuracy for the 2 layer for the model with H1 \",H1,\" and H2 \",H2)\n",
    "        testingAccuracy(model11,x_test,output1)\n",
    "        "
   ]
  },
  {
   "cell_type": "code",
   "execution_count": null,
   "metadata": {},
   "outputs": [],
   "source": []
  }
 ],
 "metadata": {
  "kernelspec": {
   "display_name": "Python 3",
   "language": "python",
   "name": "python3"
  },
  "language_info": {
   "codemirror_mode": {
    "name": "ipython",
    "version": 3
   },
   "file_extension": ".py",
   "mimetype": "text/x-python",
   "name": "python",
   "nbconvert_exporter": "python",
   "pygments_lexer": "ipython3",
   "version": "3.5.2"
  }
 },
 "nbformat": 4,
 "nbformat_minor": 2
}
