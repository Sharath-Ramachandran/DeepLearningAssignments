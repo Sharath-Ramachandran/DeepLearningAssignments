{
 "cells": [
  {
   "cell_type": "code",
   "execution_count": 1,
   "metadata": {},
   "outputs": [],
   "source": [
    "import numpy as np\n",
    "import pandas as pd\n",
    "import torch\n",
    "from torch.autograd import Variable\n",
    "import torch.nn as nn\n",
    "import torch.nn.functional as F\n",
    "import torch.utils.data as utils\n",
    "import matplotlib.pyplot as plt\n",
    "%matplotlib inline"
   ]
  },
  {
   "cell_type": "code",
   "execution_count": 2,
   "metadata": {},
   "outputs": [],
   "source": [
    "#change the dataframe to numpy array to tensor array\n",
    "def changeToTensor(dataFrame):\n",
    "    dataFrame= (dataFrame-dataFrame.min())/(dataFrame.max()-dataFrame.min())\n",
    "    x = dataFrame.values\n",
    "    x= x.astype('float64')\n",
    "    x= torch.Tensor(x)\n",
    "    return x"
   ]
  },
  {
   "cell_type": "code",
   "execution_count": 3,
   "metadata": {},
   "outputs": [],
   "source": [
    "train_data = pd.read_csv('train.txt',sep=',')\n",
    "test_data = pd.read_csv('test.txt',sep=',')"
   ]
  },
  {
   "cell_type": "code",
   "execution_count": 4,
   "metadata": {},
   "outputs": [
    {
     "data": {
      "text/html": [
       "<div>\n",
       "<style scoped>\n",
       "    .dataframe tbody tr th:only-of-type {\n",
       "        vertical-align: middle;\n",
       "    }\n",
       "\n",
       "    .dataframe tbody tr th {\n",
       "        vertical-align: top;\n",
       "    }\n",
       "\n",
       "    .dataframe thead th {\n",
       "        text-align: right;\n",
       "    }\n",
       "</style>\n",
       "<table border=\"1\" class=\"dataframe\">\n",
       "  <thead>\n",
       "    <tr style=\"text-align: right;\">\n",
       "      <th></th>\n",
       "      <th>date</th>\n",
       "      <th>Temperature</th>\n",
       "      <th>Humidity</th>\n",
       "      <th>Light</th>\n",
       "      <th>CO2</th>\n",
       "      <th>HumidityRatio</th>\n",
       "      <th>Occupancy</th>\n",
       "    </tr>\n",
       "  </thead>\n",
       "  <tbody>\n",
       "    <tr>\n",
       "      <td>1</td>\n",
       "      <td>2015-02-04 17:51:00</td>\n",
       "      <td>23.18</td>\n",
       "      <td>27.2720</td>\n",
       "      <td>426.0</td>\n",
       "      <td>721.25</td>\n",
       "      <td>0.004793</td>\n",
       "      <td>1</td>\n",
       "    </tr>\n",
       "    <tr>\n",
       "      <td>2</td>\n",
       "      <td>2015-02-04 17:51:59</td>\n",
       "      <td>23.15</td>\n",
       "      <td>27.2675</td>\n",
       "      <td>429.5</td>\n",
       "      <td>714.00</td>\n",
       "      <td>0.004783</td>\n",
       "      <td>1</td>\n",
       "    </tr>\n",
       "    <tr>\n",
       "      <td>3</td>\n",
       "      <td>2015-02-04 17:53:00</td>\n",
       "      <td>23.15</td>\n",
       "      <td>27.2450</td>\n",
       "      <td>426.0</td>\n",
       "      <td>713.50</td>\n",
       "      <td>0.004779</td>\n",
       "      <td>1</td>\n",
       "    </tr>\n",
       "    <tr>\n",
       "      <td>4</td>\n",
       "      <td>2015-02-04 17:54:00</td>\n",
       "      <td>23.15</td>\n",
       "      <td>27.2000</td>\n",
       "      <td>426.0</td>\n",
       "      <td>708.25</td>\n",
       "      <td>0.004772</td>\n",
       "      <td>1</td>\n",
       "    </tr>\n",
       "    <tr>\n",
       "      <td>5</td>\n",
       "      <td>2015-02-04 17:55:00</td>\n",
       "      <td>23.10</td>\n",
       "      <td>27.2000</td>\n",
       "      <td>426.0</td>\n",
       "      <td>704.50</td>\n",
       "      <td>0.004757</td>\n",
       "      <td>1</td>\n",
       "    </tr>\n",
       "  </tbody>\n",
       "</table>\n",
       "</div>"
      ],
      "text/plain": [
       "                  date  Temperature  Humidity  Light     CO2  HumidityRatio  \\\n",
       "1  2015-02-04 17:51:00        23.18   27.2720  426.0  721.25       0.004793   \n",
       "2  2015-02-04 17:51:59        23.15   27.2675  429.5  714.00       0.004783   \n",
       "3  2015-02-04 17:53:00        23.15   27.2450  426.0  713.50       0.004779   \n",
       "4  2015-02-04 17:54:00        23.15   27.2000  426.0  708.25       0.004772   \n",
       "5  2015-02-04 17:55:00        23.10   27.2000  426.0  704.50       0.004757   \n",
       "\n",
       "   Occupancy  \n",
       "1          1  \n",
       "2          1  \n",
       "3          1  \n",
       "4          1  \n",
       "5          1  "
      ]
     },
     "execution_count": 4,
     "metadata": {},
     "output_type": "execute_result"
    }
   ],
   "source": [
    "train_data.head()"
   ]
  },
  {
   "cell_type": "code",
   "execution_count": 5,
   "metadata": {},
   "outputs": [],
   "source": [
    "### create a model with pytorch#####\n",
    "class Net(nn.Module):\n",
    "    def __init__(self,size):\n",
    "        super(Net, self).__init__()\n",
    "        self.fc1 = nn.Linear(size,100)\n",
    "        self.relu = nn.ReLU()\n",
    "        self.fc2 = nn.Linear(100,1)\n",
    "        self.sigmoid = nn.Sigmoid()\n",
    "    def forward(self, x):\n",
    "        x = self.fc1(x)\n",
    "        x = self.relu(x)\n",
    "        x = self.fc2(x)\n",
    "        x = self.sigmoid(x)\n",
    "        return x"
   ]
  },
  {
   "cell_type": "code",
   "execution_count": 6,
   "metadata": {},
   "outputs": [],
   "source": [
    "train_numpy = train_data.values\n",
    "labels = train_numpy[:,-1]\n",
    "labels= labels.astype('float64')\n",
    "labels= torch.Tensor(labels)\n",
    "train_sub = train_data.drop(['date','Occupancy'],axis=1)\n",
    "x_train = changeToTensor(train_sub)"
   ]
  },
  {
   "cell_type": "code",
   "execution_count": 7,
   "metadata": {},
   "outputs": [],
   "source": [
    "labels = labels.unsqueeze(1)"
   ]
  },
  {
   "cell_type": "code",
   "execution_count": 8,
   "metadata": {},
   "outputs": [
    {
     "data": {
      "text/plain": [
       "(torch.Size([8143, 5]), torch.Size([8143, 1]))"
      ]
     },
     "execution_count": 8,
     "metadata": {},
     "output_type": "execute_result"
    }
   ],
   "source": [
    "x_train.shape, labels.shape"
   ]
  },
  {
   "cell_type": "code",
   "execution_count": 9,
   "metadata": {},
   "outputs": [],
   "source": [
    "model = Net(x_train.shape[1])"
   ]
  },
  {
   "cell_type": "code",
   "execution_count": 10,
   "metadata": {},
   "outputs": [
    {
     "data": {
      "text/plain": [
       "Net(\n",
       "  (fc1): Linear(in_features=5, out_features=100, bias=True)\n",
       "  (relu): ReLU()\n",
       "  (fc2): Linear(in_features=100, out_features=1, bias=True)\n",
       "  (sigmoid): Sigmoid()\n",
       ")"
      ]
     },
     "execution_count": 10,
     "metadata": {},
     "output_type": "execute_result"
    }
   ],
   "source": [
    "model"
   ]
  },
  {
   "cell_type": "code",
   "execution_count": 11,
   "metadata": {},
   "outputs": [],
   "source": [
    "criteria= nn.BCELoss()\n",
    "optimizer = torch.optim.Adam(model.parameters(),lr=0.001)"
   ]
  },
  {
   "cell_type": "code",
   "execution_count": 12,
   "metadata": {},
   "outputs": [],
   "source": [
    "def train_epoch(model, opt, criterion, batch_size=50):\n",
    "    model.train()\n",
    "    losses = []\n",
    "    for beg_i in range(0, x_train.size(0), batch_size):\n",
    "        #print(\"Came in for \",beg_i)\n",
    "        x_batch = x_train[beg_i:beg_i + batch_size, :]\n",
    "        y_batch = labels[beg_i:beg_i + batch_size, :]\n",
    "        opt.zero_grad()\n",
    "        y_hat = model(x_batch)\n",
    "        loss = criterion(y_hat, y_batch)\n",
    "        loss.backward()\n",
    "        opt.step()        \n",
    "        losses.append(loss.data.numpy())\n",
    "    return losses"
   ]
  },
  {
   "cell_type": "code",
   "execution_count": 13,
   "metadata": {},
   "outputs": [
    {
     "name": "stdout",
     "output_type": "stream",
     "text": [
      "For epoch  1 loss is  [array(0.69088876, dtype=float32)]\n",
      "For epoch  2 loss is  [array(0.68590695, dtype=float32)]\n",
      "For epoch  3 loss is  [array(0.6810352, dtype=float32)]\n",
      "For epoch  4 loss is  [array(0.6762684, dtype=float32)]\n",
      "For epoch  5 loss is  [array(0.67160916, dtype=float32)]\n",
      "For epoch  6 loss is  [array(0.66706616, dtype=float32)]\n",
      "For epoch  7 loss is  [array(0.6626296, dtype=float32)]\n",
      "For epoch  8 loss is  [array(0.6583078, dtype=float32)]\n",
      "For epoch  9 loss is  [array(0.65409315, dtype=float32)]\n",
      "For epoch  10 loss is  [array(0.6499944, dtype=float32)]\n",
      "For epoch  11 loss is  [array(0.64600194, dtype=float32)]\n",
      "For epoch  12 loss is  [array(0.6421166, dtype=float32)]\n",
      "For epoch  13 loss is  [array(0.63833857, dtype=float32)]\n",
      "For epoch  14 loss is  [array(0.6346641, dtype=float32)]\n",
      "For epoch  15 loss is  [array(0.6310921, dtype=float32)]\n",
      "For epoch  16 loss is  [array(0.6276224, dtype=float32)]\n",
      "For epoch  17 loss is  [array(0.6242507, dtype=float32)]\n",
      "For epoch  18 loss is  [array(0.6209761, dtype=float32)]\n",
      "For epoch  19 loss is  [array(0.61779624, dtype=float32)]\n",
      "For epoch  20 loss is  [array(0.61471117, dtype=float32)]\n",
      "For epoch  21 loss is  [array(0.61171484, dtype=float32)]\n",
      "For epoch  22 loss is  [array(0.60880846, dtype=float32)]\n",
      "For epoch  23 loss is  [array(0.6059808, dtype=float32)]\n",
      "For epoch  24 loss is  [array(0.6032327, dtype=float32)]\n",
      "For epoch  25 loss is  [array(0.600554, dtype=float32)]\n",
      "For epoch  26 loss is  [array(0.59795547, dtype=float32)]\n",
      "For epoch  27 loss is  [array(0.59542847, dtype=float32)]\n",
      "For epoch  28 loss is  [array(0.59296733, dtype=float32)]\n",
      "For epoch  29 loss is  [array(0.5905699, dtype=float32)]\n",
      "For epoch  30 loss is  [array(0.58822656, dtype=float32)]\n",
      "For epoch  31 loss is  [array(0.58593655, dtype=float32)]\n",
      "For epoch  32 loss is  [array(0.58369577, dtype=float32)]\n",
      "For epoch  33 loss is  [array(0.58151007, dtype=float32)]\n",
      "For epoch  34 loss is  [array(0.57936966, dtype=float32)]\n",
      "For epoch  35 loss is  [array(0.57726705, dtype=float32)]\n",
      "For epoch  36 loss is  [array(0.5752052, dtype=float32)]\n",
      "For epoch  37 loss is  [array(0.57317626, dtype=float32)]\n",
      "For epoch  38 loss is  [array(0.57118034, dtype=float32)]\n",
      "For epoch  39 loss is  [array(0.569209, dtype=float32)]\n",
      "For epoch  40 loss is  [array(0.56726676, dtype=float32)]\n",
      "For epoch  41 loss is  [array(0.5653414, dtype=float32)]\n",
      "For epoch  42 loss is  [array(0.5634329, dtype=float32)]\n",
      "For epoch  43 loss is  [array(0.5615468, dtype=float32)]\n",
      "For epoch  44 loss is  [array(0.55966455, dtype=float32)]\n",
      "For epoch  45 loss is  [array(0.55779994, dtype=float32)]\n",
      "For epoch  46 loss is  [array(0.5559331, dtype=float32)]\n",
      "For epoch  47 loss is  [array(0.554079, dtype=float32)]\n",
      "For epoch  48 loss is  [array(0.55222684, dtype=float32)]\n",
      "For epoch  49 loss is  [array(0.55037886, dtype=float32)]\n",
      "For epoch  50 loss is  [array(0.5485286, dtype=float32)]\n",
      "For epoch  51 loss is  [array(0.54667395, dtype=float32)]\n",
      "For epoch  52 loss is  [array(0.5448135, dtype=float32)]\n",
      "For epoch  53 loss is  [array(0.54294556, dtype=float32)]\n",
      "For epoch  54 loss is  [array(0.5410782, dtype=float32)]\n",
      "For epoch  55 loss is  [array(0.5392004, dtype=float32)]\n",
      "For epoch  56 loss is  [array(0.53732014, dtype=float32)]\n",
      "For epoch  57 loss is  [array(0.5354297, dtype=float32)]\n",
      "For epoch  58 loss is  [array(0.5335361, dtype=float32)]\n",
      "For epoch  59 loss is  [array(0.5316368, dtype=float32)]\n",
      "For epoch  60 loss is  [array(0.52973604, dtype=float32)]\n",
      "For epoch  61 loss is  [array(0.5278289, dtype=float32)]\n",
      "For epoch  62 loss is  [array(0.52591765, dtype=float32)]\n",
      "For epoch  63 loss is  [array(0.5240014, dtype=float32)]\n",
      "For epoch  64 loss is  [array(0.52207494, dtype=float32)]\n",
      "For epoch  65 loss is  [array(0.52014184, dtype=float32)]\n",
      "For epoch  66 loss is  [array(0.5181978, dtype=float32)]\n",
      "For epoch  67 loss is  [array(0.5162431, dtype=float32)]\n",
      "For epoch  68 loss is  [array(0.51427823, dtype=float32)]\n",
      "For epoch  69 loss is  [array(0.51230127, dtype=float32)]\n",
      "For epoch  70 loss is  [array(0.51031303, dtype=float32)]\n",
      "For epoch  71 loss is  [array(0.50831074, dtype=float32)]\n",
      "For epoch  72 loss is  [array(0.50629854, dtype=float32)]\n",
      "For epoch  73 loss is  [array(0.5042742, dtype=float32)]\n",
      "For epoch  74 loss is  [array(0.5022363, dtype=float32)]\n",
      "For epoch  75 loss is  [array(0.5001851, dtype=float32)]\n",
      "For epoch  76 loss is  [array(0.4981251, dtype=float32)]\n",
      "For epoch  77 loss is  [array(0.49605176, dtype=float32)]\n",
      "For epoch  78 loss is  [array(0.49396846, dtype=float32)]\n",
      "For epoch  79 loss is  [array(0.49187472, dtype=float32)]\n",
      "For epoch  80 loss is  [array(0.48976696, dtype=float32)]\n",
      "For epoch  81 loss is  [array(0.48764932, dtype=float32)]\n",
      "For epoch  82 loss is  [array(0.48551333, dtype=float32)]\n",
      "For epoch  83 loss is  [array(0.483369, dtype=float32)]\n",
      "For epoch  84 loss is  [array(0.4812155, dtype=float32)]\n",
      "For epoch  85 loss is  [array(0.47905067, dtype=float32)]\n",
      "For epoch  86 loss is  [array(0.4768764, dtype=float32)]\n",
      "For epoch  87 loss is  [array(0.47469234, dtype=float32)]\n",
      "For epoch  88 loss is  [array(0.47250155, dtype=float32)]\n",
      "For epoch  89 loss is  [array(0.47030112, dtype=float32)]\n",
      "For epoch  90 loss is  [array(0.4680944, dtype=float32)]\n",
      "For epoch  91 loss is  [array(0.46587983, dtype=float32)]\n",
      "For epoch  92 loss is  [array(0.463659, dtype=float32)]\n",
      "For epoch  93 loss is  [array(0.4614268, dtype=float32)]\n",
      "For epoch  94 loss is  [array(0.45918822, dtype=float32)]\n",
      "For epoch  95 loss is  [array(0.45693982, dtype=float32)]\n",
      "For epoch  96 loss is  [array(0.45468423, dtype=float32)]\n",
      "For epoch  97 loss is  [array(0.4524183, dtype=float32)]\n",
      "For epoch  98 loss is  [array(0.45014447, dtype=float32)]\n",
      "For epoch  99 loss is  [array(0.44785395, dtype=float32)]\n",
      "For epoch  100 loss is  [array(0.44555384, dtype=float32)]\n"
     ]
    }
   ],
   "source": [
    "num_epochs = 100\n",
    "for e in range(num_epochs):\n",
    "    e_losses = train_epoch(model,optimizer ,criteria,x_train.shape[0])\n",
    "    print(\"For epoch \",e+1,\"loss is \",e_losses)"
   ]
  },
  {
   "cell_type": "code",
   "execution_count": 14,
   "metadata": {},
   "outputs": [],
   "source": [
    "test_numpy = test_data.values\n",
    "output1 = test_numpy[:,-1]\n",
    "output1=output1.astype('float64')\n",
    "#output1 = torch.Tensor(output1)\n",
    "test_sub = test_data.drop(['date','Occupancy'],axis=1)\n",
    "x_test = changeToTensor(test_sub)"
   ]
  },
  {
   "cell_type": "code",
   "execution_count": 15,
   "metadata": {},
   "outputs": [],
   "source": [
    "model = model.eval()\n",
    "with torch.no_grad():\n",
    "    predictions = model(x_test)"
   ]
  },
  {
   "cell_type": "code",
   "execution_count": 16,
   "metadata": {},
   "outputs": [],
   "source": [
    "test = np.asarray(predictions)"
   ]
  },
  {
   "cell_type": "code",
   "execution_count": 17,
   "metadata": {},
   "outputs": [],
   "source": [
    "test[test>0.5]=1\n",
    "test[test<=0.5]=0"
   ]
  },
  {
   "cell_type": "code",
   "execution_count": 18,
   "metadata": {},
   "outputs": [
    {
     "name": "stdout",
     "output_type": "stream",
     "text": [
      "Testing accuracy is  78.98892534864643\n"
     ]
    }
   ],
   "source": [
    "count=0\n",
    "for i in range(test.shape[0]):\n",
    "    if(output1[i]==test[i]):\n",
    "        count = count+1\n",
    "print(\"Testing accuracy is \", (count/test.shape[0])*100)"
   ]
  },
  {
   "cell_type": "code",
   "execution_count": 19,
   "metadata": {},
   "outputs": [],
   "source": [
    "### create a model with pytorch#####\n",
    "class Net_5(nn.Module):\n",
    "    def __init__(self,size):\n",
    "        super(Net_5, self).__init__()\n",
    "        self.fc1 = nn.Linear(size,5)\n",
    "        self.relu = nn.ReLU()\n",
    "        self.fc2 = nn.Linear(5,1)\n",
    "        self.sigmoid = nn.Sigmoid()\n",
    "    def forward(self, x):\n",
    "        x = self.fc1(x)\n",
    "        x = self.relu(x)\n",
    "        x = self.fc2(x)\n",
    "        x = self.sigmoid(x)\n",
    "        return x"
   ]
  },
  {
   "cell_type": "code",
   "execution_count": 20,
   "metadata": {},
   "outputs": [],
   "source": [
    "model1 = Net_5(x_train.shape[1])"
   ]
  },
  {
   "cell_type": "code",
   "execution_count": 21,
   "metadata": {},
   "outputs": [
    {
     "data": {
      "text/plain": [
       "Net_5(\n",
       "  (fc1): Linear(in_features=5, out_features=5, bias=True)\n",
       "  (relu): ReLU()\n",
       "  (fc2): Linear(in_features=5, out_features=1, bias=True)\n",
       "  (sigmoid): Sigmoid()\n",
       ")"
      ]
     },
     "execution_count": 21,
     "metadata": {},
     "output_type": "execute_result"
    }
   ],
   "source": [
    "model1"
   ]
  },
  {
   "cell_type": "code",
   "execution_count": 22,
   "metadata": {},
   "outputs": [
    {
     "name": "stdout",
     "output_type": "stream",
     "text": [
      "Loss across epoch is  [0.43141136591027424, 0.351766392043451, 0.2974974678420439, 0.2551877216958418, 0.22293368236320774, 0.1987109073415035, 0.18033748765180752, 0.16614527302998594, 0.1548165412983153, 0.14553574649844228]  length of epoch is  10\n"
     ]
    },
    {
     "data": {
      "image/png": "[encoded data removed]",
      "text/plain": [
       "<Figure size 432x288 with 1 Axes>"
      ]
     },
     "metadata": {
      "needs_background": "light"
     },
     "output_type": "display_data"
    }
   ],
   "source": [
    "num_epochs = 10\n",
    "e_losses=[]\n",
    "loss_across_epoch=[]\n",
    "for e in range(num_epochs):\n",
    "    e_losses = train_epoch(model,optimizer ,criteria,100)\n",
    "    loss_to_plot = sum(e_losses)/len(e_losses)\n",
    "    loss_across_epoch.append(loss_to_plot)\n",
    "plt.plot(loss_across_epoch)\n",
    "print(\"Loss across epoch is \",loss_across_epoch,\" length of epoch is \",len(loss_across_epoch))"
   ]
  },
  {
   "cell_type": "code",
   "execution_count": null,
   "metadata": {},
   "outputs": [],
   "source": []
  }
 ],
 "metadata": {
  "kernelspec": {
   "display_name": "Python 3",
   "language": "python",
   "name": "python3"
  },
  "language_info": {
   "codemirror_mode": {
    "name": "ipython",
    "version": 3
   },
   "file_extension": ".py",
   "mimetype": "text/x-python",
   "name": "python",
   "nbconvert_exporter": "python",
   "pygments_lexer": "ipython3",
   "version": "3.6.7"
  }
 },
 "nbformat": 4,
 "nbformat_minor": 2
}
