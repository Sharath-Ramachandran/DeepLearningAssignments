{
 "cells": [
  {
   "cell_type": "code",
   "execution_count": 1,
   "metadata": {},
   "outputs": [],
   "source": [
    "import numpy as np\n",
    "import pandas as pd\n",
    "import torch\n",
    "from torch.autograd import Variable\n",
    "import torch.nn as nn\n",
    "import torch.nn.functional as F\n",
    "import torch.utils.data as utils\n",
    "import matplotlib.pyplot as plt\n",
    "import statistics \n",
    "from statistics import mode\n",
    "from torch.optim.lr_scheduler import StepLR\n",
    "%matplotlib inline"
   ]
  },
  {
   "cell_type": "code",
   "execution_count": 2,
   "metadata": {},
   "outputs": [],
   "source": [
    "def train_epoch(model, opt, criterion, batch_size=100):\n",
    "    model.train()\n",
    "    losses = []\n",
    "    for index in range(0, x_train.shape[0], batch_size):\n",
    "        x_batch = x_train[index:index + batch_size, :]\n",
    "        label_batch = labels[index:index + batch_size, :]\n",
    "        opt.zero_grad()\n",
    "        prediction = model(x_batch)\n",
    "        loss = criterion(prediction,label_batch)\n",
    "        loss.backward()\n",
    "        opt.step()\n",
    "        losses.append(loss.item())\n",
    "    losses = sum(losses)/len(losses)\n",
    "    return losses"
   ]
  },
  {
   "cell_type": "code",
   "execution_count": 3,
   "metadata": {},
   "outputs": [],
   "source": [
    "def baselinePrediction(output1):\n",
    "    predictions_array=[]\n",
    "    for i in range(5):\n",
    "        test=np.random.randint(2, size=len(x_test))\n",
    "        test = list(test)\n",
    "        predictions_array.append(test)\n",
    "    predictions_array = np.array(predictions_array)\n",
    "    print(predictions_array.shape)\n",
    "    final_prediction =np.zeros(predictions_array.shape[1])\n",
    "    for i in range(predictions_array.shape[1]):\n",
    "        temp_list=predictions_array[:,i].tolist()\n",
    "        final_prediction[i]=mode(temp_list)\n",
    "    count=0\n",
    "    for i in range(output1.shape[0]):\n",
    "        if(output1[i]==final_prediction[i]):\n",
    "            count = count+1\n",
    "    print(\"Accuracy is \", (count/final_prediction.shape[0])*100)\n",
    "    return (count/final_prediction.shape[0])*100"
   ]
  },
  {
   "cell_type": "code",
   "execution_count": 4,
   "metadata": {},
   "outputs": [],
   "source": [
    "def testingAccuracy(model,x_test,output1):\n",
    "    predictions_array=[]\n",
    "    model = model.eval()\n",
    "    with torch.no_grad():\n",
    "        predictions = model(x_test)\n",
    "    test = np.asarray(predictions)\n",
    "    \n",
    "    test[test>0.5]=1\n",
    "    test[test<=0.5]=0\n",
    "\n",
    "    count=0\n",
    "    for i in range(test.shape[0]):\n",
    "        if(output1[i]==test[i]):\n",
    "            count = count+1\n",
    "    print(\"Accuracy is \", (count/test.shape[0])*100)\n",
    "    return (count/test.shape[0])*100"
   ]
  },
  {
   "cell_type": "code",
   "execution_count": 5,
   "metadata": {},
   "outputs": [],
   "source": [
    "#change the dataframe to numpy array to tensor array\n",
    "def changeToTensor(dataFrame):\n",
    "    dataFrame= (dataFrame-dataFrame.min())/(dataFrame.max()-dataFrame.min())\n",
    "    x = dataFrame.values\n",
    "    x= x.astype('float64')\n",
    "    x= torch.Tensor(x)\n",
    "    return x"
   ]
  },
  {
   "cell_type": "code",
   "execution_count": 6,
   "metadata": {},
   "outputs": [],
   "source": [
    "def preProcess(data):\n",
    "    data_numpy = data.values\n",
    "    labels = data_numpy[:,-1]\n",
    "    labels= labels.astype('float64')\n",
    "    #labels= torch.Tensor(labels)\n",
    "    data_numpy = data.drop(['date','Occupancy'],axis=1)\n",
    "    features = changeToTensor(data_numpy)\n",
    "    return features, labels"
   ]
  },
  {
   "cell_type": "code",
   "execution_count": 7,
   "metadata": {},
   "outputs": [],
   "source": [
    "class Net_2Layer(nn.Module):\n",
    "    def __init__(self,size,H_size,H2_size):\n",
    "        super(Net_2Layer, self).__init__()\n",
    "        self.fc1 = nn.Linear(size,H_size)\n",
    "        self.relu = nn.ReLU()\n",
    "        self.fc2 = nn.Linear(H_size,H2_size)\n",
    "        self.relu = nn.ReLU()\n",
    "        self.fc3 = nn.Linear(H2_size,1)\n",
    "        self.sigmoid = nn.Sigmoid()\n",
    "    def forward(self, x):\n",
    "        x = self.fc1(x)\n",
    "        x = self.relu(x)\n",
    "        x = self.fc2(x)\n",
    "        x = self.relu(x)\n",
    "        x = self.fc3(x)\n",
    "        x = self.sigmoid(x)\n",
    "        return x"
   ]
  },
  {
   "cell_type": "code",
   "execution_count": 8,
   "metadata": {},
   "outputs": [],
   "source": [
    "### create a model with pytorch#####\n",
    "class Net_H(nn.Module):\n",
    "    def __init__(self,size,H_size):\n",
    "        super(Net_H, self).__init__()\n",
    "        self.fc1 = nn.Linear(size,H_size)\n",
    "        self.relu = nn.ReLU()\n",
    "        self.fc2 = nn.Linear(H_size,1)\n",
    "        self.sigmoid = nn.Sigmoid()\n",
    "    def forward(self, x):\n",
    "        x = self.fc1(x)\n",
    "        x = self.relu(x)\n",
    "        x = self.fc2(x)\n",
    "        x = self.sigmoid(x)\n",
    "        return x"
   ]
  },
  {
   "cell_type": "code",
   "execution_count": 9,
   "metadata": {},
   "outputs": [],
   "source": [
    "### create a model with pytorch#####\n",
    "class Net_5(nn.Module):\n",
    "    def __init__(self,size):\n",
    "        super(Net_5, self).__init__()\n",
    "        self.fc1 = nn.Linear(size,5)\n",
    "        self.relu = nn.ReLU()\n",
    "        self.fc2 = nn.Linear(5,1)\n",
    "        self.sigmoid = nn.Sigmoid()\n",
    "    def forward(self, x):\n",
    "        x = self.fc1(x)\n",
    "        x = self.relu(x)\n",
    "        x = self.fc2(x)\n",
    "        x = self.sigmoid(x)\n",
    "        return x"
   ]
  },
  {
   "cell_type": "code",
   "execution_count": 10,
   "metadata": {},
   "outputs": [],
   "source": [
    "num_epochs = 100"
   ]
  },
  {
   "cell_type": "code",
   "execution_count": 11,
   "metadata": {},
   "outputs": [],
   "source": [
    "criteria= nn.BCELoss()"
   ]
  },
  {
   "cell_type": "code",
   "execution_count": 12,
   "metadata": {},
   "outputs": [],
   "source": [
    "train_data = pd.read_csv('train.txt',sep=',')\n",
    "test_data = pd.read_csv('test.txt',sep=',')"
   ]
  },
  {
   "cell_type": "code",
   "execution_count": 13,
   "metadata": {},
   "outputs": [
    {
     "data": {
      "text/html": [
       "<div>\n",
       "<style scoped>\n",
       "    .dataframe tbody tr th:only-of-type {\n",
       "        vertical-align: middle;\n",
       "    }\n",
       "\n",
       "    .dataframe tbody tr th {\n",
       "        vertical-align: top;\n",
       "    }\n",
       "\n",
       "    .dataframe thead th {\n",
       "        text-align: right;\n",
       "    }\n",
       "</style>\n",
       "<table border=\"1\" class=\"dataframe\">\n",
       "  <thead>\n",
       "    <tr style=\"text-align: right;\">\n",
       "      <th></th>\n",
       "      <th>date</th>\n",
       "      <th>Temperature</th>\n",
       "      <th>Humidity</th>\n",
       "      <th>Light</th>\n",
       "      <th>CO2</th>\n",
       "      <th>HumidityRatio</th>\n",
       "      <th>Occupancy</th>\n",
       "    </tr>\n",
       "  </thead>\n",
       "  <tbody>\n",
       "    <tr>\n",
       "      <th>1</th>\n",
       "      <td>2015-02-04 17:51:00</td>\n",
       "      <td>23.18</td>\n",
       "      <td>27.2720</td>\n",
       "      <td>426.0</td>\n",
       "      <td>721.25</td>\n",
       "      <td>0.004793</td>\n",
       "      <td>1</td>\n",
       "    </tr>\n",
       "    <tr>\n",
       "      <th>2</th>\n",
       "      <td>2015-02-04 17:51:59</td>\n",
       "      <td>23.15</td>\n",
       "      <td>27.2675</td>\n",
       "      <td>429.5</td>\n",
       "      <td>714.00</td>\n",
       "      <td>0.004783</td>\n",
       "      <td>1</td>\n",
       "    </tr>\n",
       "    <tr>\n",
       "      <th>3</th>\n",
       "      <td>2015-02-04 17:53:00</td>\n",
       "      <td>23.15</td>\n",
       "      <td>27.2450</td>\n",
       "      <td>426.0</td>\n",
       "      <td>713.50</td>\n",
       "      <td>0.004779</td>\n",
       "      <td>1</td>\n",
       "    </tr>\n",
       "    <tr>\n",
       "      <th>4</th>\n",
       "      <td>2015-02-04 17:54:00</td>\n",
       "      <td>23.15</td>\n",
       "      <td>27.2000</td>\n",
       "      <td>426.0</td>\n",
       "      <td>708.25</td>\n",
       "      <td>0.004772</td>\n",
       "      <td>1</td>\n",
       "    </tr>\n",
       "    <tr>\n",
       "      <th>5</th>\n",
       "      <td>2015-02-04 17:55:00</td>\n",
       "      <td>23.10</td>\n",
       "      <td>27.2000</td>\n",
       "      <td>426.0</td>\n",
       "      <td>704.50</td>\n",
       "      <td>0.004757</td>\n",
       "      <td>1</td>\n",
       "    </tr>\n",
       "  </tbody>\n",
       "</table>\n",
       "</div>"
      ],
      "text/plain": [
       "                  date  Temperature  Humidity  Light     CO2  HumidityRatio  \\\n",
       "1  2015-02-04 17:51:00        23.18   27.2720  426.0  721.25       0.004793   \n",
       "2  2015-02-04 17:51:59        23.15   27.2675  429.5  714.00       0.004783   \n",
       "3  2015-02-04 17:53:00        23.15   27.2450  426.0  713.50       0.004779   \n",
       "4  2015-02-04 17:54:00        23.15   27.2000  426.0  708.25       0.004772   \n",
       "5  2015-02-04 17:55:00        23.10   27.2000  426.0  704.50       0.004757   \n",
       "\n",
       "   Occupancy  \n",
       "1          1  \n",
       "2          1  \n",
       "3          1  \n",
       "4          1  \n",
       "5          1  "
      ]
     },
     "execution_count": 13,
     "metadata": {},
     "output_type": "execute_result"
    }
   ],
   "source": [
    "train_data.head()"
   ]
  },
  {
   "cell_type": "code",
   "execution_count": 14,
   "metadata": {},
   "outputs": [
    {
     "name": "stdout",
     "output_type": "stream",
     "text": [
      "torch.Size([8143, 5]) torch.Size([8143, 1])\n"
     ]
    }
   ],
   "source": [
    "x_train, labels =preProcess(train_data)\n",
    "labels_accuracy = labels\n",
    "labels= torch.Tensor(labels)\n",
    "labels = labels.unsqueeze(1)\n",
    "print(x_train.shape, labels.shape)"
   ]
  },
  {
   "cell_type": "code",
   "execution_count": 15,
   "metadata": {},
   "outputs": [],
   "source": [
    "x_test, output = preProcess(test_data)"
   ]
  },
  {
   "cell_type": "markdown",
   "metadata": {},
   "source": [
    "### Part (a) printing the loss value across 100 epochs for batch training"
   ]
  },
  {
   "cell_type": "code",
   "execution_count": 16,
   "metadata": {},
   "outputs": [],
   "source": [
    "model = Net_5(x_train.shape[1])\n",
    "optimizer = torch.optim.Adam(model.parameters(),lr=0.001)"
   ]
  },
  {
   "cell_type": "code",
   "execution_count": 17,
   "metadata": {},
   "outputs": [
    {
     "name": "stdout",
     "output_type": "stream",
     "text": [
      "For epoch  1 loss is  0.6898178458213806\n",
      "For epoch  2 loss is  0.6890311241149902\n",
      "For epoch  3 loss is  0.6882527470588684\n",
      "For epoch  4 loss is  0.6874701976776123\n",
      "For epoch  5 loss is  0.6866961121559143\n",
      "For epoch  6 loss is  0.685918927192688\n",
      "For epoch  7 loss is  0.6851505637168884\n",
      "For epoch  8 loss is  0.6843807101249695\n",
      "For epoch  9 loss is  0.6836180090904236\n",
      "For epoch  10 loss is  0.682850182056427\n",
      "For epoch  11 loss is  0.682090699672699\n",
      "For epoch  12 loss is  0.6813257932662964\n",
      "For epoch  13 loss is  0.6805676817893982\n",
      "For epoch  14 loss is  0.6798044443130493\n",
      "For epoch  15 loss is  0.6790549755096436\n",
      "For epoch  16 loss is  0.6782912015914917\n",
      "For epoch  17 loss is  0.6775478720664978\n",
      "For epoch  18 loss is  0.6767897009849548\n",
      "For epoch  19 loss is  0.6760475039482117\n",
      "For epoch  20 loss is  0.6752955913543701\n",
      "For epoch  21 loss is  0.6745551824569702\n",
      "For epoch  22 loss is  0.673810601234436\n",
      "For epoch  23 loss is  0.6730703711509705\n",
      "For epoch  24 loss is  0.6723384261131287\n",
      "For epoch  25 loss is  0.671592116355896\n",
      "For epoch  26 loss is  0.6708655953407288\n",
      "For epoch  27 loss is  0.670127809047699\n",
      "For epoch  28 loss is  0.6694004535675049\n",
      "For epoch  29 loss is  0.668665885925293\n",
      "For epoch  30 loss is  0.6679397821426392\n",
      "For epoch  31 loss is  0.6672142744064331\n",
      "For epoch  32 loss is  0.6664820909500122\n",
      "For epoch  33 loss is  0.6657640337944031\n",
      "For epoch  34 loss is  0.6650393009185791\n",
      "For epoch  35 loss is  0.6643204689025879\n",
      "For epoch  36 loss is  0.6636077761650085\n",
      "For epoch  37 loss is  0.6628915667533875\n",
      "For epoch  38 loss is  0.662180483341217\n",
      "For epoch  39 loss is  0.6614767909049988\n",
      "For epoch  40 loss is  0.6607663631439209\n",
      "For epoch  41 loss is  0.6600580811500549\n",
      "For epoch  42 loss is  0.6593554019927979\n",
      "For epoch  43 loss is  0.6586538553237915\n",
      "For epoch  44 loss is  0.6579563021659851\n",
      "For epoch  45 loss is  0.6572527885437012\n",
      "For epoch  46 loss is  0.6565496325492859\n",
      "For epoch  47 loss is  0.6558552384376526\n",
      "For epoch  48 loss is  0.6551556587219238\n",
      "For epoch  49 loss is  0.6544590592384338\n",
      "For epoch  50 loss is  0.6537688374519348\n",
      "For epoch  51 loss is  0.6530678868293762\n",
      "For epoch  52 loss is  0.6523783802986145\n",
      "For epoch  53 loss is  0.651686429977417\n",
      "For epoch  54 loss is  0.6509867310523987\n",
      "For epoch  55 loss is  0.650301456451416\n",
      "For epoch  56 loss is  0.6496028900146484\n",
      "For epoch  57 loss is  0.6489161252975464\n",
      "For epoch  58 loss is  0.6482220888137817\n",
      "For epoch  59 loss is  0.647537887096405\n",
      "For epoch  60 loss is  0.6468477845191956\n",
      "For epoch  61 loss is  0.6461572051048279\n",
      "For epoch  62 loss is  0.6454737782478333\n",
      "For epoch  63 loss is  0.6447808146476746\n",
      "For epoch  64 loss is  0.6440964937210083\n",
      "For epoch  65 loss is  0.6434029340744019\n",
      "For epoch  66 loss is  0.6427189707756042\n",
      "For epoch  67 loss is  0.6420298218727112\n",
      "For epoch  68 loss is  0.6413408517837524\n",
      "For epoch  69 loss is  0.6406601071357727\n",
      "For epoch  70 loss is  0.6399663686752319\n",
      "For epoch  71 loss is  0.6392822861671448\n",
      "For epoch  72 loss is  0.6385905742645264\n",
      "For epoch  73 loss is  0.6379082798957825\n",
      "For epoch  74 loss is  0.6372140645980835\n",
      "For epoch  75 loss is  0.6365275979042053\n",
      "For epoch  76 loss is  0.6358377933502197\n",
      "For epoch  77 loss is  0.6351499557495117\n",
      "For epoch  78 loss is  0.6344557404518127\n",
      "For epoch  79 loss is  0.633769154548645\n",
      "For epoch  80 loss is  0.6330785751342773\n",
      "For epoch  81 loss is  0.6323891282081604\n",
      "For epoch  82 loss is  0.6317004561424255\n",
      "For epoch  83 loss is  0.6310104727745056\n",
      "For epoch  84 loss is  0.6303221583366394\n",
      "For epoch  85 loss is  0.6296301484107971\n",
      "For epoch  86 loss is  0.6289454698562622\n",
      "For epoch  87 loss is  0.6282527446746826\n",
      "For epoch  88 loss is  0.6275679469108582\n",
      "For epoch  89 loss is  0.6268738508224487\n",
      "For epoch  90 loss is  0.6261880397796631\n",
      "For epoch  91 loss is  0.6254969835281372\n",
      "For epoch  92 loss is  0.6248119473457336\n",
      "For epoch  93 loss is  0.6241199970245361\n",
      "For epoch  94 loss is  0.6234310865402222\n",
      "For epoch  95 loss is  0.6227430105209351\n",
      "For epoch  96 loss is  0.6220524907112122\n",
      "For epoch  97 loss is  0.6213595271110535\n",
      "For epoch  98 loss is  0.6206762194633484\n",
      "For epoch  99 loss is  0.6199818849563599\n",
      "For epoch  100 loss is  0.6193017363548279\n"
     ]
    }
   ],
   "source": [
    "loss_to_plot_batch=[]\n",
    "for e in range(num_epochs):\n",
    "    e_losses = train_epoch(model,optimizer ,criteria,x_train.shape[0])\n",
    "    loss_to_plot_batch.append(e_losses)\n",
    "    print(\"For epoch \",e+1,\"loss is \",e_losses)"
   ]
  },
  {
   "cell_type": "markdown",
   "metadata": {},
   "source": [
    "### Part (b) Getting the baseline accuracy for the testing data from randomly generated labels"
   ]
  },
  {
   "cell_type": "code",
   "execution_count": 18,
   "metadata": {},
   "outputs": [
    {
     "name": "stdout",
     "output_type": "stream",
     "text": [
      "(5, 9752)\n",
      "Accuracy is  50.030762920426575\n"
     ]
    }
   ],
   "source": [
    "baseline_accuracy = baselinePrediction(output)"
   ]
  },
  {
   "cell_type": "code",
   "execution_count": 19,
   "metadata": {},
   "outputs": [],
   "source": [
    "baseline_error= 1-(baseline_accuracy/100)\n",
    "baseline_error_plot=[baseline_error]*100"
   ]
  },
  {
   "cell_type": "markdown",
   "metadata": {},
   "source": [
    "### Part (c) With the H=5,changed the learning rate and plotted training loss across every epoch. Also stopped when the error didnt decrease by much "
   ]
  },
  {
   "cell_type": "code",
   "execution_count": 20,
   "metadata": {},
   "outputs": [
    {
     "name": "stdout",
     "output_type": "stream",
     "text": [
      "Stopped running at  26  epochs rather than 100 epochs\n",
      "Accuracy for the testing data \n",
      "Accuracy is  97.11853978671043\n",
      "Accuracy for the training data\n",
      "Accuracy is  97.35969544393957\n"
     ]
    },
    {
     "data": {
      "image/png": "[encoded data removed]",
      "text/plain": [
       "<Figure size 432x288 with 1 Axes>"
      ]
     },
     "metadata": {
      "needs_background": "light"
     },
     "output_type": "display_data"
    }
   ],
   "source": [
    "num_epochs = 100\n",
    "e_losses=[]\n",
    "loss_across_epoch=[]\n",
    "model = Net_5(x_train.shape[1])\n",
    "optimizer = torch.optim.Adam(model.parameters(),lr=0.01)\n",
    "scheduler = StepLR(optimizer, step_size=10, gamma=0.1)\n",
    "for e in range(num_epochs):\n",
    "    e_losses = train_epoch(model,optimizer ,criteria,100)\n",
    "    scheduler.step()\n",
    "    if(len(loss_across_epoch)>1):\n",
    "        if(loss_across_epoch[-1]-e_losses)<0.0001:\n",
    "            num_epochs=e\n",
    "        else:\n",
    "            loss_across_epoch.append(e_losses)\n",
    "    else:\n",
    "        loss_across_epoch.append(e_losses)\n",
    "        \n",
    "print(\"Stopped running at \",len(loss_across_epoch),\" epochs rather than 100 epochs\")\n",
    "print(\"Accuracy for the testing data \")\n",
    "dummy=testingAccuracy(model,x_test,output)\n",
    "print(\"Accuracy for the training data\")\n",
    "dummy=testingAccuracy(model,x_train,labels_accuracy)#train_numpy[:,-1].astype('float64'))\n",
    "plt.title('Training loss across epoch vs number of epochs')\n",
    "plt.plot(loss_across_epoch)\n",
    "baseline_error_plot1 = baseline_error_plot[:len(loss_across_epoch)]\n",
    "plt.plot(baseline_error_plot1)\n",
    "plt.show()"
   ]
  },
  {
   "cell_type": "markdown",
   "metadata": {},
   "source": [
    "### Part (d) Plot of the training loss obtained by considering the entire training data as a batch"
   ]
  },
  {
   "cell_type": "code",
   "execution_count": 21,
   "metadata": {},
   "outputs": [
    {
     "data": {
      "text/plain": [
       "[<matplotlib.lines.Line2D at 0x7f1ec85278d0>]"
      ]
     },
     "execution_count": 21,
     "metadata": {},
     "output_type": "execute_result"
    },
    {
     "data": {
      "image/png": "[encoded data removed]",
      "text/plain": [
       "<Figure size 432x288 with 1 Axes>"
      ]
     },
     "metadata": {
      "needs_background": "light"
     },
     "output_type": "display_data"
    }
   ],
   "source": [
    "plt.title('Batch Gradient descent method for training loss vs epoch')\n",
    "plt.plot(loss_to_plot_batch)"
   ]
  },
  {
   "cell_type": "markdown",
   "metadata": {},
   "source": [
    "### Part (e) Varied the number of hidden layers(H) and created a model for each of it and plotted the training and testing error"
   ]
  },
  {
   "cell_type": "code",
   "execution_count": 22,
   "metadata": {},
   "outputs": [
    {
     "name": "stdout",
     "output_type": "stream",
     "text": [
      "Training accuracy for H  1\n",
      "Accuracy is  21.232960825248682\n",
      "Testing accuracy for H  1\n",
      "Accuracy is  21.011074651353567\n",
      "Training accuracy for H  2\n",
      "Accuracy is  27.029350362274347\n",
      "Testing accuracy for H  2\n",
      "Accuracy is  21.97497949138638\n",
      "Training accuracy for H  5\n",
      "Accuracy is  20.054034139751934\n",
      "Testing accuracy for H  5\n",
      "Accuracy is  21.011074651353567\n",
      "Training accuracy for H  10\n",
      "Accuracy is  78.76703917475132\n",
      "Testing accuracy for H  10\n",
      "Accuracy is  78.98892534864643\n",
      "Training accuracy for H  20\n",
      "Accuracy is  78.76703917475132\n",
      "Testing accuracy for H  20\n",
      "Accuracy is  78.98892534864643\n"
     ]
    },
    {
     "data": {
      "image/png": "[encoded data removed]",
      "text/plain": [
       "<Figure size 432x288 with 1 Axes>"
      ]
     },
     "metadata": {
      "needs_background": "light"
     },
     "output_type": "display_data"
    }
   ],
   "source": [
    "x_axis=[1,2,5,10,20]\n",
    "training_accuracy_every_H=[]\n",
    "testing_accuracy_every_H=[]\n",
    "num_epochs=100\n",
    "for H in [1,2,5,10,20]:\n",
    "    model = Net_H(x_train.shape[1],H)\n",
    "    optimizer = torch.optim.Adam(model.parameters(),lr=0.01)\n",
    "    scheduler = StepLR(optimizer, step_size=10, gamma=0.1)\n",
    "    for e in range(num_epochs):\n",
    "        e_losses = train_epoch(model,optimizer ,criteria,x_train.shape[0])\n",
    "        scheduler.step()\n",
    "    print(\"Training accuracy for H \",H)\n",
    "    training_accuracy_every_H.append(testingAccuracy(model,x_train,labels_accuracy))#train_numpy[:,-1].astype('float64')))\n",
    "    print(\"Testing accuracy for H \",H)\n",
    "    testing_accuracy_every_H.append(testingAccuracy(model,x_test,output))\n",
    "plt.title('Training and Testing accuracy across H vs values of H')\n",
    "plt.plot(x_axis,training_accuracy_every_H)\n",
    "plt.plot(x_axis,testing_accuracy_every_H)\n",
    "plt.legend(['Training accuracy','Tesing accuracy'], loc='upper right')\n",
    "plt.show()"
   ]
  },
  {
   "cell_type": "markdown",
   "metadata": {},
   "source": [
    "### Part (f) Changed the BCELoss to MSELoss and performed the training and testing again"
   ]
  },
  {
   "cell_type": "code",
   "execution_count": 23,
   "metadata": {},
   "outputs": [],
   "source": [
    "criteria= nn.MSELoss()"
   ]
  },
  {
   "cell_type": "code",
   "execution_count": 24,
   "metadata": {},
   "outputs": [
    {
     "data": {
      "text/plain": [
       "[<matplotlib.lines.Line2D at 0x7f1ec85390b8>]"
      ]
     },
     "execution_count": 24,
     "metadata": {},
     "output_type": "execute_result"
    },
    {
     "data": {
      "image/png": "[encoded data removed]",
      "text/plain": [
       "<Figure size 432x288 with 1 Axes>"
      ]
     },
     "metadata": {
      "needs_background": "light"
     },
     "output_type": "display_data"
    }
   ],
   "source": [
    "model = Net_5(x_train.shape[1])\n",
    "optimizer = torch.optim.Adam(model.parameters(),lr=0.001)\n",
    "loss_to_plot_batch=[]\n",
    "for e in range(num_epochs):\n",
    "    e_losses = train_epoch(model,optimizer ,criteria,x_train.shape[0])\n",
    "    loss_to_plot_batch.append(e_losses)\n",
    "plt.title('Batch Gradient descent method for training loss vs epoch')\n",
    "plt.plot(loss_to_plot_batch)"
   ]
  },
  {
   "cell_type": "code",
   "execution_count": 25,
   "metadata": {},
   "outputs": [
    {
     "name": "stdout",
     "output_type": "stream",
     "text": [
      "tensor([[ 0.2234, -0.2948, -0.3368, -0.2196,  0.2716],\n",
      "        [ 0.0127,  0.1169, -0.0080,  0.1451, -0.3235],\n",
      "        [-0.3787, -0.2521, -0.0868, -0.2133, -0.3357],\n",
      "        [ 0.5344,  0.4497, -0.4653,  0.0540, -0.2178],\n",
      "        [-0.3834,  0.1587,  0.2533, -0.2416,  0.1362]])\n",
      "tensor([ 0.1882, -0.2834, -0.2893,  0.1337, -0.1426])\n",
      "tensor([[-0.3010,  0.1407,  0.0881, -0.5175,  0.0107]])\n",
      "tensor([0.1828])\n"
     ]
    }
   ],
   "source": [
    "for param in model.parameters ():\n",
    "    print(param.data)"
   ]
  },
  {
   "cell_type": "code",
   "execution_count": 26,
   "metadata": {},
   "outputs": [
    {
     "name": "stdout",
     "output_type": "stream",
     "text": [
      "Criterai is  MSELoss()\n",
      "Stopped running at  25  epochs instead of 100\n",
      "Accuracy is  89.80721903199344\n",
      "Accuracy for the training data\n",
      "Accuracy is  96.1930492447501\n"
     ]
    },
    {
     "data": {
      "image/png": "[encoded data removed]",
      "text/plain": [
       "<Figure size 432x288 with 1 Axes>"
      ]
     },
     "metadata": {
      "needs_background": "light"
     },
     "output_type": "display_data"
    }
   ],
   "source": [
    "\n",
    "print(\"Criterai is \",criteria)\n",
    "\n",
    "e_losses=[]\n",
    "loss_across_epoch=[]\n",
    "model = Net_5(x_train.shape[1])\n",
    "optimizer = torch.optim.Adam(model.parameters(),lr=0.01)\n",
    "scheduler = StepLR(optimizer, step_size=10, gamma=0.1)\n",
    "for e in range(num_epochs):\n",
    "    e_losses = train_epoch(model,optimizer ,criteria,100)\n",
    "    scheduler.step()\n",
    "    if(len(loss_across_epoch)>1):\n",
    "        if(loss_across_epoch[-1]-e_losses)<0.0001:\n",
    "            num_epochs=e\n",
    "        else:\n",
    "            loss_across_epoch.append(e_losses)\n",
    "    else:\n",
    "        loss_across_epoch.append(e_losses)\n",
    "print(\"Stopped running at \",len(loss_across_epoch),\" epochs instead of 100\")\n",
    "\n",
    "\n",
    "\n",
    "dummy=testingAccuracy(model,x_test,output)\n",
    "print(\"Accuracy for the training data\")\n",
    "dummy=testingAccuracy(model,x_train,labels_accuracy)#train_numpy[:,-1].astype('float64'))\n",
    "plt.title('Training loss across epoch vs number of epochs')\n",
    "\n",
    "'''needed_index= 0\n",
    "min_change=0.001\n",
    "for i in range(1,len(loss_across_epoch)):\n",
    "    if(loss_across_epoch[i-1]-loss_across_epoch[i]< min_change):\n",
    "        print(\"Should stop at index \",i)\n",
    "        needed_index = i\n",
    "        break\n",
    "loss_across_epoch=loss_across_epoch[:needed_index]'''\n",
    "plt.plot(loss_across_epoch)    \n",
    "baseline_error_plot1 = baseline_error_plot[:len(loss_across_epoch)]\n",
    "plt.plot(baseline_error_plot1)\n",
    "plt.show()"
   ]
  },
  {
   "cell_type": "code",
   "execution_count": 27,
   "metadata": {},
   "outputs": [
    {
     "name": "stdout",
     "output_type": "stream",
     "text": [
      "Accuracy is  96.80707356011298\n",
      "Accuracy is  93.94995898277276\n",
      "Accuracy is  78.76703917475132\n",
      "Accuracy is  78.98892534864643\n",
      "Accuracy is  96.43865897089525\n",
      "Accuracy is  86.83347005742412\n",
      "Accuracy is  97.67898808792829\n",
      "Accuracy is  94.26784249384743\n",
      "Accuracy is  98.01056121822424\n",
      "Accuracy is  94.28835110746515\n"
     ]
    },
    {
     "data": {
      "image/png": "[encoded data removed]",
      "text/plain": [
       "<Figure size 432x288 with 1 Axes>"
      ]
     },
     "metadata": {
      "needs_background": "light"
     },
     "output_type": "display_data"
    }
   ],
   "source": [
    "epochs=100\n",
    "x_axis=[1,2,5,10,20]\n",
    "training_accuracy_every_H=[]\n",
    "testing_accuracy_every_H=[]\n",
    "for H in [1,2,5,10,20]:\n",
    "    model = Net_H(x_train.shape[1],H)\n",
    "    optimizer = torch.optim.Adam(model.parameters(),lr=0.1)\n",
    "    scheduler = StepLR(optimizer, step_size=30, gamma=0.1)\n",
    "    for e in range(num_epochs):\n",
    "        e_losses = train_epoch(model,optimizer,criteria,x_train.shape[0])\n",
    "        scheduler.step()\n",
    "    training_accuracy_every_H.append(testingAccuracy(model,x_train,labels_accuracy))#train_numpy[:,-1].astype('float64')))\n",
    "    testing_accuracy_every_H.append(testingAccuracy(model,x_test,output))\n",
    "plt.title('Training and Testing accuracy across H vs values of H')\n",
    "plt.plot(x_axis,training_accuracy_every_H)\n",
    "plt.plot(x_axis,testing_accuracy_every_H)\n",
    "plt.legend(['Training accuracy','Tesing accuracy'], loc='upper right')\n",
    "plt.show()"
   ]
  },
  {
   "cell_type": "markdown",
   "metadata": {},
   "source": [
    "### Part(g) Created a two layer network and obtained the test accuracy for every combination for H1 and H2"
   ]
  },
  {
   "cell_type": "code",
   "execution_count": 29,
   "metadata": {},
   "outputs": [
    {
     "name": "stdout",
     "output_type": "stream",
     "text": [
      "\n",
      "H1 has  1  neurons and H2 has 15  neurons\n",
      "Testing accuracy for the 2 layer for the model with H1  1  and H2  15\n",
      "Accuracy is  94.27809680065627\n",
      "Training accuracy for the same model \n",
      "Accuracy is  95.4070981210856\n",
      "\n",
      "H1 has  1  neurons and H2 has 120  neurons\n",
      "Testing accuracy for the 2 layer for the model with H1  1  and H2  120\n",
      "Accuracy is  86.93601312551272\n",
      "Training accuracy for the same model \n",
      "Accuracy is  96.1930492447501\n",
      "\n",
      "H1 has  1  neurons and H2 has 220  neurons\n",
      "Testing accuracy for the 2 layer for the model with H1  1  and H2  220\n",
      "Accuracy is  78.98892534864643\n",
      "Training accuracy for the same model \n",
      "Accuracy is  78.76703917475132\n",
      "\n",
      "H1 has  1  neurons and H2 has 230  neurons\n",
      "Testing accuracy for the 2 layer for the model with H1  1  and H2  230\n",
      "Accuracy is  86.51558654634947\n",
      "Training accuracy for the same model \n",
      "Accuracy is  97.05268328625813\n",
      "\n",
      "H1 has  2  neurons and H2 has 15  neurons\n",
      "Testing accuracy for the 2 layer for the model with H1  2  and H2  15\n",
      "Accuracy is  78.98892534864643\n",
      "Training accuracy for the same model \n",
      "Accuracy is  78.76703917475132\n",
      "\n",
      "H1 has  2  neurons and H2 has 120  neurons\n",
      "Testing accuracy for the 2 layer for the model with H1  2  and H2  120\n",
      "Accuracy is  88.09474979491387\n",
      "Training accuracy for the same model \n",
      "Accuracy is  97.72811003315731\n",
      "\n",
      "H1 has  2  neurons and H2 has 220  neurons\n",
      "Testing accuracy for the 2 layer for the model with H1  2  and H2  220\n",
      "Accuracy is  94.53445447087778\n",
      "Training accuracy for the same model \n",
      "Accuracy is  98.74739039665971\n",
      "\n",
      "H1 has  2  neurons and H2 has 230  neurons\n",
      "Testing accuracy for the 2 layer for the model with H1  2  and H2  230\n",
      "Accuracy is  97.35438884331418\n",
      "Training accuracy for the same model \n",
      "Accuracy is  98.63686601989438\n",
      "\n",
      "H1 has  5  neurons and H2 has 15  neurons\n",
      "Testing accuracy for the 2 layer for the model with H1  5  and H2  15\n",
      "Accuracy is  93.0988515176374\n",
      "Training accuracy for the same model \n",
      "Accuracy is  98.62458553358712\n",
      "\n",
      "H1 has  5  neurons and H2 has 120  neurons\n",
      "Testing accuracy for the 2 layer for the model with H1  5  and H2  120\n",
      "Accuracy is  99.21041837571781\n",
      "Training accuracy for the same model \n",
      "Accuracy is  98.84563428711776\n",
      "\n",
      "H1 has  5  neurons and H2 has 220  neurons\n",
      "Testing accuracy for the 2 layer for the model with H1  5  and H2  220\n",
      "Accuracy is  90.68908941755537\n",
      "Training accuracy for the same model \n",
      "Accuracy is  98.60002456097261\n",
      "\n",
      "H1 has  5  neurons and H2 has 230  neurons\n",
      "Testing accuracy for the 2 layer for the model with H1  5  and H2  230\n",
      "Accuracy is  99.05660377358491\n",
      "Training accuracy for the same model \n",
      "Accuracy is  98.60002456097261\n",
      "\n",
      "H1 has  10  neurons and H2 has 15  neurons\n",
      "Testing accuracy for the 2 layer for the model with H1  10  and H2  15\n",
      "Accuracy is  96.38022969647253\n",
      "Training accuracy for the same model \n",
      "Accuracy is  97.11408571779442\n",
      "\n",
      "H1 has  10  neurons and H2 has 120  neurons\n",
      "Testing accuracy for the 2 layer for the model with H1  10  and H2  120\n",
      "Accuracy is  98.83100902378999\n",
      "Training accuracy for the same model \n",
      "Accuracy is  98.60002456097261\n",
      "\n",
      "H1 has  10  neurons and H2 has 220  neurons\n",
      "Testing accuracy for the 2 layer for the model with H1  10  and H2  220\n",
      "Accuracy is  95.45734208367514\n",
      "Training accuracy for the same model \n",
      "Accuracy is  98.71054893773793\n",
      "\n",
      "H1 has  10  neurons and H2 has 230  neurons\n",
      "Testing accuracy for the 2 layer for the model with H1  10  and H2  230\n",
      "Accuracy is  98.39007383100903\n",
      "Training accuracy for the same model \n",
      "Accuracy is  98.63686601989438\n",
      "\n",
      "H1 has  20  neurons and H2 has 15  neurons\n",
      "Testing accuracy for the 2 layer for the model with H1  20  and H2  15\n",
      "Accuracy is  98.49261689909761\n",
      "Training accuracy for the same model \n",
      "Accuracy is  98.64914650620165\n",
      "\n",
      "H1 has  20  neurons and H2 has 120  neurons\n",
      "Testing accuracy for the 2 layer for the model with H1  20  and H2  120\n",
      "Accuracy is  99.01558654634947\n",
      "Training accuracy for the same model \n",
      "Accuracy is  98.73510991035245\n",
      "\n",
      "H1 has  20  neurons and H2 has 220  neurons\n",
      "Testing accuracy for the 2 layer for the model with H1  20  and H2  220\n",
      "Accuracy is  92.79122231337162\n",
      "Training accuracy for the same model \n",
      "Accuracy is  98.83335380081051\n",
      "\n",
      "H1 has  20  neurons and H2 has 230  neurons\n",
      "Testing accuracy for the 2 layer for the model with H1  20  and H2  230\n",
      "Accuracy is  98.88228055783429\n",
      "Training accuracy for the same model \n",
      "Accuracy is  98.64914650620165\n"
     ]
    }
   ],
   "source": [
    "num_epochs=100\n",
    "criteria= nn.BCELoss()\n",
    "for H1 in [1,2,5,10,20]:\n",
    "    for H2 in [15,120,220,230]:\n",
    "        print()\n",
    "        print(\"H1 has \",H1,' neurons and H2 has',H2,' neurons')\n",
    "        model = Net_2Layer(x_train.shape[1],H1,H2)\n",
    "        optimizer = torch.optim.Adam(model.parameters(),lr=0.01)\n",
    "        for e in range(num_epochs):\n",
    "            e_losses = train_epoch(model,optimizer ,criteria,x_train.shape[0])\n",
    "        print(\"Testing accuracy for the 2 layer for the model with H1 \",H1,\" and H2 \",H2)\n",
    "        testingAccuracy(model,x_test,output)\n",
    "        print(\"Training accuracy for the same model \")\n",
    "        testingAccuracy(model,x_train,labels_accuracy)"
   ]
  },
  {
   "cell_type": "code",
   "execution_count": null,
   "metadata": {},
   "outputs": [],
   "source": []
  }
 ],
 "metadata": {
  "kernelspec": {
   "display_name": "Python 3",
   "language": "python",
   "name": "python3"
  },
  "language_info": {
   "codemirror_mode": {
    "name": "ipython",
    "version": 3
   },
   "file_extension": ".py",
   "mimetype": "text/x-python",
   "name": "python",
   "nbconvert_exporter": "python",
   "pygments_lexer": "ipython3",
   "version": "3.5.2"
  }
 },
 "nbformat": 4,
 "nbformat_minor": 2
}
