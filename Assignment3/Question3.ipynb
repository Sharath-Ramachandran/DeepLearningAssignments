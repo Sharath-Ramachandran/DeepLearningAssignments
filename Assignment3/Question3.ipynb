{
 "cells": [
  {
   "cell_type": "code",
   "execution_count": 1,
   "metadata": {},
   "outputs": [],
   "source": [
    "import numpy as np\n",
    "import pandas as pd\n",
    "import torch\n",
    "from torch.autograd import Variable\n",
    "import torch.nn as nn\n",
    "import torch.nn.functional as F\n",
    "import torch.utils.data as utils\n",
    "import matplotlib.pyplot as plt\n",
    "import statistics \n",
    "from statistics import mode\n",
    "from torch.optim.lr_scheduler import StepLR\n",
    "%matplotlib inline"
   ]
  },
  {
   "cell_type": "code",
   "execution_count": 2,
   "metadata": {},
   "outputs": [],
   "source": [
    "def train_epoch(model, opt, criterion, batch_size=100):\n",
    "    model.train()\n",
    "    losses = []\n",
    "    for index in range(0, x_train.shape[0], batch_size):\n",
    "        x_batch = x_train[index:index + batch_size, :]\n",
    "        label_batch = labels[index:index + batch_size, :]\n",
    "        opt.zero_grad()\n",
    "        prediction = model(x_batch)\n",
    "        loss = criterion(prediction,label_batch)\n",
    "        loss.backward()\n",
    "        opt.step()\n",
    "        losses.append(loss.item())\n",
    "    losses = sum(losses)/len(losses)\n",
    "    return losses"
   ]
  },
  {
   "cell_type": "code",
   "execution_count": 3,
   "metadata": {},
   "outputs": [],
   "source": [
    "def testingAccuracy(model,x_test,output1):\n",
    "    predictions_array=[]\n",
    "    model = model.eval()\n",
    "    for i in range(5):\n",
    "        with torch.no_grad():\n",
    "            predictions = model(x_test)\n",
    "        test = np.asarray(predictions)\n",
    "        test[test>0.5]=1\n",
    "        test[test<=0.5]=0\n",
    "        predictions_array.append(test)\n",
    "    predictions_array = np.array(predictions_array)\n",
    "    predictions_array = np.squeeze(predictions_array,axis=2)\n",
    "    final_prediction =np.zeros(predictions_array.shape[1])\n",
    "    for i in range(predictions_array.shape[1]):\n",
    "        temp_list=predictions_array[:,i].tolist()\n",
    "        final_prediction[i]=mode(temp_list)\n",
    "    count=0\n",
    "    for i in range(test.shape[0]):\n",
    "        if(output1[i]==final_prediction[i]):\n",
    "            count = count+1\n",
    "    print(\"Accuracy is \", (count/final_prediction.shape[0])*100)\n",
    "    return (count/final_prediction.shape[0])*100"
   ]
  },
  {
   "cell_type": "code",
   "execution_count": 4,
   "metadata": {},
   "outputs": [],
   "source": [
    "#change the dataframe to numpy array to tensor array\n",
    "def changeToTensor(dataFrame):\n",
    "    dataFrame= (dataFrame-dataFrame.min())/(dataFrame.max()-dataFrame.min())\n",
    "    x = dataFrame.values\n",
    "    x= x.astype('float64')\n",
    "    x= torch.Tensor(x)\n",
    "    return x"
   ]
  },
  {
   "cell_type": "code",
   "execution_count": 5,
   "metadata": {},
   "outputs": [],
   "source": [
    "### create a model with pytorch#####\n",
    "class Net_H(nn.Module):\n",
    "    def __init__(self,size,H_size):\n",
    "        super(Net_H, self).__init__()\n",
    "        self.fc1 = nn.Linear(size,H_size)\n",
    "        self.relu = nn.ReLU()\n",
    "        self.fc2 = nn.Linear(H_size,1)\n",
    "        self.sigmoid = nn.Sigmoid()\n",
    "    def forward(self, x):\n",
    "        x = self.fc1(x)\n",
    "        x = self.relu(x)\n",
    "        x = self.fc2(x)\n",
    "        x = self.sigmoid(x)\n",
    "        return x"
   ]
  },
  {
   "cell_type": "code",
   "execution_count": 6,
   "metadata": {},
   "outputs": [],
   "source": [
    "### create a model with pytorch#####\n",
    "class Net_5(nn.Module):\n",
    "    def __init__(self,size):\n",
    "        super(Net_5, self).__init__()\n",
    "        self.fc1 = nn.Linear(size,5)\n",
    "        self.relu = nn.ReLU()\n",
    "        self.fc2 = nn.Linear(5,1)\n",
    "        self.sigmoid = nn.Sigmoid()\n",
    "    def forward(self, x):\n",
    "        x = self.fc1(x)\n",
    "        x = self.relu(x)\n",
    "        x = self.fc2(x)\n",
    "        x = self.sigmoid(x)\n",
    "        return x"
   ]
  },
  {
   "cell_type": "code",
   "execution_count": 7,
   "metadata": {},
   "outputs": [],
   "source": [
    "train_data = pd.read_csv('train.txt',sep=',')\n",
    "test_data = pd.read_csv('test.txt',sep=',')"
   ]
  },
  {
   "cell_type": "code",
   "execution_count": 8,
   "metadata": {},
   "outputs": [
    {
     "data": {
      "text/html": [
       "<div>\n",
       "<style scoped>\n",
       "    .dataframe tbody tr th:only-of-type {\n",
       "        vertical-align: middle;\n",
       "    }\n",
       "\n",
       "    .dataframe tbody tr th {\n",
       "        vertical-align: top;\n",
       "    }\n",
       "\n",
       "    .dataframe thead th {\n",
       "        text-align: right;\n",
       "    }\n",
       "</style>\n",
       "<table border=\"1\" class=\"dataframe\">\n",
       "  <thead>\n",
       "    <tr style=\"text-align: right;\">\n",
       "      <th></th>\n",
       "      <th>date</th>\n",
       "      <th>Temperature</th>\n",
       "      <th>Humidity</th>\n",
       "      <th>Light</th>\n",
       "      <th>CO2</th>\n",
       "      <th>HumidityRatio</th>\n",
       "      <th>Occupancy</th>\n",
       "    </tr>\n",
       "  </thead>\n",
       "  <tbody>\n",
       "    <tr>\n",
       "      <th>1</th>\n",
       "      <td>2015-02-04 17:51:00</td>\n",
       "      <td>23.18</td>\n",
       "      <td>27.2720</td>\n",
       "      <td>426.0</td>\n",
       "      <td>721.25</td>\n",
       "      <td>0.004793</td>\n",
       "      <td>1</td>\n",
       "    </tr>\n",
       "    <tr>\n",
       "      <th>2</th>\n",
       "      <td>2015-02-04 17:51:59</td>\n",
       "      <td>23.15</td>\n",
       "      <td>27.2675</td>\n",
       "      <td>429.5</td>\n",
       "      <td>714.00</td>\n",
       "      <td>0.004783</td>\n",
       "      <td>1</td>\n",
       "    </tr>\n",
       "    <tr>\n",
       "      <th>3</th>\n",
       "      <td>2015-02-04 17:53:00</td>\n",
       "      <td>23.15</td>\n",
       "      <td>27.2450</td>\n",
       "      <td>426.0</td>\n",
       "      <td>713.50</td>\n",
       "      <td>0.004779</td>\n",
       "      <td>1</td>\n",
       "    </tr>\n",
       "    <tr>\n",
       "      <th>4</th>\n",
       "      <td>2015-02-04 17:54:00</td>\n",
       "      <td>23.15</td>\n",
       "      <td>27.2000</td>\n",
       "      <td>426.0</td>\n",
       "      <td>708.25</td>\n",
       "      <td>0.004772</td>\n",
       "      <td>1</td>\n",
       "    </tr>\n",
       "    <tr>\n",
       "      <th>5</th>\n",
       "      <td>2015-02-04 17:55:00</td>\n",
       "      <td>23.10</td>\n",
       "      <td>27.2000</td>\n",
       "      <td>426.0</td>\n",
       "      <td>704.50</td>\n",
       "      <td>0.004757</td>\n",
       "      <td>1</td>\n",
       "    </tr>\n",
       "  </tbody>\n",
       "</table>\n",
       "</div>"
      ],
      "text/plain": [
       "                  date  Temperature  Humidity  Light     CO2  HumidityRatio  \\\n",
       "1  2015-02-04 17:51:00        23.18   27.2720  426.0  721.25       0.004793   \n",
       "2  2015-02-04 17:51:59        23.15   27.2675  429.5  714.00       0.004783   \n",
       "3  2015-02-04 17:53:00        23.15   27.2450  426.0  713.50       0.004779   \n",
       "4  2015-02-04 17:54:00        23.15   27.2000  426.0  708.25       0.004772   \n",
       "5  2015-02-04 17:55:00        23.10   27.2000  426.0  704.50       0.004757   \n",
       "\n",
       "   Occupancy  \n",
       "1          1  \n",
       "2          1  \n",
       "3          1  \n",
       "4          1  \n",
       "5          1  "
      ]
     },
     "execution_count": 8,
     "metadata": {},
     "output_type": "execute_result"
    }
   ],
   "source": [
    "train_data.head()"
   ]
  },
  {
   "cell_type": "code",
   "execution_count": 9,
   "metadata": {},
   "outputs": [],
   "source": [
    "train_numpy = train_data.values\n",
    "labels = train_numpy[:,-1]\n",
    "labels= labels.astype('float64')\n",
    "labels= torch.Tensor(labels)\n",
    "train_sub = train_data.drop(['date','Occupancy'],axis=1)\n",
    "x_train = changeToTensor(train_sub)"
   ]
  },
  {
   "cell_type": "code",
   "execution_count": 10,
   "metadata": {},
   "outputs": [],
   "source": [
    "labels = labels.unsqueeze(1)"
   ]
  },
  {
   "cell_type": "code",
   "execution_count": 11,
   "metadata": {},
   "outputs": [
    {
     "data": {
      "text/plain": [
       "(torch.Size([8143, 5]), torch.Size([8143, 1]))"
      ]
     },
     "execution_count": 11,
     "metadata": {},
     "output_type": "execute_result"
    }
   ],
   "source": [
    "x_train.shape, labels.shape"
   ]
  },
  {
   "cell_type": "code",
   "execution_count": 12,
   "metadata": {},
   "outputs": [],
   "source": [
    "model = Net_5(x_train.shape[1])"
   ]
  },
  {
   "cell_type": "code",
   "execution_count": 13,
   "metadata": {},
   "outputs": [
    {
     "data": {
      "text/plain": [
       "Net_5(\n",
       "  (fc1): Linear(in_features=5, out_features=5, bias=True)\n",
       "  (relu): ReLU()\n",
       "  (fc2): Linear(in_features=5, out_features=1, bias=True)\n",
       "  (sigmoid): Sigmoid()\n",
       ")"
      ]
     },
     "execution_count": 13,
     "metadata": {},
     "output_type": "execute_result"
    }
   ],
   "source": [
    "model"
   ]
  },
  {
   "cell_type": "code",
   "execution_count": 14,
   "metadata": {},
   "outputs": [],
   "source": [
    "criteria= nn.BCELoss()\n",
    "optimizer = torch.optim.Adam(model.parameters(),lr=0.001)"
   ]
  },
  {
   "cell_type": "code",
   "execution_count": 15,
   "metadata": {},
   "outputs": [
    {
     "name": "stdout",
     "output_type": "stream",
     "text": [
      "For epoch  1 loss is  0.6872778534889221\n",
      "For epoch  2 loss is  0.6867502331733704\n",
      "For epoch  3 loss is  0.6862103939056396\n",
      "For epoch  4 loss is  0.6856603622436523\n",
      "For epoch  5 loss is  0.6851150393486023\n",
      "For epoch  6 loss is  0.6845682263374329\n",
      "For epoch  7 loss is  0.6840177178382874\n",
      "For epoch  8 loss is  0.6834590435028076\n",
      "For epoch  9 loss is  0.6829085946083069\n",
      "For epoch  10 loss is  0.6823475956916809\n",
      "For epoch  11 loss is  0.6817818880081177\n",
      "For epoch  12 loss is  0.6812204122543335\n",
      "For epoch  13 loss is  0.6806487441062927\n",
      "For epoch  14 loss is  0.680074155330658\n",
      "For epoch  15 loss is  0.6794996857643127\n",
      "For epoch  16 loss is  0.6789191365242004\n",
      "For epoch  17 loss is  0.6783385872840881\n",
      "For epoch  18 loss is  0.6777529716491699\n",
      "For epoch  19 loss is  0.6771594882011414\n",
      "For epoch  20 loss is  0.6765717267990112\n",
      "For epoch  21 loss is  0.6759764552116394\n",
      "For epoch  22 loss is  0.6753779053688049\n",
      "For epoch  23 loss is  0.6747746467590332\n",
      "For epoch  24 loss is  0.6741613149642944\n",
      "For epoch  25 loss is  0.6735537648200989\n",
      "For epoch  26 loss is  0.6729356050491333\n",
      "For epoch  27 loss is  0.6723074316978455\n",
      "For epoch  28 loss is  0.6716756224632263\n",
      "For epoch  29 loss is  0.6710221171379089\n",
      "For epoch  30 loss is  0.6703703999519348\n",
      "For epoch  31 loss is  0.6697059869766235\n",
      "For epoch  32 loss is  0.6690409779548645\n",
      "For epoch  33 loss is  0.6683621406555176\n",
      "For epoch  34 loss is  0.6676807999610901\n",
      "For epoch  35 loss is  0.6669872999191284\n",
      "For epoch  36 loss is  0.6662863492965698\n",
      "For epoch  37 loss is  0.6655846834182739\n",
      "For epoch  38 loss is  0.6648834943771362\n",
      "For epoch  39 loss is  0.6641759276390076\n",
      "For epoch  40 loss is  0.6634650826454163\n",
      "For epoch  41 loss is  0.6627461314201355\n",
      "For epoch  42 loss is  0.6620244979858398\n",
      "For epoch  43 loss is  0.661298394203186\n",
      "For epoch  44 loss is  0.6605684757232666\n",
      "For epoch  45 loss is  0.6598324775695801\n",
      "For epoch  46 loss is  0.659092903137207\n",
      "For epoch  47 loss is  0.658353865146637\n",
      "For epoch  48 loss is  0.6576076149940491\n",
      "For epoch  49 loss is  0.6568595170974731\n",
      "For epoch  50 loss is  0.6561042666435242\n",
      "For epoch  51 loss is  0.6553500890731812\n",
      "For epoch  52 loss is  0.6545907258987427\n",
      "For epoch  53 loss is  0.6538264155387878\n",
      "For epoch  54 loss is  0.6530599594116211\n",
      "For epoch  55 loss is  0.6522902846336365\n",
      "For epoch  56 loss is  0.6515179872512817\n",
      "For epoch  57 loss is  0.6507432460784912\n",
      "For epoch  58 loss is  0.6499657034873962\n",
      "For epoch  59 loss is  0.649183988571167\n",
      "For epoch  60 loss is  0.6484023332595825\n",
      "For epoch  61 loss is  0.6476162672042847\n",
      "For epoch  62 loss is  0.6468265056610107\n",
      "For epoch  63 loss is  0.6460414528846741\n",
      "For epoch  64 loss is  0.6452474594116211\n",
      "For epoch  65 loss is  0.6444528102874756\n",
      "For epoch  66 loss is  0.6436572670936584\n",
      "For epoch  67 loss is  0.642857015132904\n",
      "For epoch  68 loss is  0.6420544981956482\n",
      "For epoch  69 loss is  0.6412456631660461\n",
      "For epoch  70 loss is  0.640440821647644\n",
      "For epoch  71 loss is  0.6396295428276062\n",
      "For epoch  72 loss is  0.6388193964958191\n",
      "For epoch  73 loss is  0.6380093097686768\n",
      "For epoch  74 loss is  0.6371963024139404\n",
      "For epoch  75 loss is  0.63637775182724\n",
      "For epoch  76 loss is  0.6355571746826172\n",
      "For epoch  77 loss is  0.6347373127937317\n",
      "For epoch  78 loss is  0.6339097023010254\n",
      "For epoch  79 loss is  0.6330790519714355\n",
      "For epoch  80 loss is  0.6322475075721741\n",
      "For epoch  81 loss is  0.6314114928245544\n",
      "For epoch  82 loss is  0.630573034286499\n",
      "For epoch  83 loss is  0.6297315955162048\n",
      "For epoch  84 loss is  0.6288878321647644\n",
      "For epoch  85 loss is  0.6280374526977539\n",
      "For epoch  86 loss is  0.6271885633468628\n",
      "For epoch  87 loss is  0.6263328790664673\n",
      "For epoch  88 loss is  0.625473141670227\n",
      "For epoch  89 loss is  0.6246122121810913\n",
      "For epoch  90 loss is  0.6237469911575317\n",
      "For epoch  91 loss is  0.6228800415992737\n",
      "For epoch  92 loss is  0.6220077276229858\n",
      "For epoch  93 loss is  0.6211322546005249\n",
      "For epoch  94 loss is  0.6202538013458252\n",
      "For epoch  95 loss is  0.6193728446960449\n",
      "For epoch  96 loss is  0.6184868812561035\n",
      "For epoch  97 loss is  0.617599606513977\n",
      "For epoch  98 loss is  0.6167043447494507\n",
      "For epoch  99 loss is  0.6158092617988586\n",
      "For epoch  100 loss is  0.6149140000343323\n"
     ]
    }
   ],
   "source": [
    "num_epochs = 100\n",
    "loss_to_plot_batch=[]\n",
    "for e in range(num_epochs):\n",
    "    e_losses = train_epoch(model,optimizer ,criteria,x_train.shape[0])\n",
    "    loss_to_plot_batch.append(e_losses)\n",
    "    print(\"For epoch \",e+1,\"loss is \",e_losses)"
   ]
  },
  {
   "cell_type": "code",
   "execution_count": 16,
   "metadata": {},
   "outputs": [],
   "source": [
    "test_numpy = test_data.values\n",
    "output1 = test_numpy[:,-1]\n",
    "output1=output1.astype('float64')\n",
    "test_sub = test_data.drop(['date','Occupancy'],axis=1)\n",
    "x_test = changeToTensor(test_sub)"
   ]
  },
  {
   "cell_type": "code",
   "execution_count": 17,
   "metadata": {},
   "outputs": [
    {
     "name": "stdout",
     "output_type": "stream",
     "text": [
      "Accuracy is  82.85479901558655\n"
     ]
    }
   ],
   "source": [
    "baseline_accuracy = testingAccuracy(model,x_test,output1)"
   ]
  },
  {
   "cell_type": "code",
   "execution_count": 19,
   "metadata": {},
   "outputs": [],
   "source": [
    "baseline_error= 1-(baseline_accuracy/100)"
   ]
  },
  {
   "cell_type": "code",
   "execution_count": 20,
   "metadata": {},
   "outputs": [],
   "source": [
    "baseline_error_plot=[baseline_error]*100"
   ]
  },
  {
   "cell_type": "code",
   "execution_count": 21,
   "metadata": {},
   "outputs": [],
   "source": [
    "model1 = Net_5(x_train.shape[1])"
   ]
  },
  {
   "cell_type": "code",
   "execution_count": 22,
   "metadata": {},
   "outputs": [
    {
     "data": {
      "text/plain": [
       "Net_5(\n",
       "  (fc1): Linear(in_features=5, out_features=5, bias=True)\n",
       "  (relu): ReLU()\n",
       "  (fc2): Linear(in_features=5, out_features=1, bias=True)\n",
       "  (sigmoid): Sigmoid()\n",
       ")"
      ]
     },
     "execution_count": 22,
     "metadata": {},
     "output_type": "execute_result"
    }
   ],
   "source": [
    "model1"
   ]
  },
  {
   "cell_type": "code",
   "execution_count": 23,
   "metadata": {},
   "outputs": [
    {
     "name": "stdout",
     "output_type": "stream",
     "text": [
      "Accuracy for the testing data with learning rate  0.01\n",
      "Accuracy is  99.21041837571781\n",
      "Accuracy for the training data\n",
      "Accuracy is  98.90703671865407\n",
      "Accuracy for the testing data with learning rate  0.02\n",
      "Accuracy is  98.89253486464314\n",
      "Accuracy for the training data\n",
      "Accuracy is  98.83335380081051\n",
      "Accuracy for the testing data with learning rate  0.001\n",
      "Accuracy is  98.84126333059885\n",
      "Accuracy for the training data\n",
      "Accuracy is  98.30529288959843\n",
      "Accuracy for the testing data with learning rate  0.002\n",
      "Accuracy is  99.02584085315833\n",
      "Accuracy for the training data\n",
      "Accuracy is  98.83335380081051\n"
     ]
    },
    {
     "data": {
      "image/png": "[encoded data removed]",
      "text/plain": [
       "<Figure size 432x288 with 1 Axes>"
      ]
     },
     "metadata": {
      "needs_background": "light"
     },
     "output_type": "display_data"
    }
   ],
   "source": [
    "for learning_rate in [0.01,0.02,0.001,0.002]:\n",
    "    num_epochs = 100\n",
    "    e_losses=[]\n",
    "    loss_across_epoch=[]\n",
    "    model1 = Net_5(x_train.shape[1])\n",
    "    optimizer = torch.optim.Adam(model1.parameters(),lr=learning_rate)\n",
    "    for e in range(num_epochs):\n",
    "        e_losses = train_epoch(model1,optimizer ,criteria,100)\n",
    "        #loss_to_plot = sum(e_losses)/len(e_losses)\n",
    "        loss_across_epoch.append(e_losses)\n",
    "    \n",
    "    print(\"Accuracy for the testing data with learning rate \",learning_rate)\n",
    "    dummy=testingAccuracy(model1,x_test,output1)\n",
    "    print(\"Accuracy for the training data\")\n",
    "    dummy=testingAccuracy(model1,x_train,train_numpy[:,-1].astype('float64'))\n",
    "    plt.title('Training loss across epoch vs number of epochs')\n",
    "    plt.plot(loss_across_epoch)\n",
    "    #plt.axhline(y=baseline_error)\n",
    "    \n",
    "plt.plot(baseline_error_plot)\n",
    "plt.legend(['0.01','0.02','0.001','0.002','baselineError'], loc='upper right')\n",
    "plt.show()"
   ]
  },
  {
   "cell_type": "code",
   "execution_count": 24,
   "metadata": {},
   "outputs": [
    {
     "data": {
      "text/plain": [
       "[<matplotlib.lines.Line2D at 0x7f50b03409b0>]"
      ]
     },
     "execution_count": 24,
     "metadata": {},
     "output_type": "execute_result"
    },
    {
     "data": {
      "image/png": "[encoded data removed]",
      "text/plain": [
       "<Figure size 432x288 with 1 Axes>"
      ]
     },
     "metadata": {
      "needs_background": "light"
     },
     "output_type": "display_data"
    }
   ],
   "source": [
    "plt.title('Batch Gradient descent method for training loss vs epoch')\n",
    "plt.plot(loss_to_plot_batch)"
   ]
  },
  {
   "cell_type": "code",
   "execution_count": 25,
   "metadata": {},
   "outputs": [
    {
     "name": "stderr",
     "output_type": "stream",
     "text": [
      "/work/test/venv/lib/python3.5/site-packages/torch/optim/lr_scheduler.py:82: UserWarning: Detected call of `lr_scheduler.step()` before `optimizer.step()`. In PyTorch 1.1.0 and later, you should call them in the opposite order: `optimizer.step()` before `lr_scheduler.step()`.  Failure to do this will result in PyTorch skipping the first value of the learning rate schedule.See more details at https://pytorch.org/docs/stable/optim.html#how-to-adjust-learning-rate\n",
      "  \"https://pytorch.org/docs/stable/optim.html#how-to-adjust-learning-rate\", UserWarning)\n"
     ]
    },
    {
     "name": "stdout",
     "output_type": "stream",
     "text": [
      "Accuracy is  78.76703917475132\n",
      "Accuracy is  78.98892534864643\n",
      "Accuracy is  96.045683409063\n",
      "Accuracy is  91.52994257588188\n",
      "Accuracy is  95.1123664497114\n",
      "Accuracy is  90.09433962264151\n",
      "Accuracy is  97.00356134102911\n",
      "Accuracy is  88.9253486464315\n",
      "Accuracy is  98.52634164312907\n",
      "Accuracy is  95.73420836751436\n"
     ]
    },
    {
     "data": {
      "image/png": "[encoded data removed]",
      "text/plain": [
       "<Figure size 432x288 with 1 Axes>"
      ]
     },
     "metadata": {
      "needs_background": "light"
     },
     "output_type": "display_data"
    }
   ],
   "source": [
    "criteria= nn.BCELoss()\n",
    "epochs=100\n",
    "x_axis=[1,2,5,10,20]\n",
    "training_accuracy_every_H=[]\n",
    "testing_accuracy_every_H=[]\n",
    "for H in [1,2,5,10,20]:\n",
    "    model = Net_H(x_train.shape[1],H)\n",
    "    optimizer = torch.optim.Adam(model.parameters(),lr=0.1)\n",
    "    scheduler = StepLR(optimizer, step_size=30, gamma=0.1)\n",
    "    for e in range(epochs):\n",
    "        scheduler.step()\n",
    "        e_losses = train_epoch(model,optimizer ,criteria,x_train.shape[0])\n",
    "    training_accuracy_every_H.append(testingAccuracy(model,x_train,train_numpy[:,-1].astype('float64')))\n",
    "    testing_accuracy_every_H.append(testingAccuracy(model,x_test,output1))\n",
    "plt.title('Training and Testing accuracy across H vs values of H')\n",
    "plt.plot(x_axis,training_accuracy_every_H)\n",
    "plt.plot(x_axis,testing_accuracy_every_H)\n",
    "plt.legend(['Training accuracy','Tesing accuracy'], loc='upper right')\n",
    "plt.show()"
   ]
  },
  {
   "cell_type": "code",
   "execution_count": 26,
   "metadata": {},
   "outputs": [
    {
     "data": {
      "text/plain": [
       "[<matplotlib.lines.Line2D at 0x7f5073ead240>]"
      ]
     },
     "execution_count": 26,
     "metadata": {},
     "output_type": "execute_result"
    },
    {
     "data": {
      "image/png": "[encoded data removed]",
      "text/plain": [
       "<Figure size 432x288 with 1 Axes>"
      ]
     },
     "metadata": {
      "needs_background": "light"
     },
     "output_type": "display_data"
    }
   ],
   "source": [
    "criteria= nn.MSELoss()\n",
    "model = Net_5(x_train.shape[1])\n",
    "optimizer = torch.optim.Adam(model.parameters(),lr=0.001)\n",
    "num_epochs = 100\n",
    "loss_to_plot_batch=[]\n",
    "for e in range(num_epochs):\n",
    "    e_losses = train_epoch(model,optimizer ,criteria,x_train.shape[0])\n",
    "    loss_to_plot_batch.append(e_losses)\n",
    "plt.title('Batch Gradient descent method for training loss vs epoch')\n",
    "plt.plot(loss_to_plot_batch)"
   ]
  },
  {
   "cell_type": "code",
   "execution_count": 27,
   "metadata": {},
   "outputs": [
    {
     "name": "stdout",
     "output_type": "stream",
     "text": [
      "tensor([[-0.2872,  0.2823, -0.0455,  0.0249,  0.3884],\n",
      "        [-0.2380, -0.0326, -0.5263,  0.0713,  0.3355],\n",
      "        [ 0.3235, -0.0969, -0.1423,  0.0643,  0.2409],\n",
      "        [-0.4102, -0.4412, -0.1778,  0.3506,  0.2183],\n",
      "        [-0.5774,  0.1523,  0.1421, -0.1633,  0.1736]])\n",
      "tensor([-0.0740,  0.2024, -0.4441, -0.1480,  0.3631])\n",
      "tensor([[-0.4076, -0.1568, -0.1575, -0.1474, -0.4302]])\n",
      "tensor([-0.5100])\n"
     ]
    }
   ],
   "source": [
    "for param in model.parameters ():\n",
    "    print(param.data)"
   ]
  },
  {
   "cell_type": "code",
   "execution_count": 28,
   "metadata": {},
   "outputs": [
    {
     "name": "stdout",
     "output_type": "stream",
     "text": [
      "Accuracy is  78.98892534864643\n"
     ]
    }
   ],
   "source": [
    "baseline_accuracy = testingAccuracy(model,x_test,output1)\n",
    "baseline_error= 1-(baseline_accuracy/100)\n",
    "baseline_error_plot=[baseline_error]*100"
   ]
  },
  {
   "cell_type": "code",
   "execution_count": 29,
   "metadata": {},
   "outputs": [
    {
     "name": "stdout",
     "output_type": "stream",
     "text": [
      "Accuracy for the testing data with learning rate  0.01\n",
      "Accuracy is  99.27194421657096\n",
      "Accuracy for the training data\n",
      "Accuracy is  98.83335380081051\n",
      "Accuracy for the testing data with learning rate  0.02\n",
      "Accuracy is  99.13863822805578\n",
      "Accuracy for the training data\n",
      "Accuracy is  98.808792828196\n",
      "Accuracy for the testing data with learning rate  0.001\n",
      "Accuracy is  99.04634946677605\n",
      "Accuracy for the training data\n",
      "Accuracy is  98.83335380081051\n",
      "Accuracy for the testing data with learning rate  0.002\n",
      "Accuracy is  99.23092698933552\n",
      "Accuracy for the training data\n",
      "Accuracy is  98.83335380081051\n"
     ]
    },
    {
     "data": {
      "image/png": "[encoded data removed]",
      "text/plain": [
       "<Figure size 432x288 with 1 Axes>"
      ]
     },
     "metadata": {
      "needs_background": "light"
     },
     "output_type": "display_data"
    }
   ],
   "source": [
    "criteria= nn.MSELoss()\n",
    "for learning_rate in [0.01,0.02,0.001,0.002]:\n",
    "    num_epochs = 100\n",
    "    e_losses=[]\n",
    "    loss_across_epoch=[]\n",
    "    model1 = Net_5(x_train.shape[1])\n",
    "    optimizer = torch.optim.Adam(model1.parameters(),lr=learning_rate)\n",
    "    for e in range(num_epochs):\n",
    "        e_losses = train_epoch(model1,optimizer ,criteria,100)\n",
    "        loss_across_epoch.append(e_losses)\n",
    "    \n",
    "    print(\"Accuracy for the testing data with learning rate \",learning_rate)\n",
    "    dummy=testingAccuracy(model1,x_test,output1)\n",
    "    print(\"Accuracy for the training data\")\n",
    "    dummy=testingAccuracy(model1,x_train,train_numpy[:,-1].astype('float64'))\n",
    "    plt.title('Training loss across epoch vs number of epochs')\n",
    "    plt.plot(loss_across_epoch)\n",
    "    \n",
    "plt.plot(baseline_error_plot)\n",
    "plt.legend(['0.01','0.02','0.001','0.002','baselineError'], loc='upper right')\n",
    "plt.show()"
   ]
  },
  {
   "cell_type": "code",
   "execution_count": 30,
   "metadata": {},
   "outputs": [
    {
     "name": "stdout",
     "output_type": "stream",
     "text": [
      "Accuracy is  78.76703917475132\n",
      "Accuracy is  78.98892534864643\n",
      "Accuracy is  78.76703917475132\n",
      "Accuracy is  78.98892534864643\n",
      "Accuracy is  97.44565884809039\n",
      "Accuracy is  94.13453650533225\n",
      "Accuracy is  98.28073191698391\n",
      "Accuracy is  93.79614438063987\n",
      "Accuracy is  98.53862212943632\n",
      "Accuracy is  96.1033634126333\n"
     ]
    },
    {
     "data": {
      "image/png": "[encoded data removed]",
      "text/plain": [
       "<Figure size 432x288 with 1 Axes>"
      ]
     },
     "metadata": {
      "needs_background": "light"
     },
     "output_type": "display_data"
    }
   ],
   "source": [
    "epochs=100\n",
    "x_axis=[1,2,5,10,20]\n",
    "training_accuracy_every_H=[]\n",
    "testing_accuracy_every_H=[]\n",
    "criteria= nn.MSELoss()\n",
    "for H in [1,2,5,10,20]:\n",
    "    model = Net_H(x_train.shape[1],H)\n",
    "    optimizer = torch.optim.Adam(model.parameters(),lr=0.1)\n",
    "    scheduler = StepLR(optimizer, step_size=30, gamma=0.1)\n",
    "    for e in range(epochs):\n",
    "        scheduler.step()\n",
    "        e_losses = train_epoch(model,optimizer,criteria,x_train.shape[0])\n",
    "    training_accuracy_every_H.append(testingAccuracy(model,x_train,train_numpy[:,-1].astype('float64')))\n",
    "    testing_accuracy_every_H.append(testingAccuracy(model,x_test,output1))\n",
    "plt.title('Training and Testing accuracy across H vs values of H')\n",
    "plt.plot(x_axis,training_accuracy_every_H)\n",
    "plt.plot(x_axis,testing_accuracy_every_H)\n",
    "plt.legend(['Training accuracy','Tesing accuracy'], loc='upper right')\n",
    "plt.show()"
   ]
  },
  {
   "cell_type": "code",
   "execution_count": null,
   "metadata": {},
   "outputs": [],
   "source": []
  }
 ],
 "metadata": {
  "kernelspec": {
   "display_name": "Python 3",
   "language": "python",
   "name": "python3"
  },
  "language_info": {
   "codemirror_mode": {
    "name": "ipython",
    "version": 3
   },
   "file_extension": ".py",
   "mimetype": "text/x-python",
   "name": "python",
   "nbconvert_exporter": "python",
   "pygments_lexer": "ipython3",
   "version": "3.5.2"
  }
 },
 "nbformat": 4,
 "nbformat_minor": 2
}
