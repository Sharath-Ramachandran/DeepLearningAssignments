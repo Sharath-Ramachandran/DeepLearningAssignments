{
 "cells": [
  {
   "cell_type": "code",
   "execution_count": 1,
   "metadata": {},
   "outputs": [],
   "source": [
    "import numpy as np\n",
    "import pandas as pd\n",
    "import torch\n",
    "from torch.autograd import Variable\n",
    "import torch.nn as nn\n",
    "import torch.nn.functional as F\n",
    "import torch.utils.data as utils\n",
    "import matplotlib.pyplot as plt\n",
    "import statistics \n",
    "from statistics import mode\n",
    "from torch.optim.lr_scheduler import StepLR\n",
    "%matplotlib inline"
   ]
  },
  {
   "cell_type": "code",
   "execution_count": 2,
   "metadata": {},
   "outputs": [],
   "source": [
    "# Create a model with 1 hidden layer whose size is taken as input\n",
    "class Net_H(nn.Module):\n",
    "    def __init__(self,size,H_size):\n",
    "        super(Net_H, self).__init__()\n",
    "        self.fc1 = nn.Linear(size,H_size)\n",
    "        self.relu = nn.ReLU()\n",
    "        self.fc2 = nn.Linear(H_size,1)\n",
    "        self.sigmoid = nn.Sigmoid()\n",
    "    def forward(self, x):\n",
    "        x = self.fc1(x)\n",
    "        x = self.relu(x)\n",
    "        x = self.fc2(x)\n",
    "        x = self.sigmoid(x)\n",
    "        return x"
   ]
  },
  {
   "cell_type": "code",
   "execution_count": 3,
   "metadata": {},
   "outputs": [],
   "source": [
    "# Create a model with 2 hidden layers H1 and H2 whose sizes are taken as input\n",
    "class Net_2Layer(nn.Module):\n",
    "    def __init__(self,size,H_size,H2_size):\n",
    "        super(Net_2Layer, self).__init__()\n",
    "        self.fc1 = nn.Linear(size,H_size)\n",
    "        self.relu = nn.ReLU()\n",
    "        self.fc2 = nn.Linear(H_size,H2_size)\n",
    "        self.relu = nn.ReLU()\n",
    "        self.fc3 = nn.Linear(H2_size,1)\n",
    "        self.sigmoid = nn.Sigmoid()\n",
    "    def forward(self, x):\n",
    "        x = self.fc1(x)\n",
    "        x = self.relu(x)\n",
    "        x = self.fc2(x)\n",
    "        x = self.relu(x)\n",
    "        x = self.fc3(x)\n",
    "        x = self.sigmoid(x)\n",
    "        return x"
   ]
  },
  {
   "cell_type": "code",
   "execution_count": 4,
   "metadata": {},
   "outputs": [],
   "source": [
    "''' \n",
    "This function is called to train one epoch using batch sizes based on the batch size, \n",
    "the data is being split and then provided for training based on which the loss is\n",
    "calculated \n",
    "'''\n",
    "def train_epoch(model, opt, criterion, batch_size=100):\n",
    "    model.train()\n",
    "    losses = []\n",
    "    for index in range(0, x_train.shape[0], batch_size):\n",
    "        x_batch = x_train[index:index + batch_size, :]\n",
    "        label_batch = labels[index:index + batch_size, :]\n",
    "        opt.zero_grad()\n",
    "        prediction = model(x_batch)\n",
    "        loss = criterion(prediction,label_batch)\n",
    "        loss.backward()\n",
    "        opt.step()\n",
    "        losses.append(loss.item())\n",
    "    losses = sum(losses)/len(losses)\n",
    "    return losses"
   ]
  },
  {
   "cell_type": "code",
   "execution_count": 5,
   "metadata": {},
   "outputs": [],
   "source": [
    "'''\n",
    "For baseline prediction for the testing data, we just randomly predict 0 and 1 for the\n",
    "length of the testing data 5 times. Then we ge the maximum of the 5 for each value and \n",
    "then get the baseline prediction using that as the prediction\n",
    "'''\n",
    "def baselinePrediction(output1):\n",
    "    predictions_array=[]\n",
    "    for i in range(5):\n",
    "        test=np.random.randint(2, size=len(x_test))\n",
    "        test = list(test)\n",
    "        predictions_array.append(test)\n",
    "    predictions_array = np.array(predictions_array)\n",
    "    print(predictions_array.shape)\n",
    "    final_prediction =np.zeros(predictions_array.shape[1])\n",
    "    for i in range(predictions_array.shape[1]):\n",
    "        temp_list=predictions_array[:,i].tolist()\n",
    "        final_prediction[i]=mode(temp_list)\n",
    "    count=0\n",
    "    for i in range(output1.shape[0]):\n",
    "        if(output1[i]==final_prediction[i]):\n",
    "            count = count+1\n",
    "    print(\"Baseline accuracy is \", (count/final_prediction.shape[0])*100)\n",
    "    return (count/final_prediction.shape[0])*100"
   ]
  },
  {
   "cell_type": "code",
   "execution_count": 6,
   "metadata": {},
   "outputs": [],
   "source": [
    "'''\n",
    "Get the testing accuracy and keeping the threshold as 0.5 to convert it to 0 or 1 \n",
    "as the output is a sigmoid function(probablity)\n",
    "'''\n",
    "def testingAccuracy(model,x_test,output1):\n",
    "    predictions_array=[]\n",
    "    model = model.eval()\n",
    "    with torch.no_grad():\n",
    "        predictions = model(x_test)\n",
    "    test = np.asarray(predictions)\n",
    "    \n",
    "    test[test>0.5]=1\n",
    "    test[test<=0.5]=0\n",
    "\n",
    "    count=0\n",
    "    for i in range(test.shape[0]):\n",
    "        if(output1[i]==test[i]):\n",
    "            count = count+1\n",
    "    print(\"Accuracy is \", (count/test.shape[0])*100)\n",
    "    return (count/test.shape[0])*100"
   ]
  },
  {
   "cell_type": "code",
   "execution_count": 7,
   "metadata": {},
   "outputs": [],
   "source": [
    "#change the dataframe to numpy array to tensor array\n",
    "def changeToTensor(dataFrame):\n",
    "    dataFrame= (dataFrame-dataFrame.min())/(dataFrame.max()-dataFrame.min())\n",
    "    x = dataFrame.values\n",
    "    x= x.astype('float64')\n",
    "    x= torch.Tensor(x)\n",
    "    return x"
   ]
  },
  {
   "cell_type": "code",
   "execution_count": 8,
   "metadata": {},
   "outputs": [],
   "source": [
    "def preProcess(data):\n",
    "    data_numpy = data.values\n",
    "    labels = data_numpy[:,-1]\n",
    "    labels= labels.astype('float64')\n",
    "    data_numpy = data.drop(['date','Occupancy'],axis=1)\n",
    "    features = changeToTensor(data_numpy)\n",
    "    return features, labels"
   ]
  },
  {
   "cell_type": "code",
   "execution_count": 9,
   "metadata": {},
   "outputs": [],
   "source": [
    "num_epochs = 100"
   ]
  },
  {
   "cell_type": "code",
   "execution_count": 10,
   "metadata": {},
   "outputs": [],
   "source": [
    "criteria= nn.BCELoss()"
   ]
  },
  {
   "cell_type": "code",
   "execution_count": 11,
   "metadata": {},
   "outputs": [],
   "source": [
    "train_data = pd.read_csv('train.txt',sep=',')\n",
    "test_data = pd.read_csv('test.txt',sep=',')"
   ]
  },
  {
   "cell_type": "code",
   "execution_count": 12,
   "metadata": {},
   "outputs": [
    {
     "data": {
      "text/html": [
       "<div>\n",
       "<style scoped>\n",
       "    .dataframe tbody tr th:only-of-type {\n",
       "        vertical-align: middle;\n",
       "    }\n",
       "\n",
       "    .dataframe tbody tr th {\n",
       "        vertical-align: top;\n",
       "    }\n",
       "\n",
       "    .dataframe thead th {\n",
       "        text-align: right;\n",
       "    }\n",
       "</style>\n",
       "<table border=\"1\" class=\"dataframe\">\n",
       "  <thead>\n",
       "    <tr style=\"text-align: right;\">\n",
       "      <th></th>\n",
       "      <th>date</th>\n",
       "      <th>Temperature</th>\n",
       "      <th>Humidity</th>\n",
       "      <th>Light</th>\n",
       "      <th>CO2</th>\n",
       "      <th>HumidityRatio</th>\n",
       "      <th>Occupancy</th>\n",
       "    </tr>\n",
       "  </thead>\n",
       "  <tbody>\n",
       "    <tr>\n",
       "      <th>1</th>\n",
       "      <td>2015-02-04 17:51:00</td>\n",
       "      <td>23.18</td>\n",
       "      <td>27.2720</td>\n",
       "      <td>426.0</td>\n",
       "      <td>721.25</td>\n",
       "      <td>0.004793</td>\n",
       "      <td>1</td>\n",
       "    </tr>\n",
       "    <tr>\n",
       "      <th>2</th>\n",
       "      <td>2015-02-04 17:51:59</td>\n",
       "      <td>23.15</td>\n",
       "      <td>27.2675</td>\n",
       "      <td>429.5</td>\n",
       "      <td>714.00</td>\n",
       "      <td>0.004783</td>\n",
       "      <td>1</td>\n",
       "    </tr>\n",
       "    <tr>\n",
       "      <th>3</th>\n",
       "      <td>2015-02-04 17:53:00</td>\n",
       "      <td>23.15</td>\n",
       "      <td>27.2450</td>\n",
       "      <td>426.0</td>\n",
       "      <td>713.50</td>\n",
       "      <td>0.004779</td>\n",
       "      <td>1</td>\n",
       "    </tr>\n",
       "    <tr>\n",
       "      <th>4</th>\n",
       "      <td>2015-02-04 17:54:00</td>\n",
       "      <td>23.15</td>\n",
       "      <td>27.2000</td>\n",
       "      <td>426.0</td>\n",
       "      <td>708.25</td>\n",
       "      <td>0.004772</td>\n",
       "      <td>1</td>\n",
       "    </tr>\n",
       "    <tr>\n",
       "      <th>5</th>\n",
       "      <td>2015-02-04 17:55:00</td>\n",
       "      <td>23.10</td>\n",
       "      <td>27.2000</td>\n",
       "      <td>426.0</td>\n",
       "      <td>704.50</td>\n",
       "      <td>0.004757</td>\n",
       "      <td>1</td>\n",
       "    </tr>\n",
       "  </tbody>\n",
       "</table>\n",
       "</div>"
      ],
      "text/plain": [
       "                  date  Temperature  Humidity  Light     CO2  HumidityRatio  \\\n",
       "1  2015-02-04 17:51:00        23.18   27.2720  426.0  721.25       0.004793   \n",
       "2  2015-02-04 17:51:59        23.15   27.2675  429.5  714.00       0.004783   \n",
       "3  2015-02-04 17:53:00        23.15   27.2450  426.0  713.50       0.004779   \n",
       "4  2015-02-04 17:54:00        23.15   27.2000  426.0  708.25       0.004772   \n",
       "5  2015-02-04 17:55:00        23.10   27.2000  426.0  704.50       0.004757   \n",
       "\n",
       "   Occupancy  \n",
       "1          1  \n",
       "2          1  \n",
       "3          1  \n",
       "4          1  \n",
       "5          1  "
      ]
     },
     "execution_count": 12,
     "metadata": {},
     "output_type": "execute_result"
    }
   ],
   "source": [
    "train_data.head()"
   ]
  },
  {
   "cell_type": "code",
   "execution_count": 13,
   "metadata": {},
   "outputs": [
    {
     "name": "stdout",
     "output_type": "stream",
     "text": [
      "torch.Size([8143, 5]) torch.Size([8143, 1])\n"
     ]
    }
   ],
   "source": [
    "x_train, labels =preProcess(train_data)\n",
    "labels_accuracy = labels\n",
    "labels= torch.Tensor(labels)\n",
    "labels = labels.unsqueeze(1)\n",
    "print(x_train.shape, labels.shape)"
   ]
  },
  {
   "cell_type": "code",
   "execution_count": 14,
   "metadata": {},
   "outputs": [],
   "source": [
    "x_test, output = preProcess(test_data)"
   ]
  },
  {
   "cell_type": "markdown",
   "metadata": {},
   "source": [
    "### Part (a) printing the loss value across 100 epochs for batch training"
   ]
  },
  {
   "cell_type": "code",
   "execution_count": 15,
   "metadata": {},
   "outputs": [],
   "source": [
    "model = Net_H(x_train.shape[1],5)\n",
    "optimizer = torch.optim.Adam(model.parameters(),lr=0.001)"
   ]
  },
  {
   "cell_type": "code",
   "execution_count": 16,
   "metadata": {},
   "outputs": [
    {
     "name": "stdout",
     "output_type": "stream",
     "text": [
      "For epoch  1 loss is  0.662053644657135\n",
      "For epoch  2 loss is  0.6614029407501221\n",
      "For epoch  3 loss is  0.6607487797737122\n",
      "For epoch  4 loss is  0.6601080894470215\n",
      "For epoch  5 loss is  0.6594626307487488\n",
      "For epoch  6 loss is  0.6588321924209595\n",
      "For epoch  7 loss is  0.658207356929779\n",
      "For epoch  8 loss is  0.6575844883918762\n",
      "For epoch  9 loss is  0.6569613814353943\n",
      "For epoch  10 loss is  0.6563491225242615\n",
      "For epoch  11 loss is  0.6557418704032898\n",
      "For epoch  12 loss is  0.6551352143287659\n",
      "For epoch  13 loss is  0.6545279622077942\n",
      "For epoch  14 loss is  0.6539378762245178\n",
      "For epoch  15 loss is  0.6533477306365967\n",
      "For epoch  16 loss is  0.6527562141418457\n",
      "For epoch  17 loss is  0.6521687507629395\n",
      "For epoch  18 loss is  0.651583194732666\n",
      "For epoch  19 loss is  0.6510065793991089\n",
      "For epoch  20 loss is  0.6504350304603577\n",
      "For epoch  21 loss is  0.6498570442199707\n",
      "For epoch  22 loss is  0.6492881774902344\n",
      "For epoch  23 loss is  0.6487239003181458\n",
      "For epoch  24 loss is  0.6481524109840393\n",
      "For epoch  25 loss is  0.6475933790206909\n",
      "For epoch  26 loss is  0.6470446586608887\n",
      "For epoch  27 loss is  0.6464879512786865\n",
      "For epoch  28 loss is  0.6459379196166992\n",
      "For epoch  29 loss is  0.6453940272331238\n",
      "For epoch  30 loss is  0.6448522806167603\n",
      "For epoch  31 loss is  0.6443113684654236\n",
      "For epoch  32 loss is  0.6437702178955078\n",
      "For epoch  33 loss is  0.6432414054870605\n",
      "For epoch  34 loss is  0.64271479845047\n",
      "For epoch  35 loss is  0.6421855688095093\n",
      "For epoch  36 loss is  0.6416566371917725\n",
      "For epoch  37 loss is  0.6411333084106445\n",
      "For epoch  38 loss is  0.6406151056289673\n",
      "For epoch  39 loss is  0.6401011943817139\n",
      "For epoch  40 loss is  0.639589250087738\n",
      "For epoch  41 loss is  0.6390764713287354\n",
      "For epoch  42 loss is  0.638565182685852\n",
      "For epoch  43 loss is  0.6380558609962463\n",
      "For epoch  44 loss is  0.6375557780265808\n",
      "For epoch  45 loss is  0.6370564103126526\n",
      "For epoch  46 loss is  0.6365596055984497\n",
      "For epoch  47 loss is  0.6360664367675781\n",
      "For epoch  48 loss is  0.6355718374252319\n",
      "For epoch  49 loss is  0.6350835561752319\n",
      "For epoch  50 loss is  0.634590744972229\n",
      "For epoch  51 loss is  0.6341023445129395\n",
      "For epoch  52 loss is  0.6336156725883484\n",
      "For epoch  53 loss is  0.6331359148025513\n",
      "For epoch  54 loss is  0.6326581835746765\n",
      "For epoch  55 loss is  0.6321834921836853\n",
      "For epoch  56 loss is  0.6317093968391418\n",
      "For epoch  57 loss is  0.63123619556427\n",
      "For epoch  58 loss is  0.6307662725448608\n",
      "For epoch  59 loss is  0.6302988529205322\n",
      "For epoch  60 loss is  0.6298323273658752\n",
      "For epoch  61 loss is  0.6293656826019287\n",
      "For epoch  62 loss is  0.6289036273956299\n",
      "For epoch  63 loss is  0.6284443736076355\n",
      "For epoch  64 loss is  0.6279844045639038\n",
      "For epoch  65 loss is  0.6275299787521362\n",
      "For epoch  66 loss is  0.6270765662193298\n",
      "For epoch  67 loss is  0.626619815826416\n",
      "For epoch  68 loss is  0.6261754631996155\n",
      "For epoch  69 loss is  0.6257304549217224\n",
      "For epoch  70 loss is  0.62527996301651\n",
      "For epoch  71 loss is  0.6248342394828796\n",
      "For epoch  72 loss is  0.6244003772735596\n",
      "For epoch  73 loss is  0.6239593029022217\n",
      "For epoch  74 loss is  0.6235173940658569\n",
      "For epoch  75 loss is  0.6230818629264832\n",
      "For epoch  76 loss is  0.6226462125778198\n",
      "For epoch  77 loss is  0.6222127676010132\n",
      "For epoch  78 loss is  0.6217758059501648\n",
      "For epoch  79 loss is  0.6213464140892029\n",
      "For epoch  80 loss is  0.6209168434143066\n",
      "For epoch  81 loss is  0.6204813122749329\n",
      "For epoch  82 loss is  0.6200459599494934\n",
      "For epoch  83 loss is  0.6196215748786926\n",
      "For epoch  84 loss is  0.6191923022270203\n",
      "For epoch  85 loss is  0.6187613606452942\n",
      "For epoch  86 loss is  0.618327796459198\n",
      "For epoch  87 loss is  0.6179021000862122\n",
      "For epoch  88 loss is  0.6174731254577637\n",
      "For epoch  89 loss is  0.617043673992157\n",
      "For epoch  90 loss is  0.6166139841079712\n",
      "For epoch  91 loss is  0.6161812543869019\n",
      "For epoch  92 loss is  0.6157593131065369\n",
      "For epoch  93 loss is  0.615330159664154\n",
      "For epoch  94 loss is  0.6149037480354309\n",
      "For epoch  95 loss is  0.6144686937332153\n",
      "For epoch  96 loss is  0.6140433549880981\n",
      "For epoch  97 loss is  0.613618016242981\n",
      "For epoch  98 loss is  0.6131881475448608\n",
      "For epoch  99 loss is  0.6127620339393616\n",
      "For epoch  100 loss is  0.6123253703117371\n"
     ]
    }
   ],
   "source": [
    "loss_to_plot_batch=[]\n",
    "for e in range(num_epochs):\n",
    "    e_losses = train_epoch(model,optimizer ,criteria,x_train.shape[0]) # set the batch size as the entire training data\n",
    "    loss_to_plot_batch.append(e_losses)\n",
    "    print(\"For epoch \",e+1,\"loss is \",e_losses)"
   ]
  },
  {
   "cell_type": "markdown",
   "metadata": {},
   "source": [
    "### Part (b) Getting the baseline accuracy for the testing data from randomly generated labels"
   ]
  },
  {
   "cell_type": "code",
   "execution_count": 17,
   "metadata": {},
   "outputs": [
    {
     "name": "stdout",
     "output_type": "stream",
     "text": [
      "(5, 9752)\n",
      "Baseline accuracy is  49.887202625102546\n"
     ]
    }
   ],
   "source": [
    "baseline_accuracy = baselinePrediction(output)"
   ]
  },
  {
   "cell_type": "code",
   "execution_count": 18,
   "metadata": {},
   "outputs": [],
   "source": [
    "baseline_error= 1-(baseline_accuracy/100)\n",
    "baseline_error_plot=[baseline_error]*100 # this is used to plot the baseline error "
   ]
  },
  {
   "cell_type": "markdown",
   "metadata": {},
   "source": [
    "### Part (c) With the H=5, mini batch as 100 and plotted training loss across every epoch"
   ]
  },
  {
   "cell_type": "markdown",
   "metadata": {},
   "source": [
    "In this a learning rate scheduler is used which reduces the lr from 0.01 by a factor of 0.1 across every 10 epochs.<br>\n",
    "Also, the training of the moel was stopped when a local minimum was reached( i.e when thed difference between the consequtive losses was less than 0.0001 and also as the loss was continuously decreasing). <br>\n",
    "Also, the training accuracy was observed as 97.45. Testing accuracy was observed as 98.45<br>\n",
    "Also, it is noted that the training loss across epochs went lower than the baseline error"
   ]
  },
  {
   "cell_type": "code",
   "execution_count": 19,
   "metadata": {},
   "outputs": [
    {
     "name": "stdout",
     "output_type": "stream",
     "text": [
      "Stopped running at  26  epochs rather than 100 epochs\n",
      "Accuracy for the testing data \n",
      "Accuracy is  98.24651353568498\n",
      "\n",
      "Accuracy for the training data\n",
      "Accuracy is  97.45793933439765\n"
     ]
    },
    {
     "data": {
      "image/png": "[encoded data removed]",
      "text/plain": [
       "<Figure size 432x288 with 1 Axes>"
      ]
     },
     "metadata": {
      "needs_background": "light"
     },
     "output_type": "display_data"
    }
   ],
   "source": [
    "num_epochs = 100\n",
    "e_losses=[]\n",
    "loss_across_epoch=[]\n",
    "model = Net_H(x_train.shape[1],5)\n",
    "optimizer = torch.optim.Adam(model.parameters(),lr=0.01)\n",
    "scheduler = StepLR(optimizer, step_size=10, gamma=0.1)\n",
    "for e in range(num_epochs):\n",
    "    e_losses = train_epoch(model,optimizer ,criteria,100)\n",
    "    scheduler.step()\n",
    "    if(len(loss_across_epoch)>1):\n",
    "        if(loss_across_epoch[-1]-e_losses)<0.0001:\n",
    "            num_epochs=e\n",
    "        else:\n",
    "            loss_across_epoch.append(e_losses)\n",
    "    else:\n",
    "        loss_across_epoch.append(e_losses)\n",
    "        \n",
    "print(\"Stopped running at \",len(loss_across_epoch),\" epochs rather than 100 epochs\")\n",
    "print(\"Accuracy for the testing data \")\n",
    "dummy=testingAccuracy(model,x_test,output)\n",
    "print()\n",
    "print(\"Accuracy for the training data\")\n",
    "dummy=testingAccuracy(model,x_train,labels_accuracy)#train_numpy[:,-1].astype('float64'))\n",
    "plt.title('Training loss across epoch vs number of epochs')\n",
    "plt.plot(loss_across_epoch)\n",
    "baseline_error_plot1 = baseline_error_plot[:len(loss_across_epoch)]\n",
    "plt.plot(baseline_error_plot1)\n",
    "plt.xlabel('epoch')\n",
    "plt.ylabel('training loss for batch_size=100')\n",
    "plt.show()"
   ]
  },
  {
   "cell_type": "markdown",
   "metadata": {},
   "source": [
    "### Part (d) Plot of the training loss obtained by considering the entire training data as a batch"
   ]
  },
  {
   "cell_type": "markdown",
   "metadata": {},
   "source": [
    "For the batchGD of batch_size=100, the loss is a curve that decreased and then became almost constant.<br>\n",
    "The loss for the batch_size= len(training_size), the loss continuously decreases for all of the 100 epochs."
   ]
  },
  {
   "cell_type": "code",
   "execution_count": 20,
   "metadata": {},
   "outputs": [
    {
     "data": {
      "text/plain": [
       "[<matplotlib.lines.Line2D at 0x7f65c22437b8>]"
      ]
     },
     "execution_count": 20,
     "metadata": {},
     "output_type": "execute_result"
    },
    {
     "data": {
      "image/png": "[encoded data removed]",
      "text/plain": [
       "<Figure size 432x288 with 1 Axes>"
      ]
     },
     "metadata": {
      "needs_background": "light"
     },
     "output_type": "display_data"
    }
   ],
   "source": [
    "plt.title('Batch Gradient descent method for training loss vs epoch')\n",
    "plt.xlabel('epoch')\n",
    "plt.ylabel('training loss')\n",
    "plt.plot(loss_to_plot_batch)"
   ]
  },
  {
   "cell_type": "markdown",
   "metadata": {},
   "source": [
    "### Part (e) Varied the number of hidden layers(H) and created a model for each of it and plotted the training and testing error"
   ]
  },
  {
   "cell_type": "markdown",
   "metadata": {},
   "source": [
    "This also uses the scheduler which starts from  0.1 and reduces by a factor of 0.1 for every 10 epochs.This also has the early stopping instead of running all the epochs.\n",
    "Also, for various values of the hidden node size, the training and testing accuracy are plotted which varies every time for every run of the cell. "
   ]
  },
  {
   "cell_type": "code",
   "execution_count": 21,
   "metadata": {},
   "outputs": [
    {
     "name": "stdout",
     "output_type": "stream",
     "text": [
      "Stopped running at  27  epochs rather than 100 epochs\n",
      "\n",
      "Training accuracy for H  1\n",
      "Accuracy is  21.232960825248682\n",
      "Testing accuracy for H  1\n",
      "Accuracy is  21.011074651353567\n",
      "\n",
      "Stopped running at  24  epochs rather than 100 epochs\n",
      "\n",
      "Training accuracy for H  2\n",
      "Accuracy is  21.232960825248682\n",
      "Testing accuracy for H  2\n",
      "Accuracy is  21.011074651353567\n",
      "\n",
      "Stopped running at  26  epochs rather than 100 epochs\n",
      "\n",
      "Training accuracy for H  5\n",
      "Accuracy is  78.76703917475132\n",
      "Testing accuracy for H  5\n",
      "Accuracy is  78.98892534864643\n",
      "\n",
      "Stopped running at  32  epochs rather than 100 epochs\n",
      "\n",
      "Training accuracy for H  10\n",
      "Accuracy is  82.62311187523026\n",
      "Testing accuracy for H  10\n",
      "Accuracy is  80.10664479081214\n",
      "\n",
      "Stopped running at  26  epochs rather than 100 epochs\n",
      "\n",
      "Training accuracy for H  20\n",
      "Accuracy is  78.76703917475132\n",
      "Testing accuracy for H  20\n",
      "Accuracy is  78.98892534864643\n",
      "\n"
     ]
    },
    {
     "data": {
      "image/png": "[encoded data removed]",
      "text/plain": [
       "<Figure size 432x288 with 1 Axes>"
      ]
     },
     "metadata": {
      "needs_background": "light"
     },
     "output_type": "display_data"
    }
   ],
   "source": [
    "x_axis=[1,2,5,10,20]\n",
    "training_accuracy_every_H=[]\n",
    "testing_accuracy_every_H=[]\n",
    "for H in [1,2,5,10,20]:\n",
    "    loss_across_epoch=[]\n",
    "    num_epochs=100\n",
    "    model = Net_H(x_train.shape[1],H)\n",
    "    optimizer = torch.optim.Adam(model.parameters(),lr=0.01)\n",
    "    scheduler = StepLR(optimizer, step_size=10, gamma=0.1)\n",
    "    for e in range(num_epochs):\n",
    "        e_losses = train_epoch(model,optimizer ,criteria,x_train.shape[0])\n",
    "        scheduler.step()\n",
    "        if(len(loss_across_epoch)>1):\n",
    "            if(loss_across_epoch[-1]-e_losses)<0.0001:\n",
    "                num_epochs=e\n",
    "            else:\n",
    "                loss_across_epoch.append(e_losses)\n",
    "        else:\n",
    "            loss_across_epoch.append(e_losses)\n",
    "    print(\"Stopped running at \",len(loss_across_epoch),\" epochs rather than 100 epochs\")\n",
    "    print()\n",
    "    print(\"Training accuracy for H \",H)\n",
    "    training_accuracy_every_H.append(testingAccuracy(model,x_train,labels_accuracy))#train_numpy[:,-1].astype('float64')))\n",
    "    print(\"Testing accuracy for H \",H)\n",
    "    testing_accuracy_every_H.append(testingAccuracy(model,x_test,output))\n",
    "    print()\n",
    "plt.title('Training and Testing accuracy across H vs values of H')\n",
    "plt.plot(x_axis,training_accuracy_every_H)\n",
    "plt.plot(x_axis,testing_accuracy_every_H)\n",
    "plt.legend(['Training accuracy','Tesing accuracy'], loc='upper right')\n",
    "plt.xlabel('H size')\n",
    "plt.ylabel('training and testing accuracy')\n",
    "plt.show()"
   ]
  },
  {
   "cell_type": "markdown",
   "metadata": {},
   "source": [
    "### Part (f) Changed the BCELoss to MSELoss and performed the training and testing again"
   ]
  },
  {
   "cell_type": "markdown",
   "metadata": {},
   "source": [
    "With MSE loss on the sigmoid output(0-1), the loss is very less compared to when using the BCELoss because it squares the difference which would be very less whereas the BCELoss takes log in the calculation.<br>\n",
    "It can be seen that the loss values are really less than compared to when the BCELoss was being used.\n",
    " "
   ]
  },
  {
   "cell_type": "code",
   "execution_count": 22,
   "metadata": {},
   "outputs": [],
   "source": [
    "criteria= nn.MSELoss()\n",
    "num_epochs=100"
   ]
  },
  {
   "cell_type": "code",
   "execution_count": 23,
   "metadata": {},
   "outputs": [
    {
     "data": {
      "text/plain": [
       "[<matplotlib.lines.Line2D at 0x7f65c21e1e80>]"
      ]
     },
     "execution_count": 23,
     "metadata": {},
     "output_type": "execute_result"
    },
    {
     "data": {
      "image/png": "[encoded data removed]",
      "text/plain": [
       "<Figure size 432x288 with 1 Axes>"
      ]
     },
     "metadata": {
      "needs_background": "light"
     },
     "output_type": "display_data"
    }
   ],
   "source": [
    "model = Net_H(x_train.shape[1],5)\n",
    "optimizer = torch.optim.Adam(model.parameters(),lr=0.001)\n",
    "loss_to_plot_batch=[]\n",
    "for e in range(num_epochs):\n",
    "    e_losses = train_epoch(model,optimizer ,criteria,x_train.shape[0])\n",
    "    loss_to_plot_batch.append(e_losses)\n",
    "plt.title('Batch Gradient descent method for training loss vs epoch')\n",
    "plt.xlabel('epoch')\n",
    "plt.ylabel('training loss')\n",
    "plt.plot(loss_to_plot_batch)"
   ]
  },
  {
   "cell_type": "code",
   "execution_count": 24,
   "metadata": {},
   "outputs": [],
   "source": [
    "# for param in model.parameters ():\n",
    "#     print(param.data)"
   ]
  },
  {
   "cell_type": "code",
   "execution_count": 25,
   "metadata": {},
   "outputs": [
    {
     "name": "stdout",
     "output_type": "stream",
     "text": [
      "Criteria is  MSELoss()\n",
      "Stopped running at  26  epochs instead of 100\n",
      "Accuracy is  98.77973748974568\n",
      "Accuracy for the training data\n",
      "Accuracy is  98.31757337590568\n"
     ]
    },
    {
     "data": {
      "image/png": "[encoded data removed]",
      "text/plain": [
       "<Figure size 432x288 with 1 Axes>"
      ]
     },
     "metadata": {
      "needs_background": "light"
     },
     "output_type": "display_data"
    }
   ],
   "source": [
    "print(\"Criteria is \",criteria)\n",
    "e_losses=[]\n",
    "loss_across_epoch=[]\n",
    "model = Net_H(x_train.shape[1],5)\n",
    "optimizer = torch.optim.Adam(model.parameters(),lr=0.01)\n",
    "scheduler = StepLR(optimizer, step_size=10, gamma=0.1)\n",
    "for e in range(num_epochs):\n",
    "    e_losses = train_epoch(model,optimizer ,criteria,100)\n",
    "    scheduler.step()\n",
    "    if(len(loss_across_epoch)>1):\n",
    "        if(loss_across_epoch[-1]-e_losses)<0.0001:\n",
    "            num_epochs=e\n",
    "        else:\n",
    "            loss_across_epoch.append(e_losses)\n",
    "    else:\n",
    "        loss_across_epoch.append(e_losses)\n",
    "print(\"Stopped running at \",len(loss_across_epoch),\" epochs instead of 100\")\n",
    "\n",
    "\n",
    "\n",
    "dummy=testingAccuracy(model,x_test,output)\n",
    "print(\"Accuracy for the training data\")\n",
    "dummy=testingAccuracy(model,x_train,labels_accuracy)#train_numpy[:,-1].astype('float64'))\n",
    "plt.title('Training loss across epoch vs number of epochs')\n",
    "\n",
    "plt.plot(loss_across_epoch)    \n",
    "baseline_error_plot1 = baseline_error_plot[:len(loss_across_epoch)]\n",
    "plt.plot(baseline_error_plot1)\n",
    "plt.xlabel('epoch')\n",
    "plt.ylabel('training loss')\n",
    "plt.show()"
   ]
  },
  {
   "cell_type": "code",
   "execution_count": 26,
   "metadata": {},
   "outputs": [
    {
     "name": "stdout",
     "output_type": "stream",
     "text": [
      "Stopped running at  23  epochs rather than 100 epochs\n",
      "\n",
      "Training accuracy for H  1\n",
      "Accuracy is  21.232960825248682\n",
      "Testing accuracy for H  1\n",
      "Accuracy is  21.011074651353567\n",
      "\n",
      "Stopped running at  23  epochs rather than 100 epochs\n",
      "\n",
      "Training accuracy for H  2\n",
      "Accuracy is  78.81616111998035\n",
      "Testing accuracy for H  2\n",
      "Accuracy is  81.72682526661198\n",
      "\n",
      "Stopped running at  24  epochs rather than 100 epochs\n",
      "\n",
      "Training accuracy for H  5\n",
      "Accuracy is  21.232960825248682\n",
      "Testing accuracy for H  5\n",
      "Accuracy is  21.011074651353567\n",
      "\n",
      "Stopped running at  24  epochs rather than 100 epochs\n",
      "\n",
      "Training accuracy for H  10\n",
      "Accuracy is  21.232960825248682\n",
      "Testing accuracy for H  10\n",
      "Accuracy is  21.011074651353567\n",
      "\n",
      "Stopped running at  23  epochs rather than 100 epochs\n",
      "\n",
      "Training accuracy for H  20\n",
      "Accuracy is  78.76703917475132\n",
      "Testing accuracy for H  20\n",
      "Accuracy is  78.98892534864643\n",
      "\n"
     ]
    },
    {
     "data": {
      "image/png": "[encoded data removed]",
      "text/plain": [
       "<Figure size 432x288 with 1 Axes>"
      ]
     },
     "metadata": {
      "needs_background": "light"
     },
     "output_type": "display_data"
    }
   ],
   "source": [
    "x_axis=[1,2,5,10,20]\n",
    "training_accuracy_every_H=[]\n",
    "testing_accuracy_every_H=[]\n",
    "for H in [1,2,5,10,20]:\n",
    "    loss_across_epoch=[]\n",
    "    num_epochs=100\n",
    "    model = Net_H(x_train.shape[1],H)\n",
    "    optimizer = torch.optim.Adam(model.parameters(),lr=0.01)\n",
    "    scheduler = StepLR(optimizer, step_size=10, gamma=0.1)\n",
    "    for e in range(num_epochs):\n",
    "        e_losses = train_epoch(model,optimizer ,criteria,x_train.shape[0])\n",
    "        scheduler.step()\n",
    "        if(len(loss_across_epoch)>1):\n",
    "            if(loss_across_epoch[-1]-e_losses)<0.0001:\n",
    "                num_epochs=e\n",
    "            else:\n",
    "                loss_across_epoch.append(e_losses)\n",
    "        else:\n",
    "            loss_across_epoch.append(e_losses)\n",
    "    print(\"Stopped running at \",len(loss_across_epoch),\" epochs rather than 100 epochs\")\n",
    "    print()\n",
    "    print(\"Training accuracy for H \",H)\n",
    "    training_accuracy_every_H.append(testingAccuracy(model,x_train,labels_accuracy))#train_numpy[:,-1].astype('float64')))\n",
    "    print(\"Testing accuracy for H \",H)\n",
    "    testing_accuracy_every_H.append(testingAccuracy(model,x_test,output))\n",
    "    print()\n",
    "plt.title('Training and Testing accuracy across H vs values of H')\n",
    "plt.plot(x_axis,training_accuracy_every_H)\n",
    "plt.plot(x_axis,testing_accuracy_every_H)\n",
    "plt.legend(['Training accuracy','Tesing accuracy'], loc='upper right')\n",
    "plt.xlabel('H')\n",
    "plt.ylabel('Training and Testing accuracy')\n",
    "plt.show()"
   ]
  },
  {
   "cell_type": "markdown",
   "metadata": {},
   "source": [
    "### Part(g) Created a two layer network and obtained the test accuracy for every combination for H1 and H2"
   ]
  },
  {
   "cell_type": "markdown",
   "metadata": {},
   "source": [
    "For this part, a new network was created which had varying sizes of the H1 and H2. <br>\n",
    "From this output, we can clearly see that, more the neurons in a model, the better the performance.\n",
    "<br>For example, when the model was created as 5-1-15-1, the testing and training accuracy was 86 and 95<br>\n",
    "Whereas in the case of 5-20-230-1, the testing and training accuracies were 96.933 and 98.722\n",
    "<br> <br> Also, since the model weights depend on their initialization for training, we see that sometimes that model with almost same size like 5-20-120-1 had better testing accurracy of 99.056.(Got it once)\n",
    "Om running multiple times, these values are bound to change too. "
   ]
  },
  {
   "cell_type": "code",
   "execution_count": 27,
   "metadata": {},
   "outputs": [
    {
     "name": "stdout",
     "output_type": "stream",
     "text": [
      "\n",
      "H1 has  1  neurons and H2 has 15  neurons\n",
      "Testing accuracy for the 2 layer for the model with H1  1  and H2  15\n",
      "Accuracy is  88.1870385561936\n",
      "Training accuracy for the same model \n",
      "Accuracy is  91.71067174260101\n",
      "\n",
      "H1 has  1  neurons and H2 has 120  neurons\n",
      "Testing accuracy for the 2 layer for the model with H1  1  and H2  120\n",
      "Accuracy is  86.54634946677605\n",
      "Training accuracy for the same model \n",
      "Accuracy is  95.80007368291784\n",
      "\n",
      "H1 has  1  neurons and H2 has 220  neurons\n",
      "Testing accuracy for the 2 layer for the model with H1  1  and H2  220\n",
      "Accuracy is  91.65299425758818\n",
      "Training accuracy for the same model \n",
      "Accuracy is  98.28073191698391\n",
      "\n",
      "H1 has  1  neurons and H2 has 230  neurons\n",
      "Testing accuracy for the 2 layer for the model with H1  1  and H2  230\n",
      "Accuracy is  97.29286300246103\n",
      "Training accuracy for the same model \n",
      "Accuracy is  98.61230504727988\n",
      "\n",
      "H1 has  2  neurons and H2 has 15  neurons\n",
      "Testing accuracy for the 2 layer for the model with H1  2  and H2  15\n",
      "Accuracy is  85.73625922887614\n",
      "Training accuracy for the same model \n",
      "Accuracy is  95.98428097752671\n",
      "\n",
      "H1 has  2  neurons and H2 has 120  neurons\n",
      "Testing accuracy for the 2 layer for the model with H1  2  and H2  120\n",
      "Accuracy is  98.68744872846595\n",
      "Training accuracy for the same model \n",
      "Accuracy is  98.69826845143068\n",
      "\n",
      "H1 has  2  neurons and H2 has 220  neurons\n",
      "Testing accuracy for the 2 layer for the model with H1  2  and H2  220\n",
      "Accuracy is  99.01558654634947\n",
      "Training accuracy for the same model \n",
      "Accuracy is  98.60002456097261\n",
      "\n",
      "H1 has  2  neurons and H2 has 230  neurons\n",
      "Testing accuracy for the 2 layer for the model with H1  2  and H2  230\n",
      "Accuracy is  95.89827727645611\n",
      "Training accuracy for the same model \n",
      "Accuracy is  98.61230504727988\n",
      "\n",
      "H1 has  5  neurons and H2 has 15  neurons\n",
      "Testing accuracy for the 2 layer for the model with H1  5  and H2  15\n",
      "Accuracy is  95.80598851517638\n",
      "Training accuracy for the same model \n",
      "Accuracy is  97.236890580867\n",
      "\n",
      "H1 has  5  neurons and H2 has 120  neurons\n",
      "Testing accuracy for the 2 layer for the model with H1  5  and H2  120\n",
      "Accuracy is  90.26866283839212\n",
      "Training accuracy for the same model \n",
      "Accuracy is  98.36669532113471\n",
      "\n",
      "H1 has  5  neurons and H2 has 220  neurons\n",
      "Testing accuracy for the 2 layer for the model with H1  5  and H2  220\n",
      "Accuracy is  93.82690730106646\n",
      "Training accuracy for the same model \n",
      "Accuracy is  98.69826845143068\n",
      "\n",
      "H1 has  5  neurons and H2 has 230  neurons\n",
      "Testing accuracy for the 2 layer for the model with H1  5  and H2  230\n",
      "Accuracy is  95.25225594749796\n",
      "Training accuracy for the same model \n",
      "Accuracy is  98.61230504727988\n",
      "\n",
      "H1 has  10  neurons and H2 has 15  neurons\n",
      "Testing accuracy for the 2 layer for the model with H1  10  and H2  15\n",
      "Accuracy is  91.6735028712059\n",
      "Training accuracy for the same model \n",
      "Accuracy is  97.86319538253714\n",
      "\n",
      "H1 has  10  neurons and H2 has 120  neurons\n",
      "Testing accuracy for the 2 layer for the model with H1  10  and H2  120\n",
      "Accuracy is  97.34413453650534\n",
      "Training accuracy for the same model \n",
      "Accuracy is  98.83335380081051\n",
      "\n",
      "H1 has  10  neurons and H2 has 220  neurons\n",
      "Testing accuracy for the 2 layer for the model with H1  10  and H2  220\n",
      "Accuracy is  94.4011484823626\n",
      "Training accuracy for the same model \n",
      "Accuracy is  98.64914650620165\n",
      "\n",
      "H1 has  10  neurons and H2 has 230  neurons\n",
      "Testing accuracy for the 2 layer for the model with H1  10  and H2  230\n",
      "Accuracy is  99.05660377358491\n",
      "Training accuracy for the same model \n",
      "Accuracy is  98.64914650620165\n",
      "\n",
      "H1 has  20  neurons and H2 has 15  neurons\n",
      "Testing accuracy for the 2 layer for the model with H1  20  and H2  15\n",
      "Accuracy is  94.50369155045118\n",
      "Training accuracy for the same model \n",
      "Accuracy is  98.63686601989438\n",
      "\n",
      "H1 has  20  neurons and H2 has 120  neurons\n",
      "Testing accuracy for the 2 layer for the model with H1  20  and H2  120\n",
      "Accuracy is  98.22600492206726\n",
      "Training accuracy for the same model \n",
      "Accuracy is  98.63686601989438\n",
      "\n",
      "H1 has  20  neurons and H2 has 220  neurons\n",
      "Testing accuracy for the 2 layer for the model with H1  20  and H2  220\n",
      "Accuracy is  94.32936833470058\n",
      "Training accuracy for the same model \n",
      "Accuracy is  98.84563428711776\n",
      "\n",
      "H1 has  20  neurons and H2 has 230  neurons\n",
      "Testing accuracy for the 2 layer for the model with H1  20  and H2  230\n",
      "Accuracy is  97.29286300246103\n",
      "Training accuracy for the same model \n",
      "Accuracy is  98.74739039665971\n"
     ]
    }
   ],
   "source": [
    "num_epochs=100\n",
    "criteria= nn.BCELoss()\n",
    "for H1 in [1,2,5,10,20]:\n",
    "    for H2 in [15,120,220,230]:\n",
    "        print()\n",
    "        print(\"H1 has \",H1,' neurons and H2 has',H2,' neurons')\n",
    "        model = Net_2Layer(x_train.shape[1],H1,H2)\n",
    "        optimizer = torch.optim.Adam(model.parameters(),lr=0.01)\n",
    "        for e in range(num_epochs):\n",
    "            e_losses = train_epoch(model,optimizer ,criteria,x_train.shape[0])\n",
    "        print(\"Testing accuracy for the 2 layer for the model with H1 \",H1,\" and H2 \",H2)\n",
    "        testingAccuracy(model,x_test,output)\n",
    "        print(\"Training accuracy for the same model \")\n",
    "        testingAccuracy(model,x_train,labels_accuracy)"
   ]
  },
  {
   "cell_type": "code",
   "execution_count": null,
   "metadata": {},
   "outputs": [],
   "source": []
  }
 ],
 "metadata": {
  "kernelspec": {
   "display_name": "Python 3",
   "language": "python",
   "name": "python3"
  },
  "language_info": {
   "codemirror_mode": {
    "name": "ipython",
    "version": 3
   },
   "file_extension": ".py",
   "mimetype": "text/x-python",
   "name": "python",
   "nbconvert_exporter": "python",
   "pygments_lexer": "ipython3",
   "version": "3.5.2"
  }
 },
 "nbformat": 4,
 "nbformat_minor": 2
}
