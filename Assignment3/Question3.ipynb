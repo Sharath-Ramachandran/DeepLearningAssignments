{
 "cells": [
  {
   "cell_type": "code",
   "execution_count": 1,
   "metadata": {},
   "outputs": [],
   "source": [
    "import numpy as np\n",
    "import pandas as pd\n",
    "import torch\n",
    "from torch.autograd import Variable\n",
    "import torch.nn as nn\n",
    "import torch.nn.functional as F\n",
    "import torch.utils.data as utils\n",
    "import matplotlib.pyplot as plt\n",
    "import statistics \n",
    "from statistics import mode \n",
    "%matplotlib inline"
   ]
  },
  {
   "cell_type": "code",
   "execution_count": 2,
   "metadata": {},
   "outputs": [],
   "source": [
    "def train_epoch(model, opt, criterion, batch_size=100):\n",
    "    model.train()\n",
    "    losses = []\n",
    "    for index in range(0, x_train.shape[0], batch_size):\n",
    "        x_batch = x_train[index:index + batch_size, :]\n",
    "        label_batch = labels[index:index + batch_size, :]\n",
    "        opt.zero_grad()\n",
    "        prediction = model(x_batch)\n",
    "        loss = criterion(prediction,label_batch)\n",
    "        loss.backward()\n",
    "        opt.step()\n",
    "        losses.append(loss.item())\n",
    "    return losses"
   ]
  },
  {
   "cell_type": "code",
   "execution_count": 3,
   "metadata": {},
   "outputs": [],
   "source": [
    "def testingAccuracy(model,x_test,output1):\n",
    "    predictions_array=[]\n",
    "    model = model.eval()\n",
    "    for i in range(5):\n",
    "        with torch.no_grad():\n",
    "            predictions = model(x_test)\n",
    "        test = np.asarray(predictions)\n",
    "        test[test>0.5]=1\n",
    "        test[test<=0.5]=0\n",
    "        predictions_array.append(test)\n",
    "    predictions_array = np.array(predictions_array)\n",
    "    predictions_array = np.squeeze(predictions_array,axis=2)\n",
    "    final_prediction =np.zeros(predictions_array.shape[1])\n",
    "    for i in range(predictions_array.shape[1]):\n",
    "        temp_list=predictions_array[:,i].tolist()\n",
    "        final_prediction[i]=mode(temp_list)\n",
    "    count=0\n",
    "    for i in range(test.shape[0]):\n",
    "        if(output1[i]==final_prediction[i]):\n",
    "            count = count+1\n",
    "    print(\"Accuracy is \", (count/final_prediction.shape[0])*100)"
   ]
  },
  {
   "cell_type": "code",
   "execution_count": 4,
   "metadata": {},
   "outputs": [],
   "source": [
    "#change the dataframe to numpy array to tensor array\n",
    "def changeToTensor(dataFrame):\n",
    "    dataFrame= (dataFrame-dataFrame.min())/(dataFrame.max()-dataFrame.min())\n",
    "    x = dataFrame.values\n",
    "    x= x.astype('float64')\n",
    "    x= torch.Tensor(x)\n",
    "    return x"
   ]
  },
  {
   "cell_type": "code",
   "execution_count": 5,
   "metadata": {},
   "outputs": [],
   "source": [
    "### create a model with pytorch#####\n",
    "class Net(nn.Module):\n",
    "    def __init__(self,size):\n",
    "        super(Net, self).__init__()\n",
    "        self.fc1 = nn.Linear(size,1000)\n",
    "        self.relu = nn.ReLU()\n",
    "        self.fc2 = nn.Linear(1000,1)\n",
    "        self.sigmoid = nn.Sigmoid()\n",
    "    def forward(self, x):\n",
    "        x = self.fc1(x)\n",
    "        x = self.relu(x)\n",
    "        x = self.fc2(x)\n",
    "        x = self.sigmoid(x)\n",
    "        return x"
   ]
  },
  {
   "cell_type": "code",
   "execution_count": 6,
   "metadata": {},
   "outputs": [],
   "source": [
    "### create a model with pytorch#####\n",
    "class Net_5(nn.Module):\n",
    "    def __init__(self,size):\n",
    "        super(Net_5, self).__init__()\n",
    "        self.fc1 = nn.Linear(size,5)\n",
    "        self.relu = nn.ReLU()\n",
    "        self.fc2 = nn.Linear(5,1)\n",
    "        self.sigmoid = nn.Sigmoid()\n",
    "    def forward(self, x):\n",
    "        x = self.fc1(x)\n",
    "        x = self.relu(x)\n",
    "        x = self.fc2(x)\n",
    "        x = self.sigmoid(x)\n",
    "        return x"
   ]
  },
  {
   "cell_type": "code",
   "execution_count": 7,
   "metadata": {},
   "outputs": [],
   "source": [
    "train_data = pd.read_csv('train.txt',sep=',')\n",
    "test_data = pd.read_csv('test.txt',sep=',')"
   ]
  },
  {
   "cell_type": "code",
   "execution_count": 8,
   "metadata": {},
   "outputs": [
    {
     "data": {
      "text/html": [
       "<div>\n",
       "<style scoped>\n",
       "    .dataframe tbody tr th:only-of-type {\n",
       "        vertical-align: middle;\n",
       "    }\n",
       "\n",
       "    .dataframe tbody tr th {\n",
       "        vertical-align: top;\n",
       "    }\n",
       "\n",
       "    .dataframe thead th {\n",
       "        text-align: right;\n",
       "    }\n",
       "</style>\n",
       "<table border=\"1\" class=\"dataframe\">\n",
       "  <thead>\n",
       "    <tr style=\"text-align: right;\">\n",
       "      <th></th>\n",
       "      <th>date</th>\n",
       "      <th>Temperature</th>\n",
       "      <th>Humidity</th>\n",
       "      <th>Light</th>\n",
       "      <th>CO2</th>\n",
       "      <th>HumidityRatio</th>\n",
       "      <th>Occupancy</th>\n",
       "    </tr>\n",
       "  </thead>\n",
       "  <tbody>\n",
       "    <tr>\n",
       "      <th>1</th>\n",
       "      <td>2015-02-04 17:51:00</td>\n",
       "      <td>23.18</td>\n",
       "      <td>27.2720</td>\n",
       "      <td>426.0</td>\n",
       "      <td>721.25</td>\n",
       "      <td>0.004793</td>\n",
       "      <td>1</td>\n",
       "    </tr>\n",
       "    <tr>\n",
       "      <th>2</th>\n",
       "      <td>2015-02-04 17:51:59</td>\n",
       "      <td>23.15</td>\n",
       "      <td>27.2675</td>\n",
       "      <td>429.5</td>\n",
       "      <td>714.00</td>\n",
       "      <td>0.004783</td>\n",
       "      <td>1</td>\n",
       "    </tr>\n",
       "    <tr>\n",
       "      <th>3</th>\n",
       "      <td>2015-02-04 17:53:00</td>\n",
       "      <td>23.15</td>\n",
       "      <td>27.2450</td>\n",
       "      <td>426.0</td>\n",
       "      <td>713.50</td>\n",
       "      <td>0.004779</td>\n",
       "      <td>1</td>\n",
       "    </tr>\n",
       "    <tr>\n",
       "      <th>4</th>\n",
       "      <td>2015-02-04 17:54:00</td>\n",
       "      <td>23.15</td>\n",
       "      <td>27.2000</td>\n",
       "      <td>426.0</td>\n",
       "      <td>708.25</td>\n",
       "      <td>0.004772</td>\n",
       "      <td>1</td>\n",
       "    </tr>\n",
       "    <tr>\n",
       "      <th>5</th>\n",
       "      <td>2015-02-04 17:55:00</td>\n",
       "      <td>23.10</td>\n",
       "      <td>27.2000</td>\n",
       "      <td>426.0</td>\n",
       "      <td>704.50</td>\n",
       "      <td>0.004757</td>\n",
       "      <td>1</td>\n",
       "    </tr>\n",
       "  </tbody>\n",
       "</table>\n",
       "</div>"
      ],
      "text/plain": [
       "                  date  Temperature  Humidity  Light     CO2  HumidityRatio  \\\n",
       "1  2015-02-04 17:51:00        23.18   27.2720  426.0  721.25       0.004793   \n",
       "2  2015-02-04 17:51:59        23.15   27.2675  429.5  714.00       0.004783   \n",
       "3  2015-02-04 17:53:00        23.15   27.2450  426.0  713.50       0.004779   \n",
       "4  2015-02-04 17:54:00        23.15   27.2000  426.0  708.25       0.004772   \n",
       "5  2015-02-04 17:55:00        23.10   27.2000  426.0  704.50       0.004757   \n",
       "\n",
       "   Occupancy  \n",
       "1          1  \n",
       "2          1  \n",
       "3          1  \n",
       "4          1  \n",
       "5          1  "
      ]
     },
     "execution_count": 8,
     "metadata": {},
     "output_type": "execute_result"
    }
   ],
   "source": [
    "train_data.head()"
   ]
  },
  {
   "cell_type": "code",
   "execution_count": 9,
   "metadata": {},
   "outputs": [],
   "source": [
    "train_numpy = train_data.values\n",
    "labels = train_numpy[:,-1]\n",
    "labels= labels.astype('float64')\n",
    "labels= torch.Tensor(labels)\n",
    "train_sub = train_data.drop(['date','Occupancy'],axis=1)\n",
    "x_train = changeToTensor(train_sub)"
   ]
  },
  {
   "cell_type": "code",
   "execution_count": 10,
   "metadata": {},
   "outputs": [],
   "source": [
    "labels = labels.unsqueeze(1)"
   ]
  },
  {
   "cell_type": "code",
   "execution_count": 11,
   "metadata": {},
   "outputs": [
    {
     "data": {
      "text/plain": [
       "(torch.Size([8143, 5]), torch.Size([8143, 1]))"
      ]
     },
     "execution_count": 11,
     "metadata": {},
     "output_type": "execute_result"
    }
   ],
   "source": [
    "x_train.shape, labels.shape"
   ]
  },
  {
   "cell_type": "code",
   "execution_count": 12,
   "metadata": {},
   "outputs": [],
   "source": [
    "model = Net(x_train.shape[1])"
   ]
  },
  {
   "cell_type": "code",
   "execution_count": 13,
   "metadata": {},
   "outputs": [
    {
     "data": {
      "text/plain": [
       "Net(\n",
       "  (fc1): Linear(in_features=5, out_features=1000, bias=True)\n",
       "  (relu): ReLU()\n",
       "  (fc2): Linear(in_features=1000, out_features=1, bias=True)\n",
       "  (sigmoid): Sigmoid()\n",
       ")"
      ]
     },
     "execution_count": 13,
     "metadata": {},
     "output_type": "execute_result"
    }
   ],
   "source": [
    "model"
   ]
  },
  {
   "cell_type": "code",
   "execution_count": 14,
   "metadata": {},
   "outputs": [],
   "source": [
    "criteria= nn.BCELoss()\n",
    "optimizer = torch.optim.Adam(model.parameters(),lr=0.001)"
   ]
  },
  {
   "cell_type": "code",
   "execution_count": 15,
   "metadata": {},
   "outputs": [
    {
     "name": "stdout",
     "output_type": "stream",
     "text": [
      "For epoch  1 loss is  [0.7157867550849915]\n",
      "For epoch  2 loss is  [0.67525714635849]\n",
      "For epoch  3 loss is  [0.6402443647384644]\n",
      "For epoch  4 loss is  [0.6105995774269104]\n",
      "For epoch  5 loss is  [0.5859971046447754]\n",
      "For epoch  6 loss is  [0.5659637451171875]\n",
      "For epoch  7 loss is  [0.5498943328857422]\n",
      "For epoch  8 loss is  [0.5371028184890747]\n",
      "For epoch  9 loss is  [0.526857852935791]\n",
      "For epoch  10 loss is  [0.5184558033943176]\n",
      "For epoch  11 loss is  [0.5112802386283875]\n",
      "For epoch  12 loss is  [0.5048034191131592]\n",
      "For epoch  13 loss is  [0.4986129403114319]\n",
      "For epoch  14 loss is  [0.49240952730178833]\n",
      "For epoch  15 loss is  [0.4859902858734131]\n",
      "For epoch  16 loss is  [0.47923359274864197]\n",
      "For epoch  17 loss is  [0.4720923900604248]\n",
      "For epoch  18 loss is  [0.46457213163375854]\n",
      "For epoch  19 loss is  [0.4567188620567322]\n",
      "For epoch  20 loss is  [0.4486021101474762]\n",
      "For epoch  21 loss is  [0.4403187036514282]\n",
      "For epoch  22 loss is  [0.43196603655815125]\n",
      "For epoch  23 loss is  [0.42363813519477844]\n",
      "For epoch  24 loss is  [0.41543108224868774]\n",
      "For epoch  25 loss is  [0.4074174761772156]\n",
      "For epoch  26 loss is  [0.39965686202049255]\n",
      "For epoch  27 loss is  [0.39218786358833313]\n",
      "For epoch  28 loss is  [0.3850198984146118]\n",
      "For epoch  29 loss is  [0.37815219163894653]\n",
      "For epoch  30 loss is  [0.37155282497406006]\n",
      "For epoch  31 loss is  [0.3651822507381439]\n",
      "For epoch  32 loss is  [0.35899826884269714]\n",
      "For epoch  33 loss is  [0.35295045375823975]\n",
      "For epoch  34 loss is  [0.3469935953617096]\n",
      "For epoch  35 loss is  [0.34109196066856384]\n",
      "For epoch  36 loss is  [0.33521679043769836]\n",
      "For epoch  37 loss is  [0.32935652136802673]\n",
      "For epoch  38 loss is  [0.3235127329826355]\n",
      "For epoch  39 loss is  [0.3176953196525574]\n",
      "For epoch  40 loss is  [0.3119194507598877]\n",
      "For epoch  41 loss is  [0.3062111437320709]\n",
      "For epoch  42 loss is  [0.3005923330783844]\n",
      "For epoch  43 loss is  [0.2950862646102905]\n",
      "For epoch  44 loss is  [0.28971073031425476]\n",
      "For epoch  45 loss is  [0.2844772934913635]\n",
      "For epoch  46 loss is  [0.2793929874897003]\n",
      "For epoch  47 loss is  [0.2744557559490204]\n",
      "For epoch  48 loss is  [0.2696596682071686]\n",
      "For epoch  49 loss is  [0.2649938762187958]\n",
      "For epoch  50 loss is  [0.26044899225234985]\n",
      "For epoch  51 loss is  [0.2560173571109772]\n",
      "For epoch  52 loss is  [0.2516901195049286]\n",
      "For epoch  53 loss is  [0.24746258556842804]\n",
      "For epoch  54 loss is  [0.24332953989505768]\n",
      "For epoch  55 loss is  [0.2392909824848175]\n",
      "For epoch  56 loss is  [0.2353457659482956]\n",
      "For epoch  57 loss is  [0.23149417340755463]\n",
      "For epoch  58 loss is  [0.22773678600788116]\n",
      "For epoch  59 loss is  [0.22408024966716766]\n",
      "For epoch  60 loss is  [0.22052234411239624]\n",
      "For epoch  61 loss is  [0.21706494688987732]\n",
      "For epoch  62 loss is  [0.21370600163936615]\n",
      "For epoch  63 loss is  [0.21044352650642395]\n",
      "For epoch  64 loss is  [0.20727528631687164]\n",
      "For epoch  65 loss is  [0.2041962444782257]\n",
      "For epoch  66 loss is  [0.2012028694152832]\n",
      "For epoch  67 loss is  [0.1982923001050949]\n",
      "For epoch  68 loss is  [0.19545921683311462]\n",
      "For epoch  69 loss is  [0.19270016252994537]\n",
      "For epoch  70 loss is  [0.1900092363357544]\n",
      "For epoch  71 loss is  [0.18738433718681335]\n",
      "For epoch  72 loss is  [0.18482346832752228]\n",
      "For epoch  73 loss is  [0.18232454359531403]\n",
      "For epoch  74 loss is  [0.1798873245716095]\n",
      "For epoch  75 loss is  [0.17751272022724152]\n",
      "For epoch  76 loss is  [0.17519812285900116]\n",
      "For epoch  77 loss is  [0.1729404628276825]\n",
      "For epoch  78 loss is  [0.17073875665664673]\n",
      "For epoch  79 loss is  [0.16859222948551178]\n",
      "For epoch  80 loss is  [0.16649945080280304]\n",
      "For epoch  81 loss is  [0.164457306265831]\n",
      "For epoch  82 loss is  [0.16246269643306732]\n",
      "For epoch  83 loss is  [0.16051103174686432]\n",
      "For epoch  84 loss is  [0.15859968960285187]\n",
      "For epoch  85 loss is  [0.15672661364078522]\n",
      "For epoch  86 loss is  [0.15489482879638672]\n",
      "For epoch  87 loss is  [0.15310046076774597]\n",
      "For epoch  88 loss is  [0.15134625136852264]\n",
      "For epoch  89 loss is  [0.14962998032569885]\n",
      "For epoch  90 loss is  [0.1479484736919403]\n",
      "For epoch  91 loss is  [0.1463017761707306]\n",
      "For epoch  92 loss is  [0.14468586444854736]\n",
      "For epoch  93 loss is  [0.1431002914905548]\n",
      "For epoch  94 loss is  [0.14154395461082458]\n",
      "For epoch  95 loss is  [0.14001548290252686]\n",
      "For epoch  96 loss is  [0.13851623237133026]\n",
      "For epoch  97 loss is  [0.13704504072666168]\n",
      "For epoch  98 loss is  [0.1356009542942047]\n",
      "For epoch  99 loss is  [0.13418355584144592]\n",
      "For epoch  100 loss is  [0.13279125094413757]\n"
     ]
    }
   ],
   "source": [
    "num_epochs = 100\n",
    "for e in range(num_epochs):\n",
    "    e_losses = train_epoch(model,optimizer ,criteria,x_train.shape[0])\n",
    "    print(\"For epoch \",e+1,\"loss is \",e_losses)"
   ]
  },
  {
   "cell_type": "code",
   "execution_count": 16,
   "metadata": {},
   "outputs": [],
   "source": [
    "test_numpy = test_data.values\n",
    "output1 = test_numpy[:,-1]\n",
    "output1=output1.astype('float64')\n",
    "test_sub = test_data.drop(['date','Occupancy'],axis=1)\n",
    "x_test = changeToTensor(test_sub)"
   ]
  },
  {
   "cell_type": "code",
   "execution_count": 17,
   "metadata": {},
   "outputs": [
    {
     "name": "stdout",
     "output_type": "stream",
     "text": [
      "Accuracy is  94.4011484823626\n"
     ]
    }
   ],
   "source": [
    "testingAccuracy(model,x_test,output1)"
   ]
  },
  {
   "cell_type": "code",
   "execution_count": 18,
   "metadata": {},
   "outputs": [],
   "source": [
    "model1 = Net_5(x_train.shape[1])"
   ]
  },
  {
   "cell_type": "code",
   "execution_count": 19,
   "metadata": {},
   "outputs": [
    {
     "data": {
      "text/plain": [
       "Net_5(\n",
       "  (fc1): Linear(in_features=5, out_features=5, bias=True)\n",
       "  (relu): ReLU()\n",
       "  (fc2): Linear(in_features=5, out_features=1, bias=True)\n",
       "  (sigmoid): Sigmoid()\n",
       ")"
      ]
     },
     "execution_count": 19,
     "metadata": {},
     "output_type": "execute_result"
    }
   ],
   "source": [
    "model1"
   ]
  },
  {
   "cell_type": "code",
   "execution_count": 20,
   "metadata": {},
   "outputs": [
    {
     "name": "stdout",
     "output_type": "stream",
     "text": [
      "Accuracy for the testing data with learning rate  0.01\n",
      "Accuracy is  99.25143560295324\n",
      "Accuracy for the training data\n",
      "Accuracy is  98.61230504727988\n",
      "Accuracy for the testing data with learning rate  0.02\n",
      "Accuracy is  99.13863822805578\n",
      "Accuracy for the training data\n",
      "Accuracy is  98.77195136927422\n",
      "Accuracy for the testing data with learning rate  0.001\n",
      "Accuracy is  95.68293683347005\n",
      "Accuracy for the training data\n",
      "Accuracy is  98.15792705391134\n",
      "Accuracy for the testing data with learning rate  0.002\n",
      "Accuracy is  98.75922887612796\n",
      "Accuracy for the training data\n",
      "Accuracy is  98.84563428711776\n"
     ]
    },
    {
     "data": {
      "image/png": "[encoded data removed]",
      "text/plain": [
       "<Figure size 432x288 with 1 Axes>"
      ]
     },
     "metadata": {
      "needs_background": "light"
     },
     "output_type": "display_data"
    }
   ],
   "source": [
    "for learning_rate in [0.01,0.02,0.001,0.002]:\n",
    "    num_epochs = 100\n",
    "    e_losses=[]\n",
    "    loss_across_epoch=[]\n",
    "    model1 = Net_5(x_train.shape[1])\n",
    "    optimizer = torch.optim.Adam(model1.parameters(),lr=learning_rate)\n",
    "    for e in range(num_epochs):\n",
    "        e_losses = train_epoch(model1,optimizer ,criteria,100)\n",
    "        loss_to_plot = sum(e_losses)/len(e_losses)\n",
    "        loss_across_epoch.append(loss_to_plot)\n",
    "    \n",
    "    print(\"Accuracy for the testing data with learning rate \",learning_rate)\n",
    "    testingAccuracy(model1,x_test,output1)\n",
    "    print(\"Accuracy for the training data\")\n",
    "    testingAccuracy(model1,x_train,train_numpy[:,-1].astype('float64'))\n",
    "    plt.title('Training loss across epoch vs number of epochs')\n",
    "    plt.plot(loss_across_epoch)\n",
    "    plt.legend(['0.01','0.02','0.001','0.002'], loc='upper right')"
   ]
  },
  {
   "cell_type": "code",
   "execution_count": null,
   "metadata": {},
   "outputs": [],
   "source": []
  }
 ],
 "metadata": {
  "kernelspec": {
   "display_name": "Python 3",
   "language": "python",
   "name": "python3"
  },
  "language_info": {
   "codemirror_mode": {
    "name": "ipython",
    "version": 3
   },
   "file_extension": ".py",
   "mimetype": "text/x-python",
   "name": "python",
   "nbconvert_exporter": "python",
   "pygments_lexer": "ipython3",
   "version": "3.5.2"
  }
 },
 "nbformat": 4,
 "nbformat_minor": 2
}
