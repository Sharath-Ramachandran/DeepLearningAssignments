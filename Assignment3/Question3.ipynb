{
 "cells": [
  {
   "cell_type": "code",
   "execution_count": 85,
   "metadata": {},
   "outputs": [],
   "source": [
    "import numpy as np\n",
    "import pandas as pd\n",
    "import torch\n",
    "from torch.autograd import Variable\n",
    "import torch.nn as nn\n",
    "import torch.nn.functional as F\n",
    "import torch.utils.data as utils\n",
    "import matplotlib.pyplot as plt\n",
    "import statistics \n",
    "from statistics import mode\n",
    "from torch.optim.lr_scheduler import StepLR\n",
    "%matplotlib inline"
   ]
  },
  {
   "cell_type": "code",
   "execution_count": 86,
   "metadata": {},
   "outputs": [],
   "source": [
    "def train_epoch(model, opt, criterion, batch_size=100):\n",
    "    model.train()\n",
    "    losses = []\n",
    "    for index in range(0, x_train.shape[0], batch_size):\n",
    "        x_batch = x_train[index:index + batch_size, :]\n",
    "        label_batch = labels[index:index + batch_size, :]\n",
    "        opt.zero_grad()\n",
    "        prediction = model(x_batch)\n",
    "        loss = criterion(prediction,label_batch)\n",
    "        loss.backward()\n",
    "        opt.step()\n",
    "        losses.append(loss.item())\n",
    "    losses = sum(losses)/len(losses)\n",
    "    return losses"
   ]
  },
  {
   "cell_type": "code",
   "execution_count": 87,
   "metadata": {},
   "outputs": [],
   "source": [
    "def baselinePrediction(output1):\n",
    "    predictions_array=[]\n",
    "    for i in range(5):\n",
    "        test=np.random.randint(2, size=len(x_test))\n",
    "        test = list(test)\n",
    "        predictions_array.append(test)\n",
    "    predictions_array = np.array(predictions_array)\n",
    "    print(predictions_array.shape)\n",
    "    final_prediction =np.zeros(predictions_array.shape[1])\n",
    "    for i in range(predictions_array.shape[1]):\n",
    "        temp_list=predictions_array[:,i].tolist()\n",
    "        final_prediction[i]=mode(temp_list)\n",
    "    count=0\n",
    "    for i in range(output1.shape[0]):\n",
    "        if(output1[i]==final_prediction[i]):\n",
    "            count = count+1\n",
    "    print(\"Accuracy is \", (count/final_prediction.shape[0])*100)\n",
    "    return (count/final_prediction.shape[0])*100"
   ]
  },
  {
   "cell_type": "code",
   "execution_count": 88,
   "metadata": {},
   "outputs": [],
   "source": [
    "def testingAccuracy(model,x_test,output1):\n",
    "    predictions_array=[]\n",
    "    model = model.eval()\n",
    "    with torch.no_grad():\n",
    "        predictions = model(x_test)\n",
    "    test = np.asarray(predictions)\n",
    "    \n",
    "    test[test>0.5]=1\n",
    "    test[test<=0.5]=0\n",
    "\n",
    "    count=0\n",
    "    for i in range(test.shape[0]):\n",
    "        if(output1[i]==test[i]):\n",
    "            count = count+1\n",
    "    print(\"Accuracy is \", (count/test.shape[0])*100)\n",
    "    return (count/test.shape[0])*100"
   ]
  },
  {
   "cell_type": "code",
   "execution_count": 89,
   "metadata": {},
   "outputs": [],
   "source": [
    "#change the dataframe to numpy array to tensor array\n",
    "def changeToTensor(dataFrame):\n",
    "    dataFrame= (dataFrame-dataFrame.min())/(dataFrame.max()-dataFrame.min())\n",
    "    x = dataFrame.values\n",
    "    x= x.astype('float64')\n",
    "    x= torch.Tensor(x)\n",
    "    return x"
   ]
  },
  {
   "cell_type": "code",
   "execution_count": 90,
   "metadata": {},
   "outputs": [],
   "source": [
    "def preProcess(data):\n",
    "    data_numpy = data.values\n",
    "    labels = data_numpy[:,-1]\n",
    "    labels= labels.astype('float64')\n",
    "    #labels= torch.Tensor(labels)\n",
    "    data_numpy = data.drop(['date','Occupancy'],axis=1)\n",
    "    features = changeToTensor(data_numpy)\n",
    "    return features, labels"
   ]
  },
  {
   "cell_type": "code",
   "execution_count": 91,
   "metadata": {},
   "outputs": [],
   "source": [
    "class Net_2Layer(nn.Module):\n",
    "    def __init__(self,size,H_size,H2_size):\n",
    "        super(Net_2Layer, self).__init__()\n",
    "        self.fc1 = nn.Linear(size,H_size)\n",
    "        self.relu = nn.ReLU()\n",
    "        self.fc2 = nn.Linear(H_size,H2_size)\n",
    "        self.relu = nn.ReLU()\n",
    "        self.fc3 = nn.Linear(H2_size,1)\n",
    "        self.sigmoid = nn.Sigmoid()\n",
    "    def forward(self, x):\n",
    "        x = self.fc1(x)\n",
    "        x = self.relu(x)\n",
    "        x = self.fc2(x)\n",
    "        x = self.relu(x)\n",
    "        x = self.fc3(x)\n",
    "        x = self.sigmoid(x)\n",
    "        return x"
   ]
  },
  {
   "cell_type": "code",
   "execution_count": 92,
   "metadata": {},
   "outputs": [],
   "source": [
    "### create a model with pytorch#####\n",
    "class Net_H(nn.Module):\n",
    "    def __init__(self,size,H_size):\n",
    "        super(Net_H, self).__init__()\n",
    "        self.fc1 = nn.Linear(size,H_size)\n",
    "        self.relu = nn.ReLU()\n",
    "        self.fc2 = nn.Linear(H_size,1)\n",
    "        self.sigmoid = nn.Sigmoid()\n",
    "    def forward(self, x):\n",
    "        x = self.fc1(x)\n",
    "        x = self.relu(x)\n",
    "        x = self.fc2(x)\n",
    "        x = self.sigmoid(x)\n",
    "        return x"
   ]
  },
  {
   "cell_type": "code",
   "execution_count": 93,
   "metadata": {},
   "outputs": [],
   "source": [
    "### create a model with pytorch#####\n",
    "class Net_5(nn.Module):\n",
    "    def __init__(self,size):\n",
    "        super(Net_5, self).__init__()\n",
    "        self.fc1 = nn.Linear(size,5)\n",
    "        self.relu = nn.ReLU()\n",
    "        self.fc2 = nn.Linear(5,1)\n",
    "        self.sigmoid = nn.Sigmoid()\n",
    "    def forward(self, x):\n",
    "        x = self.fc1(x)\n",
    "        x = self.relu(x)\n",
    "        x = self.fc2(x)\n",
    "        x = self.sigmoid(x)\n",
    "        return x"
   ]
  },
  {
   "cell_type": "code",
   "execution_count": 94,
   "metadata": {},
   "outputs": [],
   "source": [
    "num_epochs = 100"
   ]
  },
  {
   "cell_type": "code",
   "execution_count": 95,
   "metadata": {},
   "outputs": [],
   "source": [
    "criteria= nn.BCELoss()"
   ]
  },
  {
   "cell_type": "code",
   "execution_count": 96,
   "metadata": {},
   "outputs": [],
   "source": [
    "train_data = pd.read_csv('train.txt',sep=',')\n",
    "test_data = pd.read_csv('test.txt',sep=',')"
   ]
  },
  {
   "cell_type": "code",
   "execution_count": 97,
   "metadata": {},
   "outputs": [
    {
     "data": {
      "text/html": [
       "<div>\n",
       "<style scoped>\n",
       "    .dataframe tbody tr th:only-of-type {\n",
       "        vertical-align: middle;\n",
       "    }\n",
       "\n",
       "    .dataframe tbody tr th {\n",
       "        vertical-align: top;\n",
       "    }\n",
       "\n",
       "    .dataframe thead th {\n",
       "        text-align: right;\n",
       "    }\n",
       "</style>\n",
       "<table border=\"1\" class=\"dataframe\">\n",
       "  <thead>\n",
       "    <tr style=\"text-align: right;\">\n",
       "      <th></th>\n",
       "      <th>date</th>\n",
       "      <th>Temperature</th>\n",
       "      <th>Humidity</th>\n",
       "      <th>Light</th>\n",
       "      <th>CO2</th>\n",
       "      <th>HumidityRatio</th>\n",
       "      <th>Occupancy</th>\n",
       "    </tr>\n",
       "  </thead>\n",
       "  <tbody>\n",
       "    <tr>\n",
       "      <th>1</th>\n",
       "      <td>2015-02-04 17:51:00</td>\n",
       "      <td>23.18</td>\n",
       "      <td>27.2720</td>\n",
       "      <td>426.0</td>\n",
       "      <td>721.25</td>\n",
       "      <td>0.004793</td>\n",
       "      <td>1</td>\n",
       "    </tr>\n",
       "    <tr>\n",
       "      <th>2</th>\n",
       "      <td>2015-02-04 17:51:59</td>\n",
       "      <td>23.15</td>\n",
       "      <td>27.2675</td>\n",
       "      <td>429.5</td>\n",
       "      <td>714.00</td>\n",
       "      <td>0.004783</td>\n",
       "      <td>1</td>\n",
       "    </tr>\n",
       "    <tr>\n",
       "      <th>3</th>\n",
       "      <td>2015-02-04 17:53:00</td>\n",
       "      <td>23.15</td>\n",
       "      <td>27.2450</td>\n",
       "      <td>426.0</td>\n",
       "      <td>713.50</td>\n",
       "      <td>0.004779</td>\n",
       "      <td>1</td>\n",
       "    </tr>\n",
       "    <tr>\n",
       "      <th>4</th>\n",
       "      <td>2015-02-04 17:54:00</td>\n",
       "      <td>23.15</td>\n",
       "      <td>27.2000</td>\n",
       "      <td>426.0</td>\n",
       "      <td>708.25</td>\n",
       "      <td>0.004772</td>\n",
       "      <td>1</td>\n",
       "    </tr>\n",
       "    <tr>\n",
       "      <th>5</th>\n",
       "      <td>2015-02-04 17:55:00</td>\n",
       "      <td>23.10</td>\n",
       "      <td>27.2000</td>\n",
       "      <td>426.0</td>\n",
       "      <td>704.50</td>\n",
       "      <td>0.004757</td>\n",
       "      <td>1</td>\n",
       "    </tr>\n",
       "  </tbody>\n",
       "</table>\n",
       "</div>"
      ],
      "text/plain": [
       "                  date  Temperature  Humidity  Light     CO2  HumidityRatio  \\\n",
       "1  2015-02-04 17:51:00        23.18   27.2720  426.0  721.25       0.004793   \n",
       "2  2015-02-04 17:51:59        23.15   27.2675  429.5  714.00       0.004783   \n",
       "3  2015-02-04 17:53:00        23.15   27.2450  426.0  713.50       0.004779   \n",
       "4  2015-02-04 17:54:00        23.15   27.2000  426.0  708.25       0.004772   \n",
       "5  2015-02-04 17:55:00        23.10   27.2000  426.0  704.50       0.004757   \n",
       "\n",
       "   Occupancy  \n",
       "1          1  \n",
       "2          1  \n",
       "3          1  \n",
       "4          1  \n",
       "5          1  "
      ]
     },
     "execution_count": 97,
     "metadata": {},
     "output_type": "execute_result"
    }
   ],
   "source": [
    "train_data.head()"
   ]
  },
  {
   "cell_type": "code",
   "execution_count": 98,
   "metadata": {},
   "outputs": [
    {
     "name": "stdout",
     "output_type": "stream",
     "text": [
      "torch.Size([8143, 5]) torch.Size([8143, 1])\n"
     ]
    }
   ],
   "source": [
    "x_train, labels =preProcess(train_data)\n",
    "labels_accuracy = labels\n",
    "labels= torch.Tensor(labels)\n",
    "labels = labels.unsqueeze(1)\n",
    "print(x_train.shape, labels.shape)"
   ]
  },
  {
   "cell_type": "code",
   "execution_count": 99,
   "metadata": {},
   "outputs": [],
   "source": [
    "x_test, output = preProcess(test_data)"
   ]
  },
  {
   "cell_type": "markdown",
   "metadata": {},
   "source": [
    "### Part (a) printing the loss value across 100 epochs for batch training"
   ]
  },
  {
   "cell_type": "code",
   "execution_count": 100,
   "metadata": {},
   "outputs": [],
   "source": [
    "model = Net_5(x_train.shape[1])\n",
    "optimizer = torch.optim.Adam(model.parameters(),lr=0.001)"
   ]
  },
  {
   "cell_type": "code",
   "execution_count": 101,
   "metadata": {},
   "outputs": [
    {
     "name": "stdout",
     "output_type": "stream",
     "text": [
      "For epoch  1 loss is  0.6157673597335815\n",
      "For epoch  2 loss is  0.6155251264572144\n",
      "For epoch  3 loss is  0.615402102470398\n",
      "For epoch  4 loss is  0.6151551604270935\n",
      "For epoch  5 loss is  0.6149489879608154\n",
      "For epoch  6 loss is  0.6147071123123169\n",
      "For epoch  7 loss is  0.6145627498626709\n",
      "For epoch  8 loss is  0.6143319010734558\n",
      "For epoch  9 loss is  0.6140909790992737\n",
      "For epoch  10 loss is  0.6139413714408875\n",
      "For epoch  11 loss is  0.6136907935142517\n",
      "For epoch  12 loss is  0.6134893894195557\n",
      "For epoch  13 loss is  0.6132476329803467\n",
      "For epoch  14 loss is  0.6131243109703064\n",
      "For epoch  15 loss is  0.6128771901130676\n",
      "For epoch  16 loss is  0.6126319169998169\n",
      "For epoch  17 loss is  0.6124839782714844\n",
      "For epoch  18 loss is  0.6122424602508545\n",
      "For epoch  19 loss is  0.6120601296424866\n",
      "For epoch  20 loss is  0.6118199229240417\n",
      "For epoch  21 loss is  0.6116711497306824\n",
      "For epoch  22 loss is  0.6114254593849182\n",
      "For epoch  23 loss is  0.611180305480957\n",
      "For epoch  24 loss is  0.6110564470291138\n",
      "For epoch  25 loss is  0.6108146905899048\n",
      "For epoch  26 loss is  0.6106145977973938\n",
      "For epoch  27 loss is  0.610471248626709\n",
      "For epoch  28 loss is  0.610231339931488\n",
      "For epoch  29 loss is  0.6099768877029419\n",
      "For epoch  30 loss is  0.6097595691680908\n",
      "For epoch  31 loss is  0.6096205711364746\n",
      "For epoch  32 loss is  0.6094164848327637\n",
      "For epoch  33 loss is  0.6091762781143188\n",
      "For epoch  34 loss is  0.6090299487113953\n",
      "For epoch  35 loss is  0.6088053584098816\n",
      "For epoch  36 loss is  0.6085662841796875\n",
      "For epoch  37 loss is  0.6084192991256714\n",
      "For epoch  38 loss is  0.6081757545471191\n",
      "For epoch  39 loss is  0.6079840660095215\n",
      "For epoch  40 loss is  0.6078600287437439\n",
      "For epoch  41 loss is  0.6076198816299438\n",
      "For epoch  42 loss is  0.6073803901672363\n",
      "For epoch  43 loss is  0.6072254776954651\n",
      "For epoch  44 loss is  0.6069870591163635\n",
      "For epoch  45 loss is  0.6068000197410583\n",
      "For epoch  46 loss is  0.6066752672195435\n",
      "For epoch  47 loss is  0.6064321398735046\n",
      "For epoch  48 loss is  0.6061886548995972\n",
      "For epoch  49 loss is  0.6060418486595154\n",
      "For epoch  50 loss is  0.6058487892150879\n",
      "For epoch  51 loss is  0.605630099773407\n",
      "For epoch  52 loss is  0.6054841876029968\n",
      "For epoch  53 loss is  0.6052453517913818\n",
      "For epoch  54 loss is  0.6049984693527222\n",
      "For epoch  55 loss is  0.6048675775527954\n",
      "For epoch  56 loss is  0.6046677231788635\n",
      "For epoch  57 loss is  0.6044499278068542\n",
      "For epoch  58 loss is  0.6043140292167664\n",
      "For epoch  59 loss is  0.6040579080581665\n",
      "For epoch  60 loss is  0.6039252281188965\n",
      "For epoch  61 loss is  0.6036896705627441\n",
      "For epoch  62 loss is  0.6035173535346985\n",
      "For epoch  63 loss is  0.6033684015274048\n",
      "For epoch  64 loss is  0.6031316518783569\n",
      "For epoch  65 loss is  0.6028850078582764\n",
      "For epoch  66 loss is  0.6027551293373108\n",
      "For epoch  67 loss is  0.6025568842887878\n",
      "For epoch  68 loss is  0.6024432182312012\n",
      "For epoch  69 loss is  0.6022041440010071\n",
      "For epoch  70 loss is  0.6019614338874817\n",
      "For epoch  71 loss is  0.6018160581588745\n",
      "For epoch  72 loss is  0.601625382900238\n",
      "For epoch  73 loss is  0.6014063954353333\n",
      "For epoch  74 loss is  0.6012752056121826\n",
      "For epoch  75 loss is  0.6010391712188721\n",
      "For epoch  76 loss is  0.6008851528167725\n",
      "For epoch  77 loss is  0.6007044315338135\n",
      "For epoch  78 loss is  0.6004667282104492\n",
      "For epoch  79 loss is  0.6003442406654358\n",
      "For epoch  80 loss is  0.600109875202179\n",
      "For epoch  81 loss is  0.5999650359153748\n",
      "For epoch  82 loss is  0.5997774004936218\n",
      "For epoch  83 loss is  0.5995383262634277\n",
      "For epoch  84 loss is  0.5994251370429993\n",
      "For epoch  85 loss is  0.5991830229759216\n",
      "For epoch  86 loss is  0.599037766456604\n",
      "For epoch  87 loss is  0.5988503098487854\n",
      "For epoch  88 loss is  0.5987184047698975\n",
      "For epoch  89 loss is  0.5984863042831421\n",
      "For epoch  90 loss is  0.5982573628425598\n",
      "For epoch  91 loss is  0.5981265902519226\n",
      "For epoch  92 loss is  0.597932755947113\n",
      "For epoch  93 loss is  0.5977935194969177\n",
      "For epoch  94 loss is  0.5975528955459595\n",
      "For epoch  95 loss is  0.5974264740943909\n",
      "For epoch  96 loss is  0.5972017049789429\n",
      "For epoch  97 loss is  0.5970224142074585\n",
      "For epoch  98 loss is  0.5968917608261108\n",
      "For epoch  99 loss is  0.5966426730155945\n",
      "For epoch  100 loss is  0.5965035557746887\n"
     ]
    }
   ],
   "source": [
    "loss_to_plot_batch=[]\n",
    "for e in range(num_epochs):\n",
    "    e_losses = train_epoch(model,optimizer ,criteria,x_train.shape[0])\n",
    "    loss_to_plot_batch.append(e_losses)\n",
    "    print(\"For epoch \",e+1,\"loss is \",e_losses)"
   ]
  },
  {
   "cell_type": "markdown",
   "metadata": {},
   "source": [
    "### Part (b) Getting the baseline accuracy for the testing data from randomly generated labels"
   ]
  },
  {
   "cell_type": "code",
   "execution_count": 102,
   "metadata": {},
   "outputs": [
    {
     "name": "stdout",
     "output_type": "stream",
     "text": [
      "(5, 9752)\n",
      "Accuracy is  49.81542247744052\n"
     ]
    }
   ],
   "source": [
    "baseline_accuracy = baselinePrediction(output)"
   ]
  },
  {
   "cell_type": "code",
   "execution_count": 103,
   "metadata": {},
   "outputs": [],
   "source": [
    "baseline_error= 1-(baseline_accuracy/100)\n",
    "baseline_error_plot=[baseline_error]*100"
   ]
  },
  {
   "cell_type": "markdown",
   "metadata": {},
   "source": [
    "### Part (c) With the H=5,changed the learning rate and plotted training loss across every epoch for every learning rate considered"
   ]
  },
  {
   "cell_type": "code",
   "execution_count": 104,
   "metadata": {},
   "outputs": [
    {
     "name": "stdout",
     "output_type": "stream",
     "text": [
      "Accuracy for the testing data \n",
      "Accuracy is  98.93355209187858\n",
      "Accuracy for the training data\n",
      "Accuracy is  97.29829301240329\n",
      "Should stop at index  21\n"
     ]
    },
    {
     "data": {
      "image/png": "[encoded data removed]",
      "text/plain": [
       "<Figure size 432x288 with 1 Axes>"
      ]
     },
     "metadata": {
      "needs_background": "light"
     },
     "output_type": "display_data"
    }
   ],
   "source": [
    "num_epochs = 100\n",
    "e_losses=[]\n",
    "loss_across_epoch=[]\n",
    "model = Net_5(x_train.shape[1])\n",
    "optimizer = torch.optim.Adam(model.parameters(),lr=0.01)\n",
    "scheduler = StepLR(optimizer, step_size=10, gamma=0.1)\n",
    "for e in range(num_epochs):\n",
    "    e_losses = train_epoch(model,optimizer ,criteria,100)\n",
    "    scheduler.step()\n",
    "    loss_across_epoch.append(e_losses)\n",
    "\n",
    "print(\"Accuracy for the testing data \")\n",
    "dummy=testingAccuracy(model,x_test,output)\n",
    "print(\"Accuracy for the training data\")\n",
    "dummy=testingAccuracy(model,x_train,labels_accuracy)#train_numpy[:,-1].astype('float64'))\n",
    "plt.title('Training loss across epoch vs number of epochs')\n",
    "needed_index= 0\n",
    "min_change=0.001\n",
    "for i in range(1,len(loss_across_epoch)):\n",
    "    if(loss_across_epoch[i-1]-loss_across_epoch[i]< min_change):\n",
    "        print(\"Should stop at index \",i)\n",
    "        needed_index = i\n",
    "        break\n",
    "loss_across_epoch=loss_across_epoch[:needed_index]\n",
    "plt.plot(loss_across_epoch)    \n",
    "baseline_error_plot1 = baseline_error_plot[:needed_index]\n",
    "plt.plot(baseline_error_plot1)\n",
    "plt.show()"
   ]
  },
  {
   "cell_type": "markdown",
   "metadata": {},
   "source": [
    "### Part (d) Plot of the training loss obtained by considering the entire training data as a batch"
   ]
  },
  {
   "cell_type": "code",
   "execution_count": 105,
   "metadata": {},
   "outputs": [
    {
     "data": {
      "text/plain": [
       "[<matplotlib.lines.Line2D at 0x7f762d2f9e48>]"
      ]
     },
     "execution_count": 105,
     "metadata": {},
     "output_type": "execute_result"
    },
    {
     "data": {
      "image/png": "[encoded data removed]",
      "text/plain": [
       "<Figure size 432x288 with 1 Axes>"
      ]
     },
     "metadata": {
      "needs_background": "light"
     },
     "output_type": "display_data"
    }
   ],
   "source": [
    "plt.title('Batch Gradient descent method for training loss vs epoch')\n",
    "plt.plot(loss_to_plot_batch)"
   ]
  },
  {
   "cell_type": "markdown",
   "metadata": {},
   "source": [
    "### Part (e) Varied the number of hidden layers(H) and created a model for each of it and plotted the training and testing error"
   ]
  },
  {
   "cell_type": "code",
   "execution_count": 106,
   "metadata": {},
   "outputs": [
    {
     "name": "stdout",
     "output_type": "stream",
     "text": [
      "Training accuracy for H  1\n",
      "Accuracy is  78.76703917475132\n",
      "Testing accuracy for H  1\n",
      "Accuracy is  78.98892534864643\n",
      "Training accuracy for H  2\n",
      "Accuracy is  21.232960825248682\n",
      "Testing accuracy for H  2\n",
      "Accuracy is  21.011074651353567\n",
      "Training accuracy for H  5\n",
      "Accuracy is  28.52756969175979\n",
      "Testing accuracy for H  5\n",
      "Accuracy is  21.800656275635767\n",
      "Training accuracy for H  10\n",
      "Accuracy is  90.9247206189365\n",
      "Testing accuracy for H  10\n",
      "Accuracy is  70.47785069729287\n",
      "Training accuracy for H  20\n",
      "Accuracy is  78.76703917475132\n",
      "Testing accuracy for H  20\n",
      "Accuracy is  78.98892534864643\n"
     ]
    },
    {
     "data": {
      "image/png": "[encoded data removed]",
      "text/plain": [
       "<Figure size 432x288 with 1 Axes>"
      ]
     },
     "metadata": {
      "needs_background": "light"
     },
     "output_type": "display_data"
    }
   ],
   "source": [
    "x_axis=[1,2,5,10,20]\n",
    "training_accuracy_every_H=[]\n",
    "testing_accuracy_every_H=[]\n",
    "for H in [1,2,5,10,20]:\n",
    "    model = Net_H(x_train.shape[1],H)\n",
    "    optimizer = torch.optim.Adam(model.parameters(),lr=0.01)\n",
    "    scheduler = StepLR(optimizer, step_size=10, gamma=0.1)\n",
    "    for e in range(num_epochs):\n",
    "        e_losses = train_epoch(model,optimizer ,criteria,x_train.shape[0])\n",
    "        scheduler.step()\n",
    "    print(\"Training accuracy for H \",H)\n",
    "    training_accuracy_every_H.append(testingAccuracy(model,x_train,labels_accuracy))#train_numpy[:,-1].astype('float64')))\n",
    "    print(\"Testing accuracy for H \",H)\n",
    "    testing_accuracy_every_H.append(testingAccuracy(model,x_test,output))\n",
    "plt.title('Training and Testing accuracy across H vs values of H')\n",
    "plt.plot(x_axis,training_accuracy_every_H)\n",
    "plt.plot(x_axis,testing_accuracy_every_H)\n",
    "plt.legend(['Training accuracy','Tesing accuracy'], loc='upper right')\n",
    "plt.show()"
   ]
  },
  {
   "cell_type": "markdown",
   "metadata": {},
   "source": [
    "### Part (f) Changed the BCELoss to MSELoss and performed the training and testing again"
   ]
  },
  {
   "cell_type": "code",
   "execution_count": 107,
   "metadata": {},
   "outputs": [],
   "source": [
    "criteria= nn.MSELoss()"
   ]
  },
  {
   "cell_type": "code",
   "execution_count": 108,
   "metadata": {},
   "outputs": [
    {
     "data": {
      "text/plain": [
       "[<matplotlib.lines.Line2D at 0x7f762d1ce320>]"
      ]
     },
     "execution_count": 108,
     "metadata": {},
     "output_type": "execute_result"
    },
    {
     "data": {
      "image/png": "[encoded data removed]",
      "text/plain": [
       "<Figure size 432x288 with 1 Axes>"
      ]
     },
     "metadata": {
      "needs_background": "light"
     },
     "output_type": "display_data"
    }
   ],
   "source": [
    "model = Net_5(x_train.shape[1])\n",
    "optimizer = torch.optim.Adam(model.parameters(),lr=0.001)\n",
    "loss_to_plot_batch=[]\n",
    "for e in range(num_epochs):\n",
    "    e_losses = train_epoch(model,optimizer ,criteria,x_train.shape[0])\n",
    "    loss_to_plot_batch.append(e_losses)\n",
    "plt.title('Batch Gradient descent method for training loss vs epoch')\n",
    "plt.plot(loss_to_plot_batch)"
   ]
  },
  {
   "cell_type": "code",
   "execution_count": 109,
   "metadata": {},
   "outputs": [
    {
     "name": "stdout",
     "output_type": "stream",
     "text": [
      "tensor([[ 0.3779, -0.1793,  0.0726,  0.3474,  0.2938],\n",
      "        [-0.2532, -0.3656,  0.2963, -0.1894, -0.2834],\n",
      "        [-0.1404, -0.0217,  0.3465,  0.4599, -0.4314],\n",
      "        [ 0.5032, -0.3188,  0.0268, -0.2871, -0.2554],\n",
      "        [ 0.5334,  0.4948,  0.1941, -0.1863,  0.1422]])\n",
      "tensor([-0.1473, -0.2031,  0.3228, -0.0809,  0.0728])\n",
      "tensor([[ 0.3082,  0.2379,  0.0841, -0.2115, -0.5512]])\n",
      "tensor([-0.0850])\n"
     ]
    }
   ],
   "source": [
    "for param in model.parameters ():\n",
    "    print(param.data)"
   ]
  },
  {
   "cell_type": "code",
   "execution_count": 110,
   "metadata": {},
   "outputs": [
    {
     "name": "stdout",
     "output_type": "stream",
     "text": [
      "Criterai is  MSELoss()\n",
      "Accuracy is  99.12838392124692\n",
      "Accuracy for the training data\n",
      "Accuracy is  98.68598796512342\n",
      "Should stop at index  10\n"
     ]
    },
    {
     "data": {
      "image/png": "[encoded data removed]",
      "text/plain": [
       "<Figure size 432x288 with 1 Axes>"
      ]
     },
     "metadata": {
      "needs_background": "light"
     },
     "output_type": "display_data"
    }
   ],
   "source": [
    "\n",
    "print(\"Criterai is \",criteria)\n",
    "\n",
    "e_losses=[]\n",
    "loss_across_epoch=[]\n",
    "model = Net_5(x_train.shape[1])\n",
    "optimizer = torch.optim.Adam(model.parameters(),lr=0.01)\n",
    "scheduler = StepLR(optimizer, step_size=10, gamma=0.1)\n",
    "for e in range(num_epochs):\n",
    "    e_losses = train_epoch(model,optimizer ,criteria,100)\n",
    "    scheduler.step()\n",
    "    loss_across_epoch.append(e_losses)\n",
    "\n",
    "dummy=testingAccuracy(model,x_test,output)\n",
    "print(\"Accuracy for the training data\")\n",
    "dummy=testingAccuracy(model,x_train,labels_accuracy)#train_numpy[:,-1].astype('float64'))\n",
    "plt.title('Training loss across epoch vs number of epochs')\n",
    "\n",
    "needed_index= 0\n",
    "min_change=0.001\n",
    "for i in range(1,len(loss_across_epoch)):\n",
    "    if(loss_across_epoch[i-1]-loss_across_epoch[i]< min_change):\n",
    "        print(\"Should stop at index \",i)\n",
    "        needed_index = i\n",
    "        break\n",
    "loss_across_epoch=loss_across_epoch[:needed_index]\n",
    "plt.plot(loss_across_epoch)    \n",
    "baseline_error_plot1 = baseline_error_plot[:needed_index]\n",
    "plt.plot(baseline_error_plot1)\n",
    "plt.show()"
   ]
  },
  {
   "cell_type": "code",
   "execution_count": 111,
   "metadata": {},
   "outputs": [
    {
     "name": "stdout",
     "output_type": "stream",
     "text": [
      "Accuracy is  97.66670760162103\n",
      "Accuracy is  90.87366694011484\n",
      "Accuracy is  95.75095173768882\n",
      "Accuracy is  85.01845775225596\n",
      "Accuracy is  96.2790126489009\n",
      "Accuracy is  86.4540607054963\n",
      "Accuracy is  98.82107331450325\n",
      "Accuracy is  98.35931091058244\n",
      "Accuracy is  98.25617094436939\n",
      "Accuracy is  94.96513535684987\n"
     ]
    },
    {
     "data": {
      "image/png": "[encoded data removed]",
      "text/plain": [
       "<Figure size 432x288 with 1 Axes>"
      ]
     },
     "metadata": {
      "needs_background": "light"
     },
     "output_type": "display_data"
    }
   ],
   "source": [
    "\n",
    "epochs=100\n",
    "x_axis=[1,2,5,10,20]\n",
    "training_accuracy_every_H=[]\n",
    "testing_accuracy_every_H=[]\n",
    "for H in [1,2,5,10,20]:\n",
    "    model = Net_H(x_train.shape[1],H)\n",
    "    optimizer = torch.optim.Adam(model.parameters(),lr=0.1)\n",
    "    scheduler = StepLR(optimizer, step_size=30, gamma=0.1)\n",
    "    for e in range(num_epochs):\n",
    "        e_losses = train_epoch(model,optimizer,criteria,x_train.shape[0])\n",
    "        scheduler.step()\n",
    "    training_accuracy_every_H.append(testingAccuracy(model,x_train,labels_accuracy))#train_numpy[:,-1].astype('float64')))\n",
    "    testing_accuracy_every_H.append(testingAccuracy(model,x_test,output))\n",
    "plt.title('Training and Testing accuracy across H vs values of H')\n",
    "plt.plot(x_axis,training_accuracy_every_H)\n",
    "plt.plot(x_axis,testing_accuracy_every_H)\n",
    "plt.legend(['Training accuracy','Tesing accuracy'], loc='upper right')\n",
    "plt.show()"
   ]
  },
  {
   "cell_type": "markdown",
   "metadata": {},
   "source": [
    "### Part(g) Created a two layer network and obtained the test accuracy for every combination for H1 and H2"
   ]
  },
  {
   "cell_type": "code",
   "execution_count": 112,
   "metadata": {},
   "outputs": [
    {
     "name": "stdout",
     "output_type": "stream",
     "text": [
      "\n",
      "H1 has  1  neurons and H2 has 15  neurons\n",
      "Testing accuracy for the 2 layer for the model with H1  1  and H2  15\n",
      "Accuracy is  78.98892534864643\n",
      "\n",
      "H1 has  1  neurons and H2 has 120  neurons\n",
      "Testing accuracy for the 2 layer for the model with H1  1  and H2  120\n",
      "Accuracy is  78.98892534864643\n",
      "\n",
      "H1 has  1  neurons and H2 has 220  neurons\n",
      "Testing accuracy for the 2 layer for the model with H1  1  and H2  220\n",
      "Accuracy is  89.62264150943396\n",
      "\n",
      "H1 has  1  neurons and H2 has 230  neurons\n",
      "Testing accuracy for the 2 layer for the model with H1  1  and H2  230\n",
      "Accuracy is  88.91509433962264\n",
      "\n",
      "H1 has  2  neurons and H2 has 15  neurons\n",
      "Testing accuracy for the 2 layer for the model with H1  2  and H2  15\n",
      "Accuracy is  88.19729286300246\n",
      "\n",
      "H1 has  2  neurons and H2 has 120  neurons\n",
      "Testing accuracy for the 2 layer for the model with H1  2  and H2  120\n",
      "Accuracy is  97.20057424118129\n",
      "\n",
      "H1 has  2  neurons and H2 has 220  neurons\n",
      "Testing accuracy for the 2 layer for the model with H1  2  and H2  220\n",
      "Accuracy is  98.8002461033634\n",
      "\n",
      "H1 has  2  neurons and H2 has 230  neurons\n",
      "Testing accuracy for the 2 layer for the model with H1  2  and H2  230\n",
      "Accuracy is  98.55414273995078\n",
      "\n",
      "H1 has  5  neurons and H2 has 15  neurons\n",
      "Testing accuracy for the 2 layer for the model with H1  5  and H2  15\n",
      "Accuracy is  90.2481542247744\n",
      "\n",
      "H1 has  5  neurons and H2 has 120  neurons\n",
      "Testing accuracy for the 2 layer for the model with H1  5  and H2  120\n",
      "Accuracy is  93.76538146021329\n",
      "\n",
      "H1 has  5  neurons and H2 has 220  neurons\n",
      "Testing accuracy for the 2 layer for the model with H1  5  and H2  220\n",
      "Accuracy is  93.86792452830188\n",
      "\n",
      "H1 has  5  neurons and H2 has 230  neurons\n",
      "Testing accuracy for the 2 layer for the model with H1  5  and H2  230\n",
      "Accuracy is  97.81583264971287\n",
      "\n",
      "H1 has  10  neurons and H2 has 15  neurons\n",
      "Testing accuracy for the 2 layer for the model with H1  10  and H2  15\n",
      "Accuracy is  90.86341263330598\n",
      "\n",
      "H1 has  10  neurons and H2 has 120  neurons\n",
      "Testing accuracy for the 2 layer for the model with H1  10  and H2  120\n",
      "Accuracy is  98.55414273995078\n",
      "\n",
      "H1 has  10  neurons and H2 has 220  neurons\n",
      "Testing accuracy for the 2 layer for the model with H1  10  and H2  220\n",
      "Accuracy is  99.13863822805578\n",
      "\n",
      "H1 has  10  neurons and H2 has 230  neurons\n",
      "Testing accuracy for the 2 layer for the model with H1  10  and H2  230\n",
      "Accuracy is  93.23215750615257\n",
      "\n",
      "H1 has  20  neurons and H2 has 15  neurons\n",
      "Testing accuracy for the 2 layer for the model with H1  20  and H2  15\n",
      "Accuracy is  97.66201804757998\n",
      "\n",
      "H1 has  20  neurons and H2 has 120  neurons\n",
      "Testing accuracy for the 2 layer for the model with H1  20  and H2  120\n",
      "Accuracy is  97.19031993437244\n",
      "\n",
      "H1 has  20  neurons and H2 has 220  neurons\n",
      "Testing accuracy for the 2 layer for the model with H1  20  and H2  220\n",
      "Accuracy is  93.3552091878589\n",
      "\n",
      "H1 has  20  neurons and H2 has 230  neurons\n",
      "Testing accuracy for the 2 layer for the model with H1  20  and H2  230\n",
      "Accuracy is  89.47908121410993\n"
     ]
    }
   ],
   "source": [
    "criteria= nn.BCELoss()\n",
    "for H1 in [1,2,5,10,20]:\n",
    "    for H2 in [15,120,220,230]:\n",
    "        print()\n",
    "        print(\"H1 has \",H1,' neurons and H2 has',H2,' neurons')\n",
    "        model = Net_2Layer(x_train.shape[1],H1,H2)\n",
    "        optimizer = torch.optim.Adam(model.parameters(),lr=0.01)\n",
    "        for e in range(num_epochs):\n",
    "            e_losses = train_epoch(model,optimizer ,criteria,x_train.shape[0])\n",
    "        print(\"Testing accuracy for the 2 layer for the model with H1 \",H1,\" and H2 \",H2)\n",
    "        testingAccuracy(model,x_test,output)\n",
    "        "
   ]
  }
 ],
 "metadata": {
  "kernelspec": {
   "display_name": "Python 3",
   "language": "python",
   "name": "python3"
  },
  "language_info": {
   "codemirror_mode": {
    "name": "ipython",
    "version": 3
   },
   "file_extension": ".py",
   "mimetype": "text/x-python",
   "name": "python",
   "nbconvert_exporter": "python",
   "pygments_lexer": "ipython3",
   "version": "3.5.2"
  }
 },
 "nbformat": 4,
 "nbformat_minor": 2
}
