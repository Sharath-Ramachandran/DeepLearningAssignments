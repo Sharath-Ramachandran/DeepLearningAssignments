{
 "cells": [
  {
   "cell_type": "code",
   "execution_count": 1,
   "metadata": {},
   "outputs": [],
   "source": [
    "import numpy as np\n",
    "import pandas as pd\n",
    "import torch\n",
    "from torch.autograd import Variable\n",
    "import torch.nn as nn\n",
    "import torch.nn.functional as F\n",
    "import torch.utils.data as utils\n",
    "import matplotlib.pyplot as plt\n",
    "import statistics \n",
    "from statistics import mode\n",
    "from torch.optim.lr_scheduler import StepLR\n",
    "%matplotlib inline"
   ]
  },
  {
   "cell_type": "code",
   "execution_count": 2,
   "metadata": {},
   "outputs": [],
   "source": [
    "def train_epoch(model, opt, criterion, batch_size=100):\n",
    "    model.train()\n",
    "    losses = []\n",
    "    for index in range(0, x_train.shape[0], batch_size):\n",
    "        x_batch = x_train[index:index + batch_size, :]\n",
    "        label_batch = labels[index:index + batch_size, :]\n",
    "        opt.zero_grad()\n",
    "        prediction = model(x_batch)\n",
    "        loss = criterion(prediction,label_batch)\n",
    "        loss.backward()\n",
    "        opt.step()\n",
    "        losses.append(loss.item())\n",
    "    losses = sum(losses)/len(losses)\n",
    "    return losses"
   ]
  },
  {
   "cell_type": "code",
   "execution_count": 3,
   "metadata": {},
   "outputs": [],
   "source": [
    "def baselinePrediction(output1):\n",
    "    predictions_array=[]\n",
    "    for i in range(5):\n",
    "        test=np.random.randint(2, size=len(x_test))\n",
    "        test = list(test)\n",
    "        predictions_array.append(test)\n",
    "    predictions_array = np.array(predictions_array)\n",
    "    print(predictions_array.shape)\n",
    "    final_prediction =np.zeros(predictions_array.shape[1])\n",
    "    print(final_prediction.shape)\n",
    "    for i in range(predictions_array.shape[1]):\n",
    "        temp_list=predictions_array[:,i].tolist()\n",
    "        final_prediction[i]=mode(temp_list)\n",
    "    count=0\n",
    "    for i in range(output1.shape[0]):\n",
    "        if(output1[i]==final_prediction[i]):\n",
    "            count = count+1\n",
    "    print(\"Accuracy is \", (count/final_prediction.shape[0])*100)\n",
    "    return (count/final_prediction.shape[0])*100"
   ]
  },
  {
   "cell_type": "code",
   "execution_count": 4,
   "metadata": {},
   "outputs": [],
   "source": [
    "def testingAccuracy(model,x_test,output1):\n",
    "    predictions_array=[]\n",
    "    model = model.eval()\n",
    "    for i in range(1):\n",
    "        with torch.no_grad():\n",
    "            predictions = model(x_test)\n",
    "        test = np.asarray(predictions)\n",
    "        test[test>0.5]=1\n",
    "        test[test<=0.5]=0\n",
    "        predictions_array.append(test)\n",
    "    predictions_array = np.array(predictions_array)\n",
    "    predictions_array = np.squeeze(predictions_array,axis=2)\n",
    "    final_prediction =np.zeros(predictions_array.shape[1])\n",
    "    for i in range(predictions_array.shape[1]):\n",
    "        temp_list=predictions_array[:,i].tolist()\n",
    "        final_prediction[i]=mode(temp_list)\n",
    "    count=0\n",
    "    for i in range(test.shape[0]):\n",
    "        if(output1[i]==final_prediction[i]):\n",
    "            count = count+1\n",
    "    print(\"Accuracy is \", (count/final_prediction.shape[0])*100)\n",
    "    return (count/final_prediction.shape[0])*100"
   ]
  },
  {
   "cell_type": "code",
   "execution_count": 5,
   "metadata": {},
   "outputs": [],
   "source": [
    "#change the dataframe to numpy array to tensor array\n",
    "def changeToTensor(dataFrame):\n",
    "    dataFrame= (dataFrame-dataFrame.min())/(dataFrame.max()-dataFrame.min())\n",
    "    x = dataFrame.values\n",
    "    x= x.astype('float64')\n",
    "    x= torch.Tensor(x)\n",
    "    return x"
   ]
  },
  {
   "cell_type": "code",
   "execution_count": 6,
   "metadata": {},
   "outputs": [],
   "source": [
    "class Net_2Layer(nn.Module):\n",
    "    def __init__(self,size,H_size,H2_size):\n",
    "        super(Net_2Layer, self).__init__()\n",
    "        self.fc1 = nn.Linear(size,H_size)\n",
    "        self.relu = nn.ReLU()\n",
    "        self.fc2 = nn.Linear(H_size,H2_size)\n",
    "        self.relu = nn.ReLU()\n",
    "        self.fc3 = nn.Linear(H2_size,1)\n",
    "        self.sigmoid = nn.Sigmoid()\n",
    "    def forward(self, x):\n",
    "        x = self.fc1(x)\n",
    "        x = self.relu(x)\n",
    "        x = self.fc2(x)\n",
    "        x = self.relu(x)\n",
    "        x = self.fc3(x)\n",
    "        x = self.sigmoid(x)\n",
    "        return x"
   ]
  },
  {
   "cell_type": "code",
   "execution_count": 7,
   "metadata": {},
   "outputs": [],
   "source": [
    "### create a model with pytorch#####\n",
    "class Net_H(nn.Module):\n",
    "    def __init__(self,size,H_size):\n",
    "        super(Net_H, self).__init__()\n",
    "        self.fc1 = nn.Linear(size,H_size)\n",
    "        self.relu = nn.ReLU()\n",
    "        self.fc2 = nn.Linear(H_size,1)\n",
    "        self.sigmoid = nn.Sigmoid()\n",
    "    def forward(self, x):\n",
    "        x = self.fc1(x)\n",
    "        x = self.relu(x)\n",
    "        x = self.fc2(x)\n",
    "        x = self.sigmoid(x)\n",
    "        return x"
   ]
  },
  {
   "cell_type": "code",
   "execution_count": 8,
   "metadata": {},
   "outputs": [],
   "source": [
    "### create a model with pytorch#####\n",
    "class Net_5(nn.Module):\n",
    "    def __init__(self,size):\n",
    "        super(Net_5, self).__init__()\n",
    "        self.fc1 = nn.Linear(size,5)\n",
    "        self.relu = nn.ReLU()\n",
    "        self.fc2 = nn.Linear(5,1)\n",
    "        self.sigmoid = nn.Sigmoid()\n",
    "    def forward(self, x):\n",
    "        x = self.fc1(x)\n",
    "        x = self.relu(x)\n",
    "        x = self.fc2(x)\n",
    "        x = self.sigmoid(x)\n",
    "        return x"
   ]
  },
  {
   "cell_type": "code",
   "execution_count": 9,
   "metadata": {},
   "outputs": [],
   "source": [
    "train_data = pd.read_csv('train.txt',sep=',')\n",
    "test_data = pd.read_csv('test.txt',sep=',')"
   ]
  },
  {
   "cell_type": "code",
   "execution_count": 10,
   "metadata": {},
   "outputs": [
    {
     "data": {
      "text/html": [
       "<div>\n",
       "<style scoped>\n",
       "    .dataframe tbody tr th:only-of-type {\n",
       "        vertical-align: middle;\n",
       "    }\n",
       "\n",
       "    .dataframe tbody tr th {\n",
       "        vertical-align: top;\n",
       "    }\n",
       "\n",
       "    .dataframe thead th {\n",
       "        text-align: right;\n",
       "    }\n",
       "</style>\n",
       "<table border=\"1\" class=\"dataframe\">\n",
       "  <thead>\n",
       "    <tr style=\"text-align: right;\">\n",
       "      <th></th>\n",
       "      <th>date</th>\n",
       "      <th>Temperature</th>\n",
       "      <th>Humidity</th>\n",
       "      <th>Light</th>\n",
       "      <th>CO2</th>\n",
       "      <th>HumidityRatio</th>\n",
       "      <th>Occupancy</th>\n",
       "    </tr>\n",
       "  </thead>\n",
       "  <tbody>\n",
       "    <tr>\n",
       "      <td>1</td>\n",
       "      <td>2015-02-04 17:51:00</td>\n",
       "      <td>23.18</td>\n",
       "      <td>27.2720</td>\n",
       "      <td>426.0</td>\n",
       "      <td>721.25</td>\n",
       "      <td>0.004793</td>\n",
       "      <td>1</td>\n",
       "    </tr>\n",
       "    <tr>\n",
       "      <td>2</td>\n",
       "      <td>2015-02-04 17:51:59</td>\n",
       "      <td>23.15</td>\n",
       "      <td>27.2675</td>\n",
       "      <td>429.5</td>\n",
       "      <td>714.00</td>\n",
       "      <td>0.004783</td>\n",
       "      <td>1</td>\n",
       "    </tr>\n",
       "    <tr>\n",
       "      <td>3</td>\n",
       "      <td>2015-02-04 17:53:00</td>\n",
       "      <td>23.15</td>\n",
       "      <td>27.2450</td>\n",
       "      <td>426.0</td>\n",
       "      <td>713.50</td>\n",
       "      <td>0.004779</td>\n",
       "      <td>1</td>\n",
       "    </tr>\n",
       "    <tr>\n",
       "      <td>4</td>\n",
       "      <td>2015-02-04 17:54:00</td>\n",
       "      <td>23.15</td>\n",
       "      <td>27.2000</td>\n",
       "      <td>426.0</td>\n",
       "      <td>708.25</td>\n",
       "      <td>0.004772</td>\n",
       "      <td>1</td>\n",
       "    </tr>\n",
       "    <tr>\n",
       "      <td>5</td>\n",
       "      <td>2015-02-04 17:55:00</td>\n",
       "      <td>23.10</td>\n",
       "      <td>27.2000</td>\n",
       "      <td>426.0</td>\n",
       "      <td>704.50</td>\n",
       "      <td>0.004757</td>\n",
       "      <td>1</td>\n",
       "    </tr>\n",
       "  </tbody>\n",
       "</table>\n",
       "</div>"
      ],
      "text/plain": [
       "                  date  Temperature  Humidity  Light     CO2  HumidityRatio  \\\n",
       "1  2015-02-04 17:51:00        23.18   27.2720  426.0  721.25       0.004793   \n",
       "2  2015-02-04 17:51:59        23.15   27.2675  429.5  714.00       0.004783   \n",
       "3  2015-02-04 17:53:00        23.15   27.2450  426.0  713.50       0.004779   \n",
       "4  2015-02-04 17:54:00        23.15   27.2000  426.0  708.25       0.004772   \n",
       "5  2015-02-04 17:55:00        23.10   27.2000  426.0  704.50       0.004757   \n",
       "\n",
       "   Occupancy  \n",
       "1          1  \n",
       "2          1  \n",
       "3          1  \n",
       "4          1  \n",
       "5          1  "
      ]
     },
     "execution_count": 10,
     "metadata": {},
     "output_type": "execute_result"
    }
   ],
   "source": [
    "train_data.head()"
   ]
  },
  {
   "cell_type": "code",
   "execution_count": 11,
   "metadata": {},
   "outputs": [],
   "source": [
    "train_numpy = train_data.values\n",
    "labels = train_numpy[:,-1]\n",
    "labels= labels.astype('float64')\n",
    "labels= torch.Tensor(labels)\n",
    "train_sub = train_data.drop(['date','Occupancy'],axis=1)\n",
    "x_train = changeToTensor(train_sub)"
   ]
  },
  {
   "cell_type": "code",
   "execution_count": 12,
   "metadata": {},
   "outputs": [],
   "source": [
    "labels = labels.unsqueeze(1)"
   ]
  },
  {
   "cell_type": "code",
   "execution_count": 13,
   "metadata": {},
   "outputs": [
    {
     "data": {
      "text/plain": [
       "(torch.Size([8143, 5]), torch.Size([8143, 1]))"
      ]
     },
     "execution_count": 13,
     "metadata": {},
     "output_type": "execute_result"
    }
   ],
   "source": [
    "x_train.shape, labels.shape"
   ]
  },
  {
   "cell_type": "code",
   "execution_count": 14,
   "metadata": {},
   "outputs": [],
   "source": [
    "model = Net_5(x_train.shape[1])"
   ]
  },
  {
   "cell_type": "code",
   "execution_count": 15,
   "metadata": {},
   "outputs": [
    {
     "data": {
      "text/plain": [
       "Net_5(\n",
       "  (fc1): Linear(in_features=5, out_features=5, bias=True)\n",
       "  (relu): ReLU()\n",
       "  (fc2): Linear(in_features=5, out_features=1, bias=True)\n",
       "  (sigmoid): Sigmoid()\n",
       ")"
      ]
     },
     "execution_count": 15,
     "metadata": {},
     "output_type": "execute_result"
    }
   ],
   "source": [
    "model"
   ]
  },
  {
   "cell_type": "code",
   "execution_count": 16,
   "metadata": {},
   "outputs": [],
   "source": [
    "criteria= nn.BCELoss()\n",
    "optimizer = torch.optim.Adam(model.parameters(),lr=0.001)"
   ]
  },
  {
   "cell_type": "code",
   "execution_count": 17,
   "metadata": {},
   "outputs": [
    {
     "name": "stdout",
     "output_type": "stream",
     "text": [
      "For epoch  1 loss is  0.7915366888046265\n",
      "For epoch  2 loss is  0.7906038165092468\n",
      "For epoch  3 loss is  0.7896729707717896\n",
      "For epoch  4 loss is  0.7887412905693054\n",
      "For epoch  5 loss is  0.7878088355064392\n",
      "For epoch  6 loss is  0.7868742942810059\n",
      "For epoch  7 loss is  0.785940408706665\n",
      "For epoch  8 loss is  0.7850098609924316\n",
      "For epoch  9 loss is  0.78407883644104\n",
      "For epoch  10 loss is  0.7831347584724426\n",
      "For epoch  11 loss is  0.7822028398513794\n",
      "For epoch  12 loss is  0.781270444393158\n",
      "For epoch  13 loss is  0.7803401350975037\n",
      "For epoch  14 loss is  0.7794138789176941\n",
      "For epoch  15 loss is  0.7784876823425293\n",
      "For epoch  16 loss is  0.777561366558075\n",
      "For epoch  17 loss is  0.7766348719596863\n",
      "For epoch  18 loss is  0.7757049798965454\n",
      "For epoch  19 loss is  0.7747782468795776\n",
      "For epoch  20 loss is  0.7738546133041382\n",
      "For epoch  21 loss is  0.7729277014732361\n",
      "For epoch  22 loss is  0.7719901204109192\n",
      "For epoch  23 loss is  0.7710611820220947\n",
      "For epoch  24 loss is  0.770133376121521\n",
      "For epoch  25 loss is  0.7692050337791443\n",
      "For epoch  26 loss is  0.7682720422744751\n",
      "For epoch  27 loss is  0.7673368453979492\n",
      "For epoch  28 loss is  0.7664095163345337\n",
      "For epoch  29 loss is  0.7654762864112854\n",
      "For epoch  30 loss is  0.764543354511261\n",
      "For epoch  31 loss is  0.7636131644248962\n",
      "For epoch  32 loss is  0.7626841068267822\n",
      "For epoch  33 loss is  0.7617518305778503\n",
      "For epoch  34 loss is  0.7608144879341125\n",
      "For epoch  35 loss is  0.7598830461502075\n",
      "For epoch  36 loss is  0.7589538097381592\n",
      "For epoch  37 loss is  0.758023738861084\n",
      "For epoch  38 loss is  0.7570947408676147\n",
      "For epoch  39 loss is  0.7561683058738708\n",
      "For epoch  40 loss is  0.755240797996521\n",
      "For epoch  41 loss is  0.754321277141571\n",
      "For epoch  42 loss is  0.7533968091011047\n",
      "For epoch  43 loss is  0.7524744272232056\n",
      "For epoch  44 loss is  0.751552939414978\n",
      "For epoch  45 loss is  0.7506359219551086\n",
      "For epoch  46 loss is  0.749718427658081\n",
      "For epoch  47 loss is  0.7488003373146057\n",
      "For epoch  48 loss is  0.7478859424591064\n",
      "For epoch  49 loss is  0.7469685077667236\n",
      "For epoch  50 loss is  0.7460461258888245\n",
      "For epoch  51 loss is  0.745122492313385\n",
      "For epoch  52 loss is  0.7441964149475098\n",
      "For epoch  53 loss is  0.7432650923728943\n",
      "For epoch  54 loss is  0.7423259615898132\n",
      "For epoch  55 loss is  0.7413766980171204\n",
      "For epoch  56 loss is  0.7404197454452515\n",
      "For epoch  57 loss is  0.739457368850708\n",
      "For epoch  58 loss is  0.7384915947914124\n",
      "For epoch  59 loss is  0.7375211715698242\n",
      "For epoch  60 loss is  0.7365447878837585\n",
      "For epoch  61 loss is  0.7355605363845825\n",
      "For epoch  62 loss is  0.734574556350708\n",
      "For epoch  63 loss is  0.7335869669914246\n",
      "For epoch  64 loss is  0.7325977683067322\n",
      "For epoch  65 loss is  0.7316089272499084\n",
      "For epoch  66 loss is  0.7306200861930847\n",
      "For epoch  67 loss is  0.7296310067176819\n",
      "For epoch  68 loss is  0.7286465764045715\n",
      "For epoch  69 loss is  0.7276591658592224\n",
      "For epoch  70 loss is  0.7266749143600464\n",
      "For epoch  71 loss is  0.725689709186554\n",
      "For epoch  72 loss is  0.7247138023376465\n",
      "For epoch  73 loss is  0.7237316370010376\n",
      "For epoch  74 loss is  0.7227486371994019\n",
      "For epoch  75 loss is  0.7217762470245361\n",
      "For epoch  76 loss is  0.720803439617157\n",
      "For epoch  77 loss is  0.7198315858840942\n",
      "For epoch  78 loss is  0.7188834547996521\n",
      "For epoch  79 loss is  0.7179480791091919\n",
      "For epoch  80 loss is  0.7170099020004272\n",
      "For epoch  81 loss is  0.7160741686820984\n",
      "For epoch  82 loss is  0.7151319980621338\n",
      "For epoch  83 loss is  0.7141842842102051\n",
      "For epoch  84 loss is  0.7132343053817749\n",
      "For epoch  85 loss is  0.7122781276702881\n",
      "For epoch  86 loss is  0.7113229036331177\n",
      "For epoch  87 loss is  0.7103605270385742\n",
      "For epoch  88 loss is  0.709395706653595\n",
      "For epoch  89 loss is  0.7084372043609619\n",
      "For epoch  90 loss is  0.7074719667434692\n",
      "For epoch  91 loss is  0.7065010070800781\n",
      "For epoch  92 loss is  0.7055336236953735\n",
      "For epoch  93 loss is  0.7045537233352661\n",
      "For epoch  94 loss is  0.7035698890686035\n",
      "For epoch  95 loss is  0.7025810480117798\n",
      "For epoch  96 loss is  0.7015758156776428\n",
      "For epoch  97 loss is  0.700562059879303\n",
      "For epoch  98 loss is  0.699554443359375\n",
      "For epoch  99 loss is  0.6985332369804382\n",
      "For epoch  100 loss is  0.6975095868110657\n"
     ]
    }
   ],
   "source": [
    "num_epochs = 100\n",
    "loss_to_plot_batch=[]\n",
    "for e in range(num_epochs):\n",
    "    e_losses = train_epoch(model,optimizer ,criteria,x_train.shape[0])\n",
    "    loss_to_plot_batch.append(e_losses)\n",
    "    print(\"For epoch \",e+1,\"loss is \",e_losses)"
   ]
  },
  {
   "cell_type": "code",
   "execution_count": 18,
   "metadata": {},
   "outputs": [],
   "source": [
    "test_numpy = test_data.values\n",
    "output1 = test_numpy[:,-1]\n",
    "output1=output1.astype('float64')\n",
    "test_sub = test_data.drop(['date','Occupancy'],axis=1)\n",
    "x_test = changeToTensor(test_sub)"
   ]
  },
  {
   "cell_type": "code",
   "execution_count": 19,
   "metadata": {},
   "outputs": [
    {
     "name": "stdout",
     "output_type": "stream",
     "text": [
      "(5, 9752)\n",
      "(9752,)\n",
      "Accuracy is  50.38966365873667\n"
     ]
    }
   ],
   "source": [
    "len(x_test)\n",
    "baseline_accuracy = baselinePrediction(output1)\n",
    "#baseline_accuracy = testingAccuracy(model,x_test,output1)"
   ]
  },
  {
   "cell_type": "code",
   "execution_count": 20,
   "metadata": {},
   "outputs": [],
   "source": [
    "baseline_error= 1-(baseline_accuracy/100)"
   ]
  },
  {
   "cell_type": "code",
   "execution_count": 21,
   "metadata": {},
   "outputs": [],
   "source": [
    "baseline_error_plot=[baseline_error]*100"
   ]
  },
  {
   "cell_type": "code",
   "execution_count": 22,
   "metadata": {},
   "outputs": [],
   "source": [
    "model1 = Net_5(x_train.shape[1])"
   ]
  },
  {
   "cell_type": "code",
   "execution_count": 23,
   "metadata": {},
   "outputs": [
    {
     "data": {
      "text/plain": [
       "Net_5(\n",
       "  (fc1): Linear(in_features=5, out_features=5, bias=True)\n",
       "  (relu): ReLU()\n",
       "  (fc2): Linear(in_features=5, out_features=1, bias=True)\n",
       "  (sigmoid): Sigmoid()\n",
       ")"
      ]
     },
     "execution_count": 23,
     "metadata": {},
     "output_type": "execute_result"
    }
   ],
   "source": [
    "model1"
   ]
  },
  {
   "cell_type": "code",
   "execution_count": 24,
   "metadata": {},
   "outputs": [
    {
     "name": "stdout",
     "output_type": "stream",
     "text": [
      "Accuracy for the testing data with learning rate  0.01\n",
      "Accuracy is  99.0053322395406\n",
      "Accuracy for the training data\n",
      "Accuracy is  98.87019525973228\n",
      "Accuracy for the testing data with learning rate  0.02\n",
      "Accuracy is  99.24118129614438\n",
      "Accuracy for the training data\n",
      "Accuracy is  98.77195136927422\n",
      "Accuracy for the testing data with learning rate  0.001\n",
      "Accuracy is  98.97456931911402\n",
      "Accuracy for the training data\n",
      "Accuracy is  97.77723197838635\n",
      "Accuracy for the testing data with learning rate  0.002\n",
      "Accuracy is  99.20016406890895\n",
      "Accuracy for the training data\n",
      "Accuracy is  98.82107331450325\n"
     ]
    },
    {
     "data": {
      "image/png": "[encoded data removed]",
      "text/plain": [
       "<Figure size 432x288 with 1 Axes>"
      ]
     },
     "metadata": {
      "needs_background": "light"
     },
     "output_type": "display_data"
    }
   ],
   "source": [
    "for learning_rate in [0.01,0.02,0.001,0.002]:\n",
    "    num_epochs = 100\n",
    "    e_losses=[]\n",
    "    loss_across_epoch=[]\n",
    "    model1 = Net_5(x_train.shape[1])\n",
    "    optimizer = torch.optim.Adam(model1.parameters(),lr=learning_rate)\n",
    "    for e in range(num_epochs):\n",
    "        e_losses = train_epoch(model1,optimizer ,criteria,100)\n",
    "        #loss_to_plot = sum(e_losses)/len(e_losses)\n",
    "        loss_across_epoch.append(e_losses)\n",
    "    \n",
    "    print(\"Accuracy for the testing data with learning rate \",learning_rate)\n",
    "    dummy=testingAccuracy(model1,x_test,output1)\n",
    "    print(\"Accuracy for the training data\")\n",
    "    dummy=testingAccuracy(model1,x_train,train_numpy[:,-1].astype('float64'))\n",
    "    plt.title('Training loss across epoch vs number of epochs')\n",
    "    plt.plot(loss_across_epoch)\n",
    "    #plt.axhline(y=baseline_error)\n",
    "    \n",
    "plt.plot(baseline_error_plot)\n",
    "plt.legend(['0.01','0.02','0.001','0.002','baselineError'], loc='upper right')\n",
    "plt.show()"
   ]
  },
  {
   "cell_type": "code",
   "execution_count": 25,
   "metadata": {},
   "outputs": [
    {
     "data": {
      "text/plain": [
       "[<matplotlib.lines.Line2D at 0x7f17e4b4f7b8>]"
      ]
     },
     "execution_count": 25,
     "metadata": {},
     "output_type": "execute_result"
    },
    {
     "data": {
      "image/png": "[encoded data removed]",
      "text/plain": [
       "<Figure size 432x288 with 1 Axes>"
      ]
     },
     "metadata": {
      "needs_background": "light"
     },
     "output_type": "display_data"
    }
   ],
   "source": [
    "plt.title('Batch Gradient descent method for training loss vs epoch')\n",
    "plt.plot(loss_to_plot_batch)"
   ]
  },
  {
   "cell_type": "code",
   "execution_count": 26,
   "metadata": {},
   "outputs": [
    {
     "name": "stdout",
     "output_type": "stream",
     "text": [
      "Accuracy is  78.76703917475132\n",
      "Accuracy is  78.98892534864643\n",
      "Accuracy is  96.62286626550411\n",
      "Accuracy is  88.07424118129614\n",
      "Accuracy is  96.1930492447501\n",
      "Accuracy is  89.54060705496309\n",
      "Accuracy is  97.8754758688444\n",
      "Accuracy is  93.73461853978671\n",
      "Accuracy is  98.0842441360678\n",
      "Accuracy is  96.63658736669402\n"
     ]
    },
    {
     "data": {
      "image/png": "[encoded data removed]",
      "text/plain": [
       "<Figure size 432x288 with 1 Axes>"
      ]
     },
     "metadata": {
      "needs_background": "light"
     },
     "output_type": "display_data"
    }
   ],
   "source": [
    "criteria= nn.BCELoss()\n",
    "epochs=100\n",
    "x_axis=[1,2,5,10,20]\n",
    "training_accuracy_every_H=[]\n",
    "testing_accuracy_every_H=[]\n",
    "for H in [1,2,5,10,20]:\n",
    "    model = Net_H(x_train.shape[1],H)\n",
    "    optimizer = torch.optim.Adam(model.parameters(),lr=0.1)\n",
    "    scheduler = StepLR(optimizer, step_size=30, gamma=0.1)\n",
    "    for e in range(epochs):\n",
    "        scheduler.step()\n",
    "        e_losses = train_epoch(model,optimizer ,criteria,x_train.shape[0])\n",
    "    training_accuracy_every_H.append(testingAccuracy(model,x_train,train_numpy[:,-1].astype('float64')))\n",
    "    testing_accuracy_every_H.append(testingAccuracy(model,x_test,output1))\n",
    "plt.title('Training and Testing accuracy across H vs values of H')\n",
    "plt.plot(x_axis,training_accuracy_every_H)\n",
    "plt.plot(x_axis,testing_accuracy_every_H)\n",
    "plt.legend(['Training accuracy','Tesing accuracy'], loc='upper right')\n",
    "plt.show()"
   ]
  },
  {
   "cell_type": "code",
   "execution_count": 27,
   "metadata": {},
   "outputs": [
    {
     "data": {
      "text/plain": [
       "[<matplotlib.lines.Line2D at 0x7f17d835c780>]"
      ]
     },
     "execution_count": 27,
     "metadata": {},
     "output_type": "execute_result"
    },
    {
     "data": {
      "image/png": "[encoded data removed]",
      "text/plain": [
       "<Figure size 432x288 with 1 Axes>"
      ]
     },
     "metadata": {
      "needs_background": "light"
     },
     "output_type": "display_data"
    }
   ],
   "source": [
    "criteria= nn.MSELoss()\n",
    "model = Net_5(x_train.shape[1])\n",
    "optimizer = torch.optim.Adam(model.parameters(),lr=0.001)\n",
    "num_epochs = 100\n",
    "loss_to_plot_batch=[]\n",
    "for e in range(num_epochs):\n",
    "    e_losses = train_epoch(model,optimizer ,criteria,x_train.shape[0])\n",
    "    loss_to_plot_batch.append(e_losses)\n",
    "plt.title('Batch Gradient descent method for training loss vs epoch')\n",
    "plt.plot(loss_to_plot_batch)"
   ]
  },
  {
   "cell_type": "code",
   "execution_count": 28,
   "metadata": {},
   "outputs": [
    {
     "name": "stdout",
     "output_type": "stream",
     "text": [
      "tensor([[-2.7017e-01, -2.1349e-01,  1.9816e-01,  3.0382e-01, -4.4146e-01],\n",
      "        [-2.4241e-01,  2.3051e-01, -3.4593e-01,  2.3643e-01, -2.3157e-01],\n",
      "        [ 9.7764e-02,  6.0441e-02,  3.5787e-01,  5.9656e-02, -2.7905e-01],\n",
      "        [-2.1667e-01,  3.1909e-01, -3.6185e-01,  1.8973e-04,  6.2297e-02],\n",
      "        [ 2.1937e-01, -2.0601e-01, -1.2107e-01,  2.8637e-01, -5.3874e-01]])\n",
      "tensor([-0.4290, -0.4088, -0.1863,  0.0749,  0.0089])\n",
      "tensor([[-0.1888,  0.1682, -0.2534, -0.4658, -0.2430]])\n",
      "tensor([-0.0694])\n"
     ]
    }
   ],
   "source": [
    "for param in model.parameters ():\n",
    "    print(param.data)"
   ]
  },
  {
   "cell_type": "code",
   "execution_count": 29,
   "metadata": {},
   "outputs": [
    {
     "name": "stdout",
     "output_type": "stream",
     "text": [
      "Accuracy is  78.98892534864643\n"
     ]
    }
   ],
   "source": [
    "baseline_accuracy = testingAccuracy(model,x_test,output1)\n",
    "baseline_error= 1-(baseline_accuracy/100)\n",
    "baseline_error_plot=[baseline_error]*100"
   ]
  },
  {
   "cell_type": "code",
   "execution_count": 30,
   "metadata": {},
   "outputs": [
    {
     "name": "stdout",
     "output_type": "stream",
     "text": [
      "Accuracy for the testing data with learning rate  0.01\n",
      "Accuracy is  99.12838392124692\n",
      "Accuracy for the training data\n",
      "Accuracy is  98.82107331450325\n",
      "Accuracy for the testing data with learning rate  0.02\n",
      "Accuracy is  98.71821164889253\n",
      "Accuracy for the training data\n",
      "Accuracy is  98.84563428711776\n",
      "Accuracy for the testing data with learning rate  0.001\n",
      "Accuracy is  98.96431501230516\n",
      "Accuracy for the training data\n",
      "Accuracy is  98.51406115682181\n",
      "Accuracy for the testing data with learning rate  0.002\n",
      "Accuracy is  99.18990976210009\n",
      "Accuracy for the training data\n",
      "Accuracy is  98.82107331450325\n"
     ]
    },
    {
     "data": {
      "image/png": "[encoded data removed]",
      "text/plain": [
       "<Figure size 432x288 with 1 Axes>"
      ]
     },
     "metadata": {
      "needs_background": "light"
     },
     "output_type": "display_data"
    }
   ],
   "source": [
    "criteria= nn.MSELoss()\n",
    "for learning_rate in [0.01,0.02,0.001,0.002]:\n",
    "    num_epochs = 100\n",
    "    e_losses=[]\n",
    "    loss_across_epoch=[]\n",
    "    model1 = Net_5(x_train.shape[1])\n",
    "    optimizer = torch.optim.Adam(model1.parameters(),lr=learning_rate)\n",
    "    for e in range(num_epochs):\n",
    "        e_losses = train_epoch(model1,optimizer ,criteria,100)\n",
    "        loss_across_epoch.append(e_losses)\n",
    "    \n",
    "    print(\"Accuracy for the testing data with learning rate \",learning_rate)\n",
    "    dummy=testingAccuracy(model1,x_test,output1)\n",
    "    print(\"Accuracy for the training data\")\n",
    "    dummy=testingAccuracy(model1,x_train,train_numpy[:,-1].astype('float64'))\n",
    "    plt.title('Training loss across epoch vs number of epochs')\n",
    "    plt.plot(loss_across_epoch)\n",
    "    \n",
    "plt.plot(baseline_error_plot)\n",
    "plt.legend(['0.01','0.02','0.001','0.002','baselineError'], loc='upper right')\n",
    "plt.show()"
   ]
  },
  {
   "cell_type": "code",
   "execution_count": 31,
   "metadata": {},
   "outputs": [
    {
     "name": "stdout",
     "output_type": "stream",
     "text": [
      "Accuracy is  78.76703917475132\n",
      "Accuracy is  78.98892534864643\n",
      "Accuracy is  96.15620778582831\n",
      "Accuracy is  88.21780147662018\n",
      "Accuracy is  96.47550042981702\n",
      "Accuracy is  87.73584905660378\n",
      "Accuracy is  96.81935404642023\n",
      "Accuracy is  89.88925348646431\n",
      "Accuracy is  98.83335380081051\n",
      "Accuracy is  98.59515996718622\n"
     ]
    },
    {
     "data": {
      "image/png": "[encoded data removed]",
      "text/plain": [
       "<Figure size 432x288 with 1 Axes>"
      ]
     },
     "metadata": {
      "needs_background": "light"
     },
     "output_type": "display_data"
    }
   ],
   "source": [
    "epochs=100\n",
    "x_axis=[1,2,5,10,20]\n",
    "training_accuracy_every_H=[]\n",
    "testing_accuracy_every_H=[]\n",
    "criteria= nn.MSELoss()\n",
    "for H in [1,2,5,10,20]:\n",
    "    model = Net_H(x_train.shape[1],H)\n",
    "    optimizer = torch.optim.Adam(model.parameters(),lr=0.1)\n",
    "    scheduler = StepLR(optimizer, step_size=30, gamma=0.1)\n",
    "    for e in range(epochs):\n",
    "        scheduler.step()\n",
    "        e_losses = train_epoch(model,optimizer,criteria,x_train.shape[0])\n",
    "    training_accuracy_every_H.append(testingAccuracy(model,x_train,train_numpy[:,-1].astype('float64')))\n",
    "    testing_accuracy_every_H.append(testingAccuracy(model,x_test,output1))\n",
    "plt.title('Training and Testing accuracy across H vs values of H')\n",
    "plt.plot(x_axis,training_accuracy_every_H)\n",
    "plt.plot(x_axis,testing_accuracy_every_H)\n",
    "plt.legend(['Training accuracy','Tesing accuracy'], loc='upper right')\n",
    "plt.show()"
   ]
  },
  {
   "cell_type": "code",
   "execution_count": 32,
   "metadata": {},
   "outputs": [
    {
     "name": "stdout",
     "output_type": "stream",
     "text": [
      "1   15\n",
      "Testing accuracy for the 2 layer for the model with H1  1  and H2  15\n",
      "Accuracy is  84.44421657095981\n",
      "1   120\n",
      "Testing accuracy for the 2 layer for the model with H1  1  and H2  120\n",
      "Accuracy is  80.98851517637408\n",
      "1   220\n",
      "Testing accuracy for the 2 layer for the model with H1  1  and H2  220\n",
      "Accuracy is  78.98892534864643\n",
      "1   230\n",
      "Testing accuracy for the 2 layer for the model with H1  1  and H2  230\n",
      "Accuracy is  78.98892534864643\n",
      "2   15\n",
      "Testing accuracy for the 2 layer for the model with H1  2  and H2  15\n",
      "Accuracy is  81.3884331419196\n",
      "2   120\n",
      "Testing accuracy for the 2 layer for the model with H1  2  and H2  120\n",
      "Accuracy is  87.74610336341263\n",
      "2   220\n",
      "Testing accuracy for the 2 layer for the model with H1  2  and H2  220\n",
      "Accuracy is  97.36464315012306\n",
      "2   230\n",
      "Testing accuracy for the 2 layer for the model with H1  2  and H2  230\n",
      "Accuracy is  78.98892534864643\n",
      "5   15\n",
      "Testing accuracy for the 2 layer for the model with H1  5  and H2  15\n",
      "Accuracy is  93.56029532403609\n",
      "5   120\n",
      "Testing accuracy for the 2 layer for the model with H1  5  and H2  120\n",
      "Accuracy is  87.26415094339622\n",
      "5   220\n",
      "Testing accuracy for the 2 layer for the model with H1  5  and H2  220\n",
      "Accuracy is  94.38063986874488\n",
      "5   230\n",
      "Testing accuracy for the 2 layer for the model with H1  5  and H2  230\n",
      "Accuracy is  97.0467596390484\n",
      "10   15\n",
      "Testing accuracy for the 2 layer for the model with H1  10  and H2  15\n",
      "Accuracy is  93.90894175553733\n",
      "10   120\n",
      "Testing accuracy for the 2 layer for the model with H1  10  and H2  120\n",
      "Accuracy is  95.63166529942576\n",
      "10   220\n",
      "Testing accuracy for the 2 layer for the model with H1  10  and H2  220\n",
      "Accuracy is  98.06193601312552\n",
      "10   230\n",
      "Testing accuracy for the 2 layer for the model with H1  10  and H2  230\n",
      "Accuracy is  94.22682526661198\n",
      "20   15\n",
      "Testing accuracy for the 2 layer for the model with H1  20  and H2  15\n",
      "Accuracy is  90.75061525840853\n",
      "20   120\n",
      "Testing accuracy for the 2 layer for the model with H1  20  and H2  120\n",
      "Accuracy is  98.84126333059885\n",
      "20   220\n",
      "Testing accuracy for the 2 layer for the model with H1  20  and H2  220\n",
      "Accuracy is  98.32854799015587\n",
      "20   230\n",
      "Testing accuracy for the 2 layer for the model with H1  20  and H2  230\n",
      "Accuracy is  98.98482362592289\n"
     ]
    }
   ],
   "source": [
    "epochs=100\n",
    "for H1 in [1,2,5,10,20]:\n",
    "    for H2 in [15,120,220,230]:\n",
    "        print(H1,' ',H2)\n",
    "        criteria= nn.BCELoss()\n",
    "        model11 = Net_2Layer(x_train.shape[1],H1,H2)\n",
    "        optimizer = torch.optim.Adam(model11.parameters(),lr=0.01)\n",
    "        for e in range(epochs):\n",
    "            e_losses = train_epoch(model11,optimizer ,criteria,x_train.shape[0])\n",
    "        print(\"Testing accuracy for the 2 layer for the model with H1 \",H1,\" and H2 \",H2)\n",
    "        testingAccuracy(model11,x_test,output1)\n",
    "        "
   ]
  },
  {
   "cell_type": "code",
   "execution_count": null,
   "metadata": {},
   "outputs": [],
   "source": []
  }
 ],
 "metadata": {
  "kernelspec": {
   "display_name": "Python 3",
   "language": "python",
   "name": "python3"
  },
  "language_info": {
   "codemirror_mode": {
    "name": "ipython",
    "version": 3
   },
   "file_extension": ".py",
   "mimetype": "text/x-python",
   "name": "python",
   "nbconvert_exporter": "python",
   "pygments_lexer": "ipython3",
   "version": "3.6.7"
  }
 },
 "nbformat": 4,
 "nbformat_minor": 2
}
