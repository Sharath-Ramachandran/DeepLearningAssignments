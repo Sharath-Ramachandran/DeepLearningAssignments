{
 "cells": [
  {
   "cell_type": "code",
   "execution_count": 1,
   "metadata": {
    "_cell_guid": "b1076dfc-b9ad-4769-8c92-a6c4dae69d19",
    "_uuid": "8f2839f25d086af736a60e9eeb907d3b93b6e0e5"
   },
   "outputs": [],
   "source": [
    "import numpy as np # linear algebra\n",
    "import pandas as pd # data processing, CSV file I/O (e.g. pd.read_csv)\n"
   ]
  },
  {
   "cell_type": "code",
   "execution_count": 2,
   "metadata": {
    "_cell_guid": "79c7e3d0-c299-4dcb-8224-4455121ee9b0",
    "_uuid": "d629ff2d2480ee46fbb7e2d37f6b5fab8052498a"
   },
   "outputs": [],
   "source": [
    "train = pd.read_csv(\"house-prices-advanced-regression-techniques/train.csv\")\n",
    "test = pd.read_csv(\"house-prices-advanced-regression-techniques/test.csv\")"
   ]
  },
  {
   "cell_type": "code",
   "execution_count": 3,
   "metadata": {},
   "outputs": [
    {
     "data": {
      "text/plain": [
       "((1460, 81), (1459, 80))"
      ]
     },
     "execution_count": 3,
     "metadata": {},
     "output_type": "execute_result"
    }
   ],
   "source": [
    "train.shape, test.shape\n"
   ]
  },
  {
   "cell_type": "code",
   "execution_count": 4,
   "metadata": {},
   "outputs": [
    {
     "data": {
      "text/plain": [
       "Electrical         1\n",
       "MasVnrType         8\n",
       "MasVnrArea         8\n",
       "BsmtQual          37\n",
       "BsmtCond          37\n",
       "BsmtFinType1      37\n",
       "BsmtFinType2      38\n",
       "BsmtExposure      38\n",
       "GarageQual        81\n",
       "GarageFinish      81\n",
       "GarageYrBlt       81\n",
       "GarageType        81\n",
       "GarageCond        81\n",
       "LotFrontage      259\n",
       "FireplaceQu      690\n",
       "Fence           1179\n",
       "Alley           1369\n",
       "MiscFeature     1406\n",
       "dtype: int64"
      ]
     },
     "execution_count": 4,
     "metadata": {},
     "output_type": "execute_result"
    }
   ],
   "source": [
    "train.isna().sum().sort_values()[-19:-1]"
   ]
  },
  {
   "cell_type": "code",
   "execution_count": 5,
   "metadata": {},
   "outputs": [
    {
     "data": {
      "text/plain": [
       "GarageCars         1\n",
       "GarageArea         1\n",
       "KitchenQual        1\n",
       "Exterior1st        1\n",
       "SaleType           1\n",
       "TotalBsmtSF        1\n",
       "BsmtUnfSF          1\n",
       "Exterior2nd        1\n",
       "BsmtFinSF1         1\n",
       "BsmtFinSF2         1\n",
       "BsmtFullBath       2\n",
       "Functional         2\n",
       "Utilities          2\n",
       "BsmtHalfBath       2\n",
       "MSZoning           4\n",
       "MasVnrArea        15\n",
       "MasVnrType        16\n",
       "BsmtFinType2      42\n",
       "BsmtFinType1      42\n",
       "BsmtExposure      44\n",
       "BsmtQual          44\n",
       "BsmtCond          45\n",
       "GarageType        76\n",
       "GarageFinish      78\n",
       "GarageYrBlt       78\n",
       "GarageQual        78\n",
       "GarageCond        78\n",
       "LotFrontage      227\n",
       "FireplaceQu      730\n",
       "Fence           1169\n",
       "Alley           1352\n",
       "MiscFeature     1408\n",
       "dtype: int64"
      ]
     },
     "execution_count": 5,
     "metadata": {},
     "output_type": "execute_result"
    }
   ],
   "source": [
    "test.isna().sum().sort_values()[-33:-1]"
   ]
  },
  {
   "cell_type": "code",
   "execution_count": 6,
   "metadata": {},
   "outputs": [],
   "source": [
    "#Filling with \"NA\" string\n",
    "for col in ['Alley','FireplaceQu','Fence','MiscFeature','PoolQC','GarageQual','GarageFinish','GarageYrBlt','GarageType','GarageCond','BsmtQual','BsmtCond','BsmtFinType1','BsmtFinType2','BsmtExposure']:\n",
    "    train[col].fillna('NA', inplace=True)\n",
    "    test[col].fillna('NA', inplace=True)"
   ]
  },
  {
   "cell_type": "code",
   "execution_count": 7,
   "metadata": {},
   "outputs": [
    {
     "data": {
      "text/plain": [
       "60.0"
      ]
     },
     "execution_count": 7,
     "metadata": {},
     "output_type": "execute_result"
    }
   ],
   "source": [
    "train[\"LotFrontage\"].value_counts().to_frame().index[0]"
   ]
  },
  {
   "cell_type": "code",
   "execution_count": 8,
   "metadata": {},
   "outputs": [],
   "source": [
    "#Fill the most commonly occuring number i.e mode for the strings\n",
    "train['LotFrontage'].fillna(train[\"LotFrontage\"].value_counts().to_frame().index[0], inplace=True)\n",
    "test['LotFrontage'].fillna(test[\"LotFrontage\"].value_counts().to_frame().index[0], inplace=True)\n",
    "train['Electrical'].fillna('SBrkr',inplace=True)\n"
   ]
  },
  {
   "cell_type": "code",
   "execution_count": 9,
   "metadata": {},
   "outputs": [],
   "source": [
    "for col in []:\n",
    "    train[col].fillna('NA',inplace=True)\n",
    "    test[col].fillna('NA',inplace=True)"
   ]
  },
  {
   "cell_type": "code",
   "execution_count": 10,
   "metadata": {},
   "outputs": [],
   "source": [
    "categorical = ['KitchenQual','Exterior1st','SaleType','Exterior2nd','Functional','Utilities','MSZoning']\n",
    "for i in categorical:\n",
    "    train[i].fillna(train[i].value_counts().to_frame().index[0], inplace=True)\n",
    "    test[i].fillna(test[i].value_counts().to_frame().index[0], inplace=True)"
   ]
  },
  {
   "cell_type": "code",
   "execution_count": 11,
   "metadata": {},
   "outputs": [
    {
     "name": "stdout",
     "output_type": "stream",
     "text": [
      "BsmtFinType1    0\n",
      "BsmtExposure    0\n",
      "BsmtCond        0\n",
      "BsmtQual        0\n",
      "Foundation      0\n",
      "ExterCond       0\n",
      "ExterQual       0\n",
      "Exterior2nd     0\n",
      "Exterior1st     0\n",
      "RoofMatl        0\n",
      "RoofStyle       0\n",
      "Heating         0\n",
      "SalePrice       0\n",
      "MasVnrArea      8\n",
      "dtype: int64\n",
      "BsmtCond         0\n",
      "YearRemodAdd     0\n",
      "ExterCond        0\n",
      "Foundation       0\n",
      "BsmtQual         0\n",
      "TotalBsmtSF      1\n",
      "BsmtFinSF1       1\n",
      "BsmtUnfSF        1\n",
      "GarageArea       1\n",
      "GarageCars       1\n",
      "BsmtFinSF2       1\n",
      "BsmtHalfBath     2\n",
      "BsmtFullBath     2\n",
      "MasVnrArea      15\n",
      "dtype: int64\n"
     ]
    }
   ],
   "source": [
    "print(train.isna().sum().sort_values()[-15:-1])\n",
    "print(test.isna().sum().sort_values()[-15:-1])"
   ]
  },
  {
   "cell_type": "code",
   "execution_count": null,
   "metadata": {},
   "outputs": [],
   "source": []
  },
  {
   "cell_type": "code",
   "execution_count": null,
   "metadata": {},
   "outputs": [],
   "source": []
  },
  {
   "cell_type": "code",
   "execution_count": null,
   "metadata": {},
   "outputs": [],
   "source": []
  },
  {
   "cell_type": "code",
   "execution_count": null,
   "metadata": {},
   "outputs": [],
   "source": []
  },
  {
   "cell_type": "code",
   "execution_count": null,
   "metadata": {},
   "outputs": [],
   "source": []
  },
  {
   "cell_type": "code",
   "execution_count": null,
   "metadata": {},
   "outputs": [],
   "source": []
  },
  {
   "cell_type": "code",
   "execution_count": null,
   "metadata": {},
   "outputs": [],
   "source": []
  },
  {
   "cell_type": "code",
   "execution_count": null,
   "metadata": {},
   "outputs": [],
   "source": []
  },
  {
   "cell_type": "code",
   "execution_count": null,
   "metadata": {},
   "outputs": [],
   "source": []
  }
 ],
 "metadata": {
  "kernelspec": {
   "display_name": "Python 3",
   "language": "python",
   "name": "python3"
  },
  "language_info": {
   "codemirror_mode": {
    "name": "ipython",
    "version": 3
   },
   "file_extension": ".py",
   "mimetype": "text/x-python",
   "name": "python",
   "nbconvert_exporter": "python",
   "pygments_lexer": "ipython3",
   "version": "3.6.7"
  }
 },
 "nbformat": 4,
 "nbformat_minor": 1
}
